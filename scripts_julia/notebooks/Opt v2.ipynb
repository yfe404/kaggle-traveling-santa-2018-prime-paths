{
 "cells": [
  {
   "cell_type": "code",
   "execution_count": 1,
   "metadata": {},
   "outputs": [],
   "source": [
    "import Pkg; Pkg.activate(\".\")\n",
    "push!(LOAD_PATH, \"src/\");"
   ]
  },
  {
   "cell_type": "code",
   "execution_count": 2,
   "metadata": {},
   "outputs": [],
   "source": [
    "using BenchmarkTools\n",
    "using ProgressMeter\n",
    "using PyPlot\n",
    "using Random\n",
    "using Santa"
   ]
  },
  {
   "cell_type": "code",
   "execution_count": null,
   "metadata": {},
   "outputs": [],
   "source": []
  },
  {
   "cell_type": "code",
   "execution_count": 3,
   "metadata": {},
   "outputs": [
    {
     "data": {
      "text/plain": [
       "1.5169178997302188e6"
      ]
     },
     "execution_count": 3,
     "metadata": {},
     "output_type": "execute_result"
    }
   ],
   "source": [
    "cities = read_cities(\"../input/cities.csv\")\n",
    "path = read_path(cities, \"/home/maxmouchet/Downloads/1516917.csv\")\n",
    "verify!(path)\n",
    "score(path)"
   ]
  },
  {
   "cell_type": "code",
   "execution_count": null,
   "metadata": {},
   "outputs": [],
   "source": []
  },
  {
   "cell_type": "code",
   "execution_count": 246,
   "metadata": {},
   "outputs": [
    {
     "data": {
      "text/plain": [
       "(1.5169178997302188e6, 1.5169178997302188e6)"
      ]
     },
     "execution_count": 246,
     "metadata": {},
     "output_type": "execute_result"
    }
   ],
   "source": [
    "# Assume that everything is reversed except the boundaries\n",
    "@inbounds function score_reverse(path; start=1)\n",
    "    dist = 0.0\n",
    "\n",
    "    if (start % 10 == 0) && !path[1].p\n",
    "        dist += distance(path[1], path[end-1])*1.1\n",
    "    else\n",
    "        dist += distance(path[1], path[end-1])\n",
    "    end\n",
    "    \n",
    "    if ((length(path)+start-2) % 10 == 0) && !path[2].p\n",
    "        dist += distance(path[2], path[end])*1.1\n",
    "    else\n",
    "        dist += distance(path[2], path[end])\n",
    "    end\n",
    "    \n",
    "    for i in 2:length(path)-2\n",
    "        if ((i+(start-1)) % 10 == 0) && !path[length(path)-i+1].p\n",
    "            dist += distance(path[length(path)-i+1], path[length(path)-i])*1.1\n",
    "        else\n",
    "            dist += distance(path[length(path)-i+1], path[length(path)-i])\n",
    "        end\n",
    "    end\n",
    "\n",
    "    dist\n",
    "end\n",
    "\n",
    "score(path), score_reverse(reverse(path))"
   ]
  },
  {
   "cell_type": "code",
   "execution_count": 209,
   "metadata": {},
   "outputs": [
    {
     "name": "stdout",
     "output_type": "stream",
     "text": [
      "  0.000878 seconds (7 allocations: 224 bytes)\n",
      "  0.000730 seconds (7 allocations: 224 bytes)\n"
     ]
    }
   ],
   "source": [
    "rev_path = reverse(path);\n",
    "@time score(path);\n",
    "@time score(rev_path);"
   ]
  },
  {
   "cell_type": "code",
   "execution_count": 247,
   "metadata": {},
   "outputs": [
    {
     "data": {
      "text/plain": [
       "nn_opt (generic function with 1 method)"
      ]
     },
     "execution_count": 247,
     "metadata": {},
     "output_type": "execute_result"
    }
   ],
   "source": [
    "function nn_opt(init_path::Vector{City}, start::Int, K::Int)\n",
    "    path = copy(init_path)\n",
    "    best = score(path, start=start)\n",
    "    println(best)\n",
    "    for i = 2:length(path)-1 # Boundaries are left untouched\n",
    "        # i % 1000 == 0 && println(\"$(i)/$(length(path))\")\n",
    "        bv, bj = best, 0\n",
    "        for (_, j) in find_closest_cities(path, path[i], K)\n",
    "            # Protect boundaries\n",
    "            ((j == 1) || (j == length(path))) && continue\n",
    "            # ------------------\n",
    "            #s = score_reverse(view(path, min(i,j)-1:max(i,j)+1), start=start)\n",
    "            reverse!(path, min(i,j), max(i,j))\n",
    "            s  = score(path, start=start)\n",
    "            if s < bv\n",
    "                bv, bj = s, j\n",
    "            end\n",
    "            reverse!(path, min(i,j), max(i,j))\n",
    "        end\n",
    "        if bj != 0\n",
    "            reverse!(path,  min(i,bj), max(i,bj))\n",
    "            best = bv\n",
    "            println(best)\n",
    "        end\n",
    "    end\n",
    "    path\n",
    "end"
   ]
  },
  {
   "cell_type": "code",
   "execution_count": 257,
   "metadata": {},
   "outputs": [
    {
     "name": "stdout",
     "output_type": "stream",
     "text": [
      "7939.053797092918\n",
      "7938.313708129569\n",
      "7936.431158335324\n"
     ]
    }
   ],
   "source": [
    "nn_opt(path[1:1000], 1, 10);"
   ]
  },
  {
   "cell_type": "code",
   "execution_count": null,
   "metadata": {},
   "outputs": [],
   "source": []
  },
  {
   "cell_type": "code",
   "execution_count": 235,
   "metadata": {},
   "outputs": [
    {
     "data": {
      "text/plain": [
       "nn_opt (generic function with 1 method)"
      ]
     },
     "execution_count": 235,
     "metadata": {},
     "output_type": "execute_result"
    }
   ],
   "source": [
    "function nn_opt_v2(init_path::Vector{City}, start::Int, K::Int)\n",
    "    path = copy(init_path)\n",
    "    best = score(path, start=start)\n",
    "    println(best)\n",
    "    for i = 2:length(path)-1 # Boundaries are left untouched\n",
    "        # i % 1000 == 0 && println(\"$(i)/$(length(path))\")\n",
    "        bv, bj = maxintfloat, 0\n",
    "        for (_, j) in find_closest_cities(path, path[i], K)\n",
    "            # Protect boundaries\n",
    "            ((j == 1) || (j == length(path))) && continue\n",
    "            # ------------------\n",
    "            s = score_reverse(view(path, min(i,j)-1:max(i,j)+1), start=start)\n",
    "            #reverse!(path, min(i,j), max(i,j))\n",
    "            #s  = score(path, start=start)\n",
    "            if s < bv\n",
    "                bv, bj = s, j\n",
    "            end\n",
    "            #reverse!(path, min(i,j), max(i,j))\n",
    "        end\n",
    "        if bj != 0\n",
    "            reverse!(path,  min(i,bj), max(i,bj))\n",
    "            best = bv\n",
    "            # TMP, remove new score\n",
    "            println(score(path))\n",
    "        end\n",
    "    end\n",
    "    path\n",
    "end"
   ]
  },
  {
   "cell_type": "code",
   "execution_count": 237,
   "metadata": {},
   "outputs": [
    {
     "name": "stdout",
     "output_type": "stream",
     "text": [
      "  0.000223 seconds (2.44 k allocations: 139.219 KiB)\n"
     ]
    }
   ],
   "source": [
    "@time nn_opt(path[1:100], 1, 10);"
   ]
  },
  {
   "cell_type": "code",
   "execution_count": 238,
   "metadata": {},
   "outputs": [
    {
     "data": {
      "text/plain": [
       "BenchmarkTools.Trial: \n",
       "  memory estimate:  1.06 MiB\n",
       "  allocs estimate:  21107\n",
       "  --------------\n",
       "  minimum time:     1.672 ms (0.00% GC)\n",
       "  median time:      1.688 ms (0.00% GC)\n",
       "  mean time:        1.805 ms (5.72% GC)\n",
       "  maximum time:     5.186 ms (52.31% GC)\n",
       "  --------------\n",
       "  samples:          2768\n",
       "  evals/sample:     1"
      ]
     },
     "execution_count": 238,
     "metadata": {},
     "output_type": "execute_result"
    }
   ],
   "source": [
    "@benchmark nn_opt(path[1:200], 1, 50)"
   ]
  },
  {
   "cell_type": "code",
   "execution_count": 234,
   "metadata": {},
   "outputs": [
    {
     "data": {
      "text/plain": [
       "BenchmarkTools.Trial: \n",
       "  memory estimate:  473.75 KiB\n",
       "  allocs estimate:  1389\n",
       "  --------------\n",
       "  minimum time:     4.507 ms (0.00% GC)\n",
       "  median time:      4.535 ms (0.00% GC)\n",
       "  mean time:        4.608 ms (0.56% GC)\n",
       "  maximum time:     9.378 ms (0.00% GC)\n",
       "  --------------\n",
       "  samples:          1085\n",
       "  evals/sample:     1"
      ]
     },
     "execution_count": 234,
     "metadata": {},
     "output_type": "execute_result"
    }
   ],
   "source": [
    "@benchmark nn_opt(path[1:200], 1, 50)"
   ]
  },
  {
   "cell_type": "code",
   "execution_count": 223,
   "metadata": {},
   "outputs": [
    {
     "data": {
      "text/plain": [
       "BenchmarkTools.Trial: \n",
       "  memory estimate:  78.50 KiB\n",
       "  allocs estimate:  493\n",
       "  --------------\n",
       "  minimum time:     326.103 μs (0.00% GC)\n",
       "  median time:      330.040 μs (0.00% GC)\n",
       "  mean time:        340.696 μs (1.92% GC)\n",
       "  maximum time:     2.368 ms (85.26% GC)\n",
       "  --------------\n",
       "  samples:          10000\n",
       "  evals/sample:     1"
      ]
     },
     "execution_count": 223,
     "metadata": {},
     "output_type": "execute_result"
    }
   ],
   "source": [
    "@benchmark nn_opt(path[1:100], 1, 10)"
   ]
  },
  {
   "cell_type": "code",
   "execution_count": 38,
   "metadata": {},
   "outputs": [
    {
     "name": "stdout",
     "output_type": "stream",
     "text": [
      "  0.000649 seconds (497 allocations: 78.656 KiB)\n"
     ]
    }
   ],
   "source": [
    "@time nn_opt(path[1:100], 1, 10);"
   ]
  },
  {
   "cell_type": "code",
   "execution_count": 188,
   "metadata": {},
   "outputs": [
    {
     "data": {
      "text/plain": [
       "10-element Array{Int64,1}:\n",
       "  1\n",
       "  2\n",
       "  3\n",
       "  4\n",
       "  5\n",
       "  6\n",
       "  7\n",
       "  8\n",
       "  9\n",
       " 10"
      ]
     },
     "execution_count": 188,
     "metadata": {},
     "output_type": "execute_result"
    }
   ],
   "source": [
    "a"
   ]
  },
  {
   "cell_type": "code",
   "execution_count": 194,
   "metadata": {},
   "outputs": [
    {
     "data": {
      "text/plain": [
       "3-element view(::Array{Int64,1}, 1:3) with eltype Int64:\n",
       " 1\n",
       " 2\n",
       " 3"
      ]
     },
     "execution_count": 194,
     "metadata": {},
     "output_type": "execute_result"
    }
   ],
   "source": [
    "view(a, 1:3)"
   ]
  },
  {
   "cell_type": "code",
   "execution_count": null,
   "metadata": {},
   "outputs": [],
   "source": []
  },
  {
   "cell_type": "code",
   "execution_count": null,
   "metadata": {},
   "outputs": [],
   "source": []
  },
  {
   "cell_type": "code",
   "execution_count": null,
   "metadata": {},
   "outputs": [],
   "source": []
  },
  {
   "cell_type": "code",
   "execution_count": 90,
   "metadata": {},
   "outputs": [
    {
     "data": {
      "text/plain": [
       "nn_opt (generic function with 1 method)"
      ]
     },
     "execution_count": 90,
     "metadata": {},
     "output_type": "execute_result"
    }
   ],
   "source": [
    "function nn_opt(init_path::Vector{City}, indices::Vector{Int}, K::Int)\n",
    "    path = copy(init_path)\n",
    "    best = score(path)\n",
    "    @showprogress for (zzz, i) in enumerate(indices)\n",
    "        #zzz % 10 == 0 && print(\"\\33[2K [$K-NN] $(zzz)/$(length(indices)) score = $(best)\\r\")\n",
    "        bv, bj = best, 0\n",
    "        for (_, j) in find_closest_cities(path, path[i], K)\n",
    "            path[j].i == 0 && continue\n",
    "            reverse!(path, min(i,j), max(i,j))\n",
    "            s  = score(path)\n",
    "            if s < bv\n",
    "                bv, bj = s, j\n",
    "            end\n",
    "            reverse!(path, min(i,j), max(i,j))\n",
    "        end\n",
    "        if bj != 0\n",
    "            reverse!(path,  min(i,bj), max(i,bj))\n",
    "            best = bv\n",
    "            println(best)\n",
    "            end# \n",
    "    end\n",
    "    path\n",
    "end"
   ]
  },
  {
   "cell_type": "code",
   "execution_count": 91,
   "metadata": {},
   "outputs": [
    {
     "data": {
      "text/plain": [
       "1.5167739447755208e6"
      ]
     },
     "execution_count": 91,
     "metadata": {},
     "output_type": "execute_result"
    }
   ],
   "source": [
    "cities = read_cities(\"../input/cities.csv\")\n",
    "path = read_path(cities, \"1516773.csv\")\n",
    "score(path)"
   ]
  },
  {
   "cell_type": "code",
   "execution_count": 14,
   "metadata": {},
   "outputs": [],
   "source": [
    "using Distributed"
   ]
  },
  {
   "cell_type": "code",
   "execution_count": 21,
   "metadata": {},
   "outputs": [
    {
     "data": {
      "text/plain": [
       "4"
      ]
     },
     "execution_count": 21,
     "metadata": {},
     "output_type": "execute_result"
    }
   ],
   "source": [
    "nprocs()\n",
    "n = 4"
   ]
  },
  {
   "cell_type": "code",
   "execution_count": 85,
   "metadata": {},
   "outputs": [
    {
     "data": {
      "text/plain": [
       "get_chunks (generic function with 1 method)"
      ]
     },
     "execution_count": 85,
     "metadata": {},
     "output_type": "execute_result"
    }
   ],
   "source": [
    "# Returns k chunks of a vector of size n\n",
    "function get_chunks(k::Int, n::Int)\n",
    "    idxs = collect(1:ceil(Int,n/k):n)\n",
    "    push!(idxs, n+1)\n",
    "    chunks = []\n",
    "    for i = 1:length(idxs)-1\n",
    "        push!(chunks, idxs[i]:idxs[i+1]-1)\n",
    "    end\n",
    "    chunks\n",
    "end"
   ]
  },
  {
   "cell_type": "code",
   "execution_count": 92,
   "metadata": {},
   "outputs": [
    {
     "data": {
      "text/plain": [
       "5-element Array{Any,1}:\n",
       " 1:39554      \n",
       " 39555:79108  \n",
       " 79109:118662 \n",
       " 118663:158216\n",
       " 158217:197770"
      ]
     },
     "execution_count": 92,
     "metadata": {},
     "output_type": "execute_result"
    }
   ],
   "source": [
    "chunks = get_chunks(5, length(path))"
   ]
  },
  {
   "cell_type": "code",
   "execution_count": 94,
   "metadata": {},
   "outputs": [
    {
     "name": "stderr",
     "output_type": "stream",
     "text": [
      "\u001b[32mProgress:   8%|███                                      |  ETA: 0:03:52\u001b[39m"
     ]
    },
    {
     "ename": "InterruptException",
     "evalue": "InterruptException:",
     "output_type": "error",
     "traceback": [
      "InterruptException:",
      "",
      "Stacktrace:",
      " [1] #next!#11 at ./boot.jl:394 [inlined]",
      " [2] next! at /home/maxmouchet/.julia/packages/ProgressMeter/qVTax/src/ProgressMeter.jl:300 [inlined]",
      " [3] iterate(::ProgressMeter.ProgressWrapper{Base.Iterators.Enumerate{Array{Int64,1}}}, ::Tuple{Int64,Int64}) at /home/maxmouchet/.julia/packages/ProgressMeter/qVTax/src/ProgressMeter.jl:482",
      " [4] macro expansion at /home/maxmouchet/.julia/packages/ProgressMeter/qVTax/src/ProgressMeter.jl:589 [inlined]",
      " [5] nn_opt(::Array{City,1}, ::Array{Int64,1}, ::Int64) at ./In[90]:4",
      " [6] top-level scope at In[94]:1"
     ]
    }
   ],
   "source": [
    "nn_opt(path, collect(chunks[2]), 10)"
   ]
  },
  {
   "cell_type": "code",
   "execution_count": null,
   "metadata": {},
   "outputs": [],
   "source": []
  },
  {
   "cell_type": "code",
   "execution_count": 45,
   "metadata": {},
   "outputs": [
    {
     "name": "stdout",
     "output_type": "stream",
     "text": [
      "1:49443\n",
      "49444:98886\n",
      "98887:148329\n",
      "148330:197772\n"
     ]
    }
   ],
   "source": [
    "idxs = 1:ceil(Int,length(path)/4):length(path)\n",
    "for i = 1:length(idxs)-1\n",
    "    println(idxs[i]:idxs[i+1]-1)\n",
    "end"
   ]
  },
  {
   "cell_type": "code",
   "execution_count": 46,
   "metadata": {},
   "outputs": [
    {
     "data": {
      "text/plain": [
       "197770"
      ]
     },
     "execution_count": 46,
     "metadata": {},
     "output_type": "execute_result"
    }
   ],
   "source": [
    "length(path)"
   ]
  },
  {
   "cell_type": "code",
   "execution_count": null,
   "metadata": {},
   "outputs": [],
   "source": [
    "function nn_opt(init_path::Vector{City}, indices::Vector{Int}, K::Int)\n",
    "    path = copy(init_path)\n",
    "    best = score(path)\n",
    "    @showprogress for (zzz, i) in enumerate(indices)\n",
    "        #zzz % 10 == 0 && print(\"\\33[2K [$K-NN] $(zzz)/$(length(indices)) score = $(best)\\r\")\n",
    "        bv, bj = best, 0\n",
    "        for (_, j) in find_closest_cities(path, path[i], K)\n",
    "            path[j].i == 0 && continue\n",
    "            reverse!(path, min(i,j), max(i,j))\n",
    "            s  = score(path)\n",
    "            if s < bv\n",
    "                bv, bj = s, j\n",
    "            end\n",
    "            reverse!(path, min(i,j), max(i,j))\n",
    "        end\n",
    "        if bj != 0\n",
    "            reverse!(path,  min(i,bj), max(i,bj))\n",
    "            best = bv\n",
    "            println(best)\n",
    "            end# \n",
    "    end\n",
    "    path\n",
    "end"
   ]
  },
  {
   "cell_type": "code",
   "execution_count": null,
   "metadata": {},
   "outputs": [],
   "source": []
  },
  {
   "cell_type": "code",
   "execution_count": null,
   "metadata": {},
   "outputs": [],
   "source": []
  },
  {
   "cell_type": "code",
   "execution_count": null,
   "metadata": {},
   "outputs": [],
   "source": []
  },
  {
   "cell_type": "code",
   "execution_count": 12,
   "metadata": {},
   "outputs": [
    {
     "name": "stderr",
     "output_type": "stream",
     "text": [
      "\u001b[32mProgress:   8%|███                                      |  ETA: 0:07:23\u001b[39m"
     ]
    },
    {
     "ename": "InterruptException",
     "evalue": "InterruptException:",
     "output_type": "error",
     "traceback": [
      "InterruptException:",
      "",
      "Stacktrace:",
      " [1] #next!#11 at ./boot.jl:394 [inlined]",
      " [2] next! at /home/maxmouchet/.julia/packages/ProgressMeter/qVTax/src/ProgressMeter.jl:300 [inlined]",
      " [3] iterate(::ProgressMeter.ProgressWrapper{Base.Iterators.Enumerate{Array{Int64,1}}}, ::Tuple{Int64,Int64}) at /home/maxmouchet/.julia/packages/ProgressMeter/qVTax/src/ProgressMeter.jl:482",
      " [4] macro expansion at /home/maxmouchet/.julia/packages/ProgressMeter/qVTax/src/ProgressMeter.jl:589 [inlined]",
      " [5] nn_opt(::Array{City,1}, ::Array{Int64,1}, ::Int64) at ./In[10]:4",
      " [6] top-level scope at ./In[12]:2"
     ]
    }
   ],
   "source": [
    "while true\n",
    "    res = nn_opt(path, collect(10:10:length(path)-1), 50);\n",
    "    if res == path\n",
    "        println(\"done\")\n",
    "        break\n",
    "    end\n",
    "    path = res\n",
    "    println(score(path))\n",
    "end"
   ]
  },
  {
   "cell_type": "code",
   "execution_count": null,
   "metadata": {},
   "outputs": [],
   "source": []
  },
  {
   "cell_type": "code",
   "execution_count": null,
   "metadata": {},
   "outputs": [],
   "source": []
  },
  {
   "cell_type": "code",
   "execution_count": null,
   "metadata": {},
   "outputs": [],
   "source": []
  },
  {
   "cell_type": "code",
   "execution_count": 53,
   "metadata": {},
   "outputs": [
    {
     "name": "stderr",
     "output_type": "stream",
     "text": [
      "\u001b[32mProgress:   2%|█                                        |  ETA: 0:00:18\u001b[39m"
     ]
    },
    {
     "name": "stdout",
     "output_type": "stream",
     "text": [
      "1.5173894154632282e6\n"
     ]
    },
    {
     "name": "stderr",
     "output_type": "stream",
     "text": [
      "\u001b[32mProgress:   3%|█                                        |  ETA: 0:00:18\u001b[39m"
     ]
    },
    {
     "name": "stdout",
     "output_type": "stream",
     "text": [
      "1.5173736506408183e6\n"
     ]
    },
    {
     "name": "stderr",
     "output_type": "stream",
     "text": [
      "\u001b[32mProgress:   4%|██                                       |  ETA: 0:00:17\u001b[39m"
     ]
    },
    {
     "name": "stdout",
     "output_type": "stream",
     "text": [
      "1.517339895340851e6\n"
     ]
    },
    {
     "name": "stderr",
     "output_type": "stream",
     "text": [
      "\u001b[32mProgress:   5%|██                                       |  ETA: 0:00:18\u001b[39m"
     ]
    },
    {
     "name": "stdout",
     "output_type": "stream",
     "text": [
      "1.517306897893375e6\n"
     ]
    },
    {
     "name": "stderr",
     "output_type": "stream",
     "text": [
      "\u001b[32mProgress:   6%|██                                       |  ETA: 0:00:17\u001b[39m"
     ]
    },
    {
     "name": "stdout",
     "output_type": "stream",
     "text": [
      "1.51729514820528e6\n"
     ]
    },
    {
     "name": "stderr",
     "output_type": "stream",
     "text": [
      "\u001b[32mProgress:   7%|███                                      |  ETA: 0:00:17\u001b[39m"
     ]
    },
    {
     "name": "stdout",
     "output_type": "stream",
     "text": [
      "1.5172757180251833e6\n"
     ]
    },
    {
     "name": "stderr",
     "output_type": "stream",
     "text": [
      "\u001b[32mProgress:   8%|███                                      |  ETA: 0:00:17\u001b[39m"
     ]
    },
    {
     "name": "stdout",
     "output_type": "stream",
     "text": [
      "1.5172741837964614e6\n"
     ]
    },
    {
     "name": "stderr",
     "output_type": "stream",
     "text": [
      "\u001b[32mProgress:   9%|████                                     |  ETA: 0:00:17\u001b[39m"
     ]
    },
    {
     "name": "stdout",
     "output_type": "stream",
     "text": [
      "1.5172381484690062e6\n"
     ]
    },
    {
     "name": "stderr",
     "output_type": "stream",
     "text": [
      "\u001b[32mProgress:  10%|████                                     |  ETA: 0:00:17\u001b[39m"
     ]
    },
    {
     "name": "stdout",
     "output_type": "stream",
     "text": [
      "1.5172167711952266e6\n"
     ]
    },
    {
     "name": "stderr",
     "output_type": "stream",
     "text": [
      "\u001b[32mProgress:  11%|█████                                    |  ETA: 0:00:17\u001b[39m"
     ]
    },
    {
     "name": "stdout",
     "output_type": "stream",
     "text": [
      "1.517177258193943e6\n"
     ]
    },
    {
     "name": "stderr",
     "output_type": "stream",
     "text": [
      "\u001b[32mProgress:  12%|█████                                    |  ETA: 0:00:17\u001b[39m"
     ]
    },
    {
     "name": "stdout",
     "output_type": "stream",
     "text": [
      "1.5171709137817237e6\n"
     ]
    },
    {
     "name": "stderr",
     "output_type": "stream",
     "text": [
      "\u001b[32mProgress:  13%|█████                                    |  ETA: 0:00:17\u001b[39m"
     ]
    },
    {
     "name": "stdout",
     "output_type": "stream",
     "text": [
      "1.5171439438382334e6\n"
     ]
    },
    {
     "name": "stderr",
     "output_type": "stream",
     "text": [
      "\u001b[32mProgress:  14%|██████                                   |  ETA: 0:00:17\u001b[39m"
     ]
    },
    {
     "name": "stdout",
     "output_type": "stream",
     "text": [
      "1.5171228993313282e6\n"
     ]
    },
    {
     "name": "stderr",
     "output_type": "stream",
     "text": [
      "\u001b[32mProgress:  15%|██████                                   |  ETA: 0:00:16\u001b[39m"
     ]
    },
    {
     "name": "stdout",
     "output_type": "stream",
     "text": [
      "1.5170880681415247e6\n"
     ]
    },
    {
     "name": "stderr",
     "output_type": "stream",
     "text": [
      "\u001b[32mProgress:  16%|███████                                  |  ETA: 0:00:16\u001b[39m"
     ]
    },
    {
     "name": "stdout",
     "output_type": "stream",
     "text": [
      "1.5170691893985467e6\n"
     ]
    },
    {
     "name": "stderr",
     "output_type": "stream",
     "text": [
      "\u001b[32mProgress:  17%|███████                                  |  ETA: 0:00:16\u001b[39m"
     ]
    },
    {
     "name": "stdout",
     "output_type": "stream",
     "text": [
      "1.517050471055229e6\n"
     ]
    },
    {
     "name": "stderr",
     "output_type": "stream",
     "text": [
      "\u001b[32mProgress:  18%|███████                                  |  ETA: 0:00:16\u001b[39m"
     ]
    },
    {
     "name": "stdout",
     "output_type": "stream",
     "text": [
      "1.5170499942761953e6\n"
     ]
    },
    {
     "name": "stderr",
     "output_type": "stream",
     "text": [
      "\u001b[32mProgress:  20%|████████                                 |  ETA: 0:00:16\u001b[39m"
     ]
    },
    {
     "name": "stdout",
     "output_type": "stream",
     "text": [
      "1.5170401514755632e6\n"
     ]
    },
    {
     "name": "stderr",
     "output_type": "stream",
     "text": [
      "\u001b[32mProgress:  21%|█████████                                |  ETA: 0:00:16\u001b[39m"
     ]
    },
    {
     "name": "stdout",
     "output_type": "stream",
     "text": [
      "1.5170372480042316e6\n"
     ]
    },
    {
     "name": "stderr",
     "output_type": "stream",
     "text": [
      "\u001b[32mProgress:  22%|█████████                                |  ETA: 0:00:15\u001b[39m"
     ]
    },
    {
     "name": "stdout",
     "output_type": "stream",
     "text": [
      "1.5170271207131664e6\n"
     ]
    },
    {
     "name": "stderr",
     "output_type": "stream",
     "text": [
      "\u001b[32mProgress:  23%|██████████                               |  ETA: 0:00:15\u001b[39m"
     ]
    },
    {
     "name": "stdout",
     "output_type": "stream",
     "text": [
      "1.5170162705500303e6\n"
     ]
    },
    {
     "name": "stderr",
     "output_type": "stream",
     "text": [
      "\u001b[32mProgress:  24%|██████████                               |  ETA: 0:00:15\u001b[39m"
     ]
    },
    {
     "name": "stdout",
     "output_type": "stream",
     "text": [
      "1.5170020697337745e6\n"
     ]
    },
    {
     "name": "stderr",
     "output_type": "stream",
     "text": [
      "\u001b[32mProgress:  25%|██████████                               |  ETA: 0:00:15\u001b[39m"
     ]
    },
    {
     "name": "stdout",
     "output_type": "stream",
     "text": [
      "1.5169815486544038e6\n"
     ]
    },
    {
     "name": "stderr",
     "output_type": "stream",
     "text": [
      "\u001b[32mProgress:  26%|███████████                              |  ETA: 0:00:15\u001b[39m"
     ]
    },
    {
     "name": "stdout",
     "output_type": "stream",
     "text": [
      "1.516972052975904e6\n"
     ]
    },
    {
     "name": "stderr",
     "output_type": "stream",
     "text": [
      "\u001b[32mProgress:  27%|███████████                              |  ETA: 0:00:14\u001b[39m"
     ]
    },
    {
     "name": "stdout",
     "output_type": "stream",
     "text": [
      "1.5169602135465536e6\n"
     ]
    },
    {
     "name": "stderr",
     "output_type": "stream",
     "text": [
      "\u001b[32mProgress:  29%|████████████                             |  ETA: 0:00:14\u001b[39m"
     ]
    },
    {
     "name": "stdout",
     "output_type": "stream",
     "text": [
      "1.5169563154553084e6\n"
     ]
    },
    {
     "name": "stderr",
     "output_type": "stream",
     "text": [
      "\u001b[32mProgress:  30%|████████████                             |  ETA: 0:00:14\u001b[39m"
     ]
    },
    {
     "name": "stdout",
     "output_type": "stream",
     "text": [
      "1.5169499489635818e6\n"
     ]
    },
    {
     "name": "stderr",
     "output_type": "stream",
     "text": [
      "\u001b[32mProgress:  31%|█████████████                            |  ETA: 0:00:14\u001b[39m"
     ]
    },
    {
     "name": "stdout",
     "output_type": "stream",
     "text": [
      "1.5169482099255566e6\n"
     ]
    },
    {
     "name": "stderr",
     "output_type": "stream",
     "text": [
      "\u001b[32mProgress:  32%|█████████████                            |  ETA: 0:00:13\u001b[39m"
     ]
    },
    {
     "name": "stdout",
     "output_type": "stream",
     "text": [
      "1.5169356238274786e6\n"
     ]
    },
    {
     "name": "stderr",
     "output_type": "stream",
     "text": [
      "\u001b[32mProgress:  33%|██████████████                           |  ETA: 0:00:13\u001b[39m"
     ]
    },
    {
     "name": "stdout",
     "output_type": "stream",
     "text": [
      "1.5169169611153712e6\n"
     ]
    },
    {
     "name": "stderr",
     "output_type": "stream",
     "text": [
      "\u001b[32mProgress:  34%|██████████████                           |  ETA: 0:00:13\u001b[39m"
     ]
    },
    {
     "name": "stdout",
     "output_type": "stream",
     "text": [
      "1.5169101069730357e6\n"
     ]
    },
    {
     "name": "stderr",
     "output_type": "stream",
     "text": [
      "\u001b[32mProgress:  35%|██████████████                           |  ETA: 0:00:13\u001b[39m"
     ]
    },
    {
     "name": "stdout",
     "output_type": "stream",
     "text": [
      "1.5169003292495694e6\n"
     ]
    },
    {
     "name": "stderr",
     "output_type": "stream",
     "text": [
      "\u001b[32mProgress:  36%|███████████████                          |  ETA: 0:00:13\u001b[39m"
     ]
    },
    {
     "name": "stdout",
     "output_type": "stream",
     "text": [
      "1.516898730362541e6\n"
     ]
    },
    {
     "name": "stderr",
     "output_type": "stream",
     "text": [
      "\u001b[32mProgress:  38%|████████████████                         |  ETA: 0:00:13\u001b[39m"
     ]
    },
    {
     "name": "stdout",
     "output_type": "stream",
     "text": [
      "1.5168893303446912e6\n"
     ]
    },
    {
     "name": "stderr",
     "output_type": "stream",
     "text": [
      "\u001b[32mProgress:  39%|████████████████                         |  ETA: 0:00:12\u001b[39m"
     ]
    },
    {
     "name": "stdout",
     "output_type": "stream",
     "text": [
      "1.5168855829898294e6\n"
     ]
    },
    {
     "name": "stderr",
     "output_type": "stream",
     "text": [
      "\u001b[32mProgress:  40%|█████████████████                        |  ETA: 0:00:12\u001b[39m"
     ]
    },
    {
     "name": "stdout",
     "output_type": "stream",
     "text": [
      "1.5168733548594797e6\n"
     ]
    },
    {
     "name": "stderr",
     "output_type": "stream",
     "text": [
      "\u001b[32mProgress:  41%|█████████████████                        |  ETA: 0:00:12\u001b[39m"
     ]
    },
    {
     "name": "stdout",
     "output_type": "stream",
     "text": [
      "1.516865426951962e6\n"
     ]
    },
    {
     "name": "stderr",
     "output_type": "stream",
     "text": [
      "\u001b[32mProgress:  42%|█████████████████                        |  ETA: 0:00:12\u001b[39m"
     ]
    },
    {
     "name": "stdout",
     "output_type": "stream",
     "text": [
      "1.5168548284868768e6\n"
     ]
    },
    {
     "name": "stderr",
     "output_type": "stream",
     "text": [
      "\u001b[32mProgress:  45%|███████████████████                      |  ETA: 0:00:11\u001b[39m"
     ]
    },
    {
     "name": "stdout",
     "output_type": "stream",
     "text": [
      "1.5168478366217092e6\n"
     ]
    },
    {
     "name": "stderr",
     "output_type": "stream",
     "text": [
      "\u001b[32mProgress:  46%|███████████████████                      |  ETA: 0:00:11\u001b[39m"
     ]
    },
    {
     "name": "stdout",
     "output_type": "stream",
     "text": [
      "1.5168420390476997e6\n"
     ]
    },
    {
     "name": "stderr",
     "output_type": "stream",
     "text": [
      "\u001b[32mProgress:  47%|███████████████████                      |  ETA: 0:00:11\u001b[39m"
     ]
    },
    {
     "name": "stdout",
     "output_type": "stream",
     "text": [
      "1.516841664703921e6\n"
     ]
    },
    {
     "name": "stderr",
     "output_type": "stream",
     "text": [
      "\u001b[32mProgress:  48%|████████████████████                     |  ETA: 0:00:11\u001b[39m"
     ]
    },
    {
     "name": "stdout",
     "output_type": "stream",
     "text": [
      "1.5168377592373076e6\n"
     ]
    },
    {
     "name": "stderr",
     "output_type": "stream",
     "text": [
      "\u001b[32mProgress: 100%|█████████████████████████████████████████| Time: 0:00:23\u001b[39m\n"
     ]
    }
   ],
   "source": [
    "new_path = nn_opt(path, collect(2:100), 300);"
   ]
  },
  {
   "cell_type": "code",
   "execution_count": 57,
   "metadata": {},
   "outputs": [
    {
     "name": "stderr",
     "output_type": "stream",
     "text": [
      "\u001b[32mProgress:  14%|██████                                   |  ETA: 0:00:16\u001b[39m"
     ]
    },
    {
     "name": "stdout",
     "output_type": "stream",
     "text": [
      "1.5167861018011188e6\n"
     ]
    },
    {
     "name": "stderr",
     "output_type": "stream",
     "text": [
      "\u001b[32mProgress: 100%|█████████████████████████████████████████| Time: 0:00:23\u001b[39m\n"
     ]
    }
   ],
   "source": [
    "new_path = nn_opt(new_path, collect(2:100), 300);"
   ]
  },
  {
   "cell_type": "code",
   "execution_count": null,
   "metadata": {},
   "outputs": [],
   "source": []
  },
  {
   "cell_type": "code",
   "execution_count": null,
   "metadata": {},
   "outputs": [],
   "source": []
  },
  {
   "cell_type": "code",
   "execution_count": 14,
   "metadata": {},
   "outputs": [
    {
     "data": {
      "text/plain": [
       "1273279"
      ]
     },
     "execution_count": 14,
     "metadata": {},
     "output_type": "execute_result"
    }
   ],
   "source": [
    "score(new_path), verify!(new_path)\n",
    "out = vcat(\"Path\", map(c -> c.i, new_path))\n",
    "write(\"1516773.csv\", join(out, \"\\n\"))"
   ]
  },
  {
   "cell_type": "code",
   "execution_count": null,
   "metadata": {},
   "outputs": [],
   "source": []
  },
  {
   "cell_type": "code",
   "execution_count": null,
   "metadata": {},
   "outputs": [],
   "source": []
  }
 ],
 "metadata": {
  "kernelspec": {
   "display_name": "Julia 1.0.2",
   "language": "julia",
   "name": "julia-1.0"
  },
  "language_info": {
   "file_extension": ".jl",
   "mimetype": "application/julia",
   "name": "julia",
   "version": "1.0.2"
  }
 },
 "nbformat": 4,
 "nbformat_minor": 2
}
