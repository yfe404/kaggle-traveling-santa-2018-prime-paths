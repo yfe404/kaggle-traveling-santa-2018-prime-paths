{
 "cells": [
  {
   "cell_type": "code",
   "execution_count": null,
   "metadata": {},
   "outputs": [],
   "source": []
  },
  {
   "cell_type": "code",
   "execution_count": 4,
   "metadata": {},
   "outputs": [],
   "source": [
    "import urllib.request"
   ]
  },
  {
   "cell_type": "code",
   "execution_count": 5,
   "metadata": {},
   "outputs": [
    {
     "name": "stdout",
     "output_type": "stream",
     "text": [
      "mkdir: TSPLIB_DATA: File exists\r\n"
     ]
    }
   ],
   "source": [
    "!mkdir TSPLIB_DATA"
   ]
  },
  {
   "cell_type": "code",
   "execution_count": 6,
   "metadata": {},
   "outputs": [],
   "source": [
    "TSPLIB_DATA=\"./TSPLIB_DATA/\""
   ]
  },
  {
   "cell_type": "markdown",
   "metadata": {},
   "source": [
    "# Download sample TSLIB instances"
   ]
  },
  {
   "cell_type": "code",
   "execution_count": 9,
   "metadata": {},
   "outputs": [],
   "source": [
    "def download_tsplib_instance(instance_name=\"a280.tsp\"):\n",
    "    \n",
    "    base_url = \"https://raw.githubusercontent.com/yafeunteun/tsplib/master/\"\n",
    "    complete_url = base_url + instance_name\n",
    "    output_filepath = TSPLIB_DATA + instance_name\n",
    "    urllib.request.urlretrieve(complete_url, output_filepath)"
   ]
  },
  {
   "cell_type": "code",
   "execution_count": 10,
   "metadata": {},
   "outputs": [],
   "source": [
    "download_tsplib_instance()"
   ]
  },
  {
   "cell_type": "code",
   "execution_count": 13,
   "metadata": {},
   "outputs": [
    {
     "name": "stdout",
     "output_type": "stream",
     "text": [
      "a280.tsp\n",
      "NAME : a280\n",
      "COMMENT : drilling problem (Ludwig)\n",
      "TYPE : TSP\n",
      "DIMENSION: 280\n",
      "EDGE_WEIGHT_TYPE : EUC_2D\n",
      "NODE_COORD_SECTION\n",
      "  1 288 149\n",
      "  2 288 129\n",
      "  3 270 133\n",
      "  4 256 141\n"
     ]
    }
   ],
   "source": [
    "!ls TSPLIB_DATA\n",
    "!head TSPLIB_DATA/a280.tsp"
   ]
  },
  {
   "cell_type": "code",
   "execution_count": null,
   "metadata": {},
   "outputs": [],
   "source": []
  }
 ],
 "metadata": {
  "kernelspec": {
   "display_name": "Python 3",
   "language": "python",
   "name": "python3"
  },
  "language_info": {
   "codemirror_mode": {
    "name": "ipython",
    "version": 3
   },
   "file_extension": ".py",
   "mimetype": "text/x-python",
   "name": "python",
   "nbconvert_exporter": "python",
   "pygments_lexer": "ipython3",
   "version": "3.6.1"
  }
 },
 "nbformat": 4,
 "nbformat_minor": 2
}
