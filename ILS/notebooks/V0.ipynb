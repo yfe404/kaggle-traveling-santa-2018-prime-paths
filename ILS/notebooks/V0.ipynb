{
 "cells": [
  {
   "cell_type": "code",
   "execution_count": null,
   "metadata": {},
   "outputs": [],
   "source": []
  },
  {
   "cell_type": "code",
   "execution_count": 4,
   "metadata": {},
   "outputs": [],
   "source": [
    "import urllib.request"
   ]
  },
  {
   "cell_type": "code",
   "execution_count": 5,
   "metadata": {},
   "outputs": [
    {
     "name": "stdout",
     "output_type": "stream",
     "text": [
      "mkdir: TSPLIB_DATA: File exists\r\n"
     ]
    }
   ],
   "source": [
    "!mkdir TSPLIB_DATA"
   ]
  },
  {
   "cell_type": "code",
   "execution_count": 6,
   "metadata": {},
   "outputs": [],
   "source": [
    "TSPLIB_DATA=\"./TSPLIB_DATA/\""
   ]
  },
  {
   "cell_type": "markdown",
   "metadata": {},
   "source": [
    "# Download sample TSLIB instances"
   ]
  },
  {
   "cell_type": "code",
   "execution_count": 9,
   "metadata": {},
   "outputs": [],
   "source": [
    "def download_tsplib_instance(instance_name=\"a280.tsp\"):\n",
    "    \n",
    "    base_url = \"https://raw.githubusercontent.com/yafeunteun/tsplib/master/\"\n",
    "    complete_url = base_url + instance_name\n",
    "    output_filepath = TSPLIB_DATA + instance_name\n",
    "    urllib.request.urlretrieve(complete_url, output_filepath)"
   ]
  },
  {
   "cell_type": "code",
   "execution_count": 10,
   "metadata": {},
   "outputs": [],
   "source": [
    "download_tsplib_instance()"
   ]
  },
  {
   "cell_type": "code",
   "execution_count": 13,
   "metadata": {},
   "outputs": [
    {
     "name": "stdout",
     "output_type": "stream",
     "text": [
      "a280.tsp\n",
      "NAME : a280\n",
      "COMMENT : drilling problem (Ludwig)\n",
      "TYPE : TSP\n",
      "DIMENSION: 280\n",
      "EDGE_WEIGHT_TYPE : EUC_2D\n",
      "NODE_COORD_SECTION\n",
      "  1 288 149\n",
      "  2 288 129\n",
      "  3 270 133\n",
      "  4 256 141\n"
     ]
    }
   ],
   "source": [
    "!ls TSPLIB_DATA\n",
    "!head TSPLIB_DATA/a280.tsp"
   ]
  },
  {
   "cell_type": "markdown",
   "metadata": {},
   "source": [
    "# Read TSPLIB"
   ]
  },
  {
   "cell_type": "code",
   "execution_count": 54,
   "metadata": {},
   "outputs": [],
   "source": [
    "def read_tsplib(filepath_to_tsplib_file):\n",
    "    coordinates = [] \n",
    "    dim = 0\n",
    "    start_read_coords = False\n",
    "    with open(filepath_to_tsplib_file, \"r\") as f:\n",
    "        line = f.readline().strip() or \"EOF\"\n",
    "        while not line.startswith(\"EOF\"):\n",
    "            if start_read_coords:\n",
    "                _id, x, y = (float(x) for x in line.split())\n",
    "                coordinates.append((x,y))\n",
    "            if line.startswith(\"DIMENSION\"):\n",
    "                dim = int(line.split(':')[1].strip())\n",
    "            if line.startswith(\"NODE_COORD_SECTION\"):\n",
    "                start_read_coords = True\n",
    "            line = f.readline().strip()\n",
    "    assert len(coordinates) == dim, \"Number of coordinates doesn't match the dimension parameter in file.\"\n",
    "    \n",
    "    return coordinates"
   ]
  },
  {
   "cell_type": "code",
   "execution_count": 55,
   "metadata": {},
   "outputs": [],
   "source": [
    "coords = read_tsplib(TSPLIB_DATA + 'a280.tsp')"
   ]
  },
  {
   "cell_type": "code",
   "execution_count": 56,
   "metadata": {},
   "outputs": [
    {
     "data": {
      "text/plain": [
       "[(288.0, 149.0),\n",
       " (288.0, 129.0),\n",
       " (270.0, 133.0),\n",
       " (256.0, 141.0),\n",
       " (256.0, 157.0)]"
      ]
     },
     "execution_count": 56,
     "metadata": {},
     "output_type": "execute_result"
    }
   ],
   "source": [
    "coords[:5]"
   ]
  },
  {
   "cell_type": "code",
   "execution_count": null,
   "metadata": {},
   "outputs": [],
   "source": []
  },
  {
   "cell_type": "code",
   "execution_count": null,
   "metadata": {},
   "outputs": [],
   "source": []
  }
 ],
 "metadata": {
  "kernelspec": {
   "display_name": "Python 3",
   "language": "python",
   "name": "python3"
  },
  "language_info": {
   "codemirror_mode": {
    "name": "ipython",
    "version": 3
   },
   "file_extension": ".py",
   "mimetype": "text/x-python",
   "name": "python",
   "nbconvert_exporter": "python",
   "pygments_lexer": "ipython3",
   "version": "3.6.1"
  }
 },
 "nbformat": 4,
 "nbformat_minor": 2
}
