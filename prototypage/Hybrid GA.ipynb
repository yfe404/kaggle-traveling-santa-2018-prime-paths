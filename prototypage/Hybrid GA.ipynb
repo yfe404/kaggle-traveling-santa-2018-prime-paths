{
 "cells": [
  {
   "cell_type": "code",
   "execution_count": null,
   "metadata": {},
   "outputs": [],
   "source": []
  },
  {
   "cell_type": "code",
   "execution_count": 523,
   "metadata": {},
   "outputs": [],
   "source": [
    "import numpy as np\n",
    "import pandas as pd\n",
    "import matplotlib as mpl\n",
    "import matplotlib.pyplot as plt\n",
    "import sympy\n",
    "from sympy import isprime, primerange\n",
    "from tqdm import tqdm\n",
    "from copy import copy\n",
    "from matplotlib import collections  as mc\n",
    "import uuid\n",
    "from subprocess import call\n",
    "\n",
    "\n",
    "\n",
    "%matplotlib inline"
   ]
  },
  {
   "cell_type": "code",
   "execution_count": null,
   "metadata": {},
   "outputs": [],
   "source": []
  },
  {
   "cell_type": "markdown",
   "metadata": {},
   "source": [
    "## Utils"
   ]
  },
  {
   "cell_type": "code",
   "execution_count": null,
   "metadata": {},
   "outputs": [],
   "source": [
    "def crossover(a,b):\n",
    "    write_to_file(a, \"/tmp/aa.tsp\")\n",
    "    write_to_file(b, \"/tmp/bb.tsp\")\n",
    "    \n",
    "    call([\"../cpp/gsx2\", \"/tmp/aa.tsp\", \"/tmp/bb.tsp\", \"/tmp/out.tsp\"])\n",
    "    \n",
    "    out_seq = read_from_file(\"/tmp/out.tsp\")\n",
    "    \n",
    "    assert(len(out_seq)==len(a))\n",
    "    assert(out_seq[0] == out_seq[-1] == 0)\n",
    "    \n",
    "    return out_seq"
   ]
  },
  {
   "cell_type": "code",
   "execution_count": null,
   "metadata": {},
   "outputs": [],
   "source": []
  },
  {
   "cell_type": "markdown",
   "metadata": {},
   "source": [
    "## Prepare input"
   ]
  },
  {
   "cell_type": "code",
   "execution_count": 2,
   "metadata": {},
   "outputs": [],
   "source": [
    "cities = pd.read_csv('../input/cities.csv', index_col=['CityId'])"
   ]
  },
  {
   "cell_type": "code",
   "execution_count": 3,
   "metadata": {},
   "outputs": [],
   "source": [
    "class Tour(list):  # list with trailing 0\n",
    "    penalized = ~cities.index.isin(sympy.primerange(0, len(cities)))\n",
    "\n",
    "    @staticmethod\n",
    "    def from_file(filename):  # from linkern's output or csv\n",
    "        seq = [int(x) for x in open(filename).read().split()[1:]]\n",
    "        return Tour(seq if seq[-1] == 0 else (seq + [0]))\n",
    "\n",
    "    def score(self):\n",
    "        df = cities.reindex(self)\n",
    "        dist = np.hypot(df.X.diff(-1), df.Y.diff(-1))\n",
    "        penalty = 0.1 * dist[9::10] * self.penalized[self[9::10]]\n",
    "        _score = dist.sum() + penalty.sum()\n",
    "        _score = np.round(_score,2)\n",
    "\n",
    "        return _score\n",
    "\n",
    "    def to_csv(self, filename):\n",
    "        pd.DataFrame({'Path': self}).to_csv(filename, index=False)"
   ]
  },
  {
   "cell_type": "code",
   "execution_count": 226,
   "metadata": {},
   "outputs": [
    {
     "name": "stdout",
     "output_type": "stream",
     "text": [
      "1517113.59\n"
     ]
    }
   ],
   "source": [
    "tour = Tour.from_file('../../../Downloads/LKH-2.0.9/data/linkern.tour')\n",
    "#tour.to_csv('pool/{}.csv'.format(tour.score()))\n",
    "print(tour.score())"
   ]
  },
  {
   "cell_type": "code",
   "execution_count": null,
   "metadata": {},
   "outputs": [],
   "source": []
  },
  {
   "cell_type": "code",
   "execution_count": null,
   "metadata": {},
   "outputs": [],
   "source": []
  },
  {
   "cell_type": "code",
   "execution_count": 385,
   "metadata": {},
   "outputs": [],
   "source": [
    "def crossover(a,b):\n",
    "    write_to_file(a, \"/tmp/aa.tsp\")\n",
    "    write_to_file(b, \"/tmp/bb.tsp\")\n",
    "    \n",
    "    call([\"../cpp/gsx2\", \"/tmp/aa.tsp\", \"/tmp/bb.tsp\", \"/tmp/out.tsp\"])\n",
    "    \n",
    "    out_seq = read_from_file(\"/tmp/out.tsp\")\n",
    "    \n",
    "    assert(len(out_seq)==len(a))\n",
    "    assert(out_seq[0] == out_seq[-1] == 0)\n",
    "    \n",
    "    return out_seq"
   ]
  },
  {
   "cell_type": "code",
   "execution_count": 241,
   "metadata": {},
   "outputs": [],
   "source": [
    "def write_to_file(seq, out):\n",
    "    with open(out, \"w\") as f:\n",
    "        f.write(\" \".join([str(x) for x in seq]))"
   ]
  },
  {
   "cell_type": "code",
   "execution_count": 268,
   "metadata": {},
   "outputs": [],
   "source": [
    "def read_from_file(inp):\n",
    "    with open(inp, \"r\") as f:\n",
    "        data = f.readlines()[0].strip().split(\" \")\n",
    "        return [int(x) for x in data]"
   ]
  },
  {
   "cell_type": "code",
   "execution_count": 278,
   "metadata": {},
   "outputs": [],
   "source": [
    "write_to_file(aa, \"/tmp/aa.tsp\")\n",
    "write_to_file(bb, \"/tmp/bb.tsp\")\n"
   ]
  },
  {
   "cell_type": "code",
   "execution_count": 270,
   "metadata": {},
   "outputs": [],
   "source": [
    "yy = read_from_file(\"/tmp/aa.tsp\")"
   ]
  },
  {
   "cell_type": "code",
   "execution_count": 277,
   "metadata": {},
   "outputs": [
    {
     "data": {
      "text/plain": [
       "197770"
      ]
     },
     "execution_count": 277,
     "metadata": {},
     "output_type": "execute_result"
    }
   ],
   "source": [
    "len(yy)"
   ]
  },
  {
   "cell_type": "code",
   "execution_count": 307,
   "metadata": {},
   "outputs": [],
   "source": [
    "write_to_file(aa, \"/tmp/aa.tsp\")\n",
    "write_to_file(bb, \"/tmp/bb.tsp\")\n",
    "offspring = crossover(\"/tmp/aa.tsp\", \"/tmp/bb.tsp\")"
   ]
  },
  {
   "cell_type": "code",
   "execution_count": null,
   "metadata": {},
   "outputs": [],
   "source": []
  },
  {
   "cell_type": "code",
   "execution_count": 370,
   "metadata": {},
   "outputs": [
    {
     "name": "stdout",
     "output_type": "stream",
     "text": [
      "43\n",
      "43\n"
     ]
    },
    {
     "data": {
      "text/plain": [
       "43"
      ]
     },
     "execution_count": 370,
     "metadata": {},
     "output_type": "execute_result"
    }
   ],
   "source": [
    "print(len(population[1].path))\n",
    "print(len(population[0].path))\n",
    "len(crossover(population[1].path,population[0].path))"
   ]
  },
  {
   "cell_type": "code",
   "execution_count": 5,
   "metadata": {},
   "outputs": [],
   "source": [
    "from math import hypot\n",
    "class Node:\n",
    "    \"\"\"\n",
    "    represents a node in a TSP tour\n",
    "    \"\"\"\n",
    "    def __init__(self, num, coords):\n",
    "        self.num = num # start position in a route's order\n",
    "        self.x = coords[0]   # x coordinate\n",
    "        self.y = coords[1]   # y coordinate\n",
    "\n",
    "    def __str__(self):\n",
    "        \"\"\"\n",
    "        returns the string representation of a Node\n",
    "        \"\"\"\n",
    "        return self.num\n",
    "\n",
    "    def __eq__(self, other):\n",
    "        return self.__dict__ == other.__dict__\n",
    "\n",
    "    def euclidean_dist(self, other):\n",
    "        \"\"\"\n",
    "        returns the Euclidean distance between this Node and other Node\n",
    "        other - other node\n",
    "        \"\"\"\n",
    "        dx = self.x - other.x\n",
    "        dy = self.y - other.y\n",
    "        return hypot(dx, dy)"
   ]
  },
  {
   "cell_type": "code",
   "execution_count": 6,
   "metadata": {},
   "outputs": [],
   "source": [
    "PATH = []\n",
    "for i in range(len(tour)):\n",
    "    PATH.append(Node(tour[i], cities.values[tour[i]]))"
   ]
  },
  {
   "cell_type": "code",
   "execution_count": 7,
   "metadata": {},
   "outputs": [],
   "source": [
    "def sscore(p):\n",
    "    distance = 0.0\n",
    "    for i in range(len(p)-1):\n",
    "        d = p[i].euclidean_dist(p[i+1])\n",
    "        if i%10 == 0 and not isprime(p[i-1].num): d *= 1.1 \n",
    "        distance += d\n",
    "    return distance"
   ]
  },
  {
   "cell_type": "code",
   "execution_count": 8,
   "metadata": {},
   "outputs": [
    {
     "data": {
      "text/plain": [
       "1517126.8455356655"
      ]
     },
     "execution_count": 8,
     "metadata": {},
     "output_type": "execute_result"
    }
   ],
   "source": [
    "sscore(PATH)"
   ]
  },
  {
   "cell_type": "code",
   "execution_count": 108,
   "metadata": {},
   "outputs": [
    {
     "data": {
      "text/plain": [
       "197769"
      ]
     },
     "execution_count": 108,
     "metadata": {},
     "output_type": "execute_result"
    }
   ],
   "source": []
  },
  {
   "cell_type": "markdown",
   "metadata": {},
   "source": [
    "# Newly improved GSX (GSX-2)."
   ]
  },
  {
   "cell_type": "code",
   "execution_count": 9,
   "metadata": {},
   "outputs": [
    {
     "data": {
      "text/plain": [
       "array([ 0, 33, 20, 39, 15,  7, 21, 12, 31, 32, 17, 34, 36, 13, 14, 35, 30,\n",
       "       40, 27, 29, 22,  9, 26,  8,  2,  4, 18, 41,  5, 37, 25, 10, 28,  1,\n",
       "        6,  3, 16, 24, 23, 38, 19, 11,  0])"
      ]
     },
     "execution_count": 9,
     "metadata": {},
     "output_type": "execute_result"
    }
   ],
   "source": [
    "parent1 = list(range(1,42))\n",
    "parent1 = np.random.permutation(parent1)\n",
    "parent1 = np.insert(parent1, 0, 0)\n",
    "parent1 = np.insert(parent1, len(parent1), 0)\n",
    "parent1"
   ]
  },
  {
   "cell_type": "code",
   "execution_count": 10,
   "metadata": {},
   "outputs": [
    {
     "data": {
      "text/plain": [
       "array([ 0, 11, 36,  3, 15, 18,  8, 29, 26, 16, 39, 19, 24, 25,  5, 10,  1,\n",
       "       41, 21, 35, 12, 33, 30, 13,  4, 27,  2,  9,  7, 40, 14, 38,  6, 17,\n",
       "       31, 34, 37, 32, 22, 28, 20, 23,  0])"
      ]
     },
     "execution_count": 10,
     "metadata": {},
     "output_type": "execute_result"
    }
   ],
   "source": [
    "parent2 = list(range(1,42))\n",
    "parent2 = np.random.permutation(parent2)\n",
    "parent2 = np.insert(parent2, 0, 0)\n",
    "parent2 = np.insert(parent2, len(parent2), 0)\n",
    "parent2"
   ]
  },
  {
   "cell_type": "markdown",
   "metadata": {},
   "source": [
    "### Step 1 : select random city "
   ]
  },
  {
   "cell_type": "code",
   "execution_count": 11,
   "metadata": {},
   "outputs": [
    {
     "data": {
      "text/plain": [
       "5"
      ]
     },
     "execution_count": 11,
     "metadata": {},
     "output_type": "execute_result"
    }
   ],
   "source": [
    "rnd_city = np.random.randint(low=1, high=43)\n",
    "rnd_city"
   ]
  },
  {
   "cell_type": "markdown",
   "metadata": {},
   "source": [
    "### Step 2: alternately add cities from parents, each for one direction, until either a city that has already been included in the offspring is met or exchangeable subtours are found"
   ]
  },
  {
   "cell_type": "code",
   "execution_count": 12,
   "metadata": {},
   "outputs": [],
   "source": [
    "\n",
    "\n",
    "offspring = [rnd_city]\n",
    "rnd_city_in_parent1 = np.argwhere(parent1 == rnd_city)[0][0]\n",
    "rnd_city_in_parent2 = np.argwhere(parent2 == rnd_city)[0][0]\n",
    "city_included = [rnd_city]\n",
    "STOP = False\n",
    "idx1 = rnd_city_in_parent1 + 1\n",
    "idx2 = rnd_city_in_parent2 - 1\n",
    "while not STOP:\n",
    "    if idx1 < len(parent1)-1: ## -1 for the 0 \n",
    "        if parent1[idx1] in city_included:\n",
    "            STOP = True\n",
    "            break\n",
    "        offspring.append(parent1[idx1])\n",
    "        city_included.append(parent1[idx1])\n",
    "        idx1+=1\n",
    "    else:\n",
    "        break\n",
    " \n",
    "    if idx2 > 0: ## > strict for the 0\n",
    "        if parent2[idx2] in city_included:\n",
    "            STOP = True\n",
    "            break\n",
    "        offspring.insert( 0,parent2[idx2])\n",
    "        city_included.append(parent2[idx2])\n",
    "        idx2-=1"
   ]
  },
  {
   "cell_type": "code",
   "execution_count": 13,
   "metadata": {},
   "outputs": [
    {
     "data": {
      "text/plain": [
       "[25, 5, 37]"
      ]
     },
     "execution_count": 13,
     "metadata": {},
     "output_type": "execute_result"
    }
   ],
   "source": [
    "offspring"
   ]
  },
  {
   "cell_type": "markdown",
   "metadata": {},
   "source": [
    "### Step 3: fill in the remaining cities at the order of parent 2"
   ]
  },
  {
   "cell_type": "code",
   "execution_count": 14,
   "metadata": {},
   "outputs": [],
   "source": [
    "for i in range(1, len(parent2)-1): ##-1 for the zero\n",
    "    if parent2[i] not in city_included:\n",
    "        offspring.append(parent2[i])"
   ]
  },
  {
   "cell_type": "code",
   "execution_count": 15,
   "metadata": {},
   "outputs": [],
   "source": [
    "offspring.append(0)\n",
    "offspring.insert(0, 0)"
   ]
  },
  {
   "cell_type": "code",
   "execution_count": 16,
   "metadata": {},
   "outputs": [
    {
     "name": "stdout",
     "output_type": "stream",
     "text": [
      "[0, 25, 5, 37, 11, 36, 3, 15, 18, 8, 29, 26, 16, 39, 19, 24, 10, 1, 41, 21, 35, 12, 33, 30, 13, 4, 27, 2, 9, 7, 40, 14, 38, 6, 17, 31, 34, 32, 22, 28, 20, 23, 0]\n"
     ]
    }
   ],
   "source": [
    "print(offspring)"
   ]
  },
  {
   "cell_type": "code",
   "execution_count": 17,
   "metadata": {},
   "outputs": [
    {
     "name": "stdout",
     "output_type": "stream",
     "text": [
      "89396.61 94625.9 94974.03\n"
     ]
    }
   ],
   "source": [
    "print( Tour(parent1).score(), Tour(parent2).score(), Tour(offspring).score())"
   ]
  },
  {
   "cell_type": "code",
   "execution_count": 18,
   "metadata": {},
   "outputs": [],
   "source": [
    "assert len(offspring)==len(parent1)==len(parent2)\n",
    "assert offspring[0]==offspring[-1]==0\n",
    "assert len(set(offspring))==len(offspring)-1"
   ]
  },
  {
   "cell_type": "code",
   "execution_count": null,
   "metadata": {},
   "outputs": [],
   "source": []
  },
  {
   "cell_type": "markdown",
   "metadata": {},
   "source": [
    " ## Double-bridge move mutation operator"
   ]
  },
  {
   "cell_type": "code",
   "execution_count": 19,
   "metadata": {},
   "outputs": [],
   "source": [
    "i, ii, j, jj, k, kk, l, ll = 3, 4, 9, 10, 28, 29, 35, 36"
   ]
  },
  {
   "cell_type": "code",
   "execution_count": 20,
   "metadata": {},
   "outputs": [
    {
     "name": "stdout",
     "output_type": "stream",
     "text": [
      "[0, 25, 5, 37, 7, 40, 14, 38, 6, 17, 31, 29, 26, 16, 39, 19, 24, 10, 1, 41, 21, 35, 12, 33, 30, 13, 4, 27, 2, 9, 11, 36, 3, 15, 18, 8, 34, 32, 22, 28, 20, 23, 0]\n",
      "+++++++++++++\n",
      "[0, 25, 5, 37, 11, 36, 3, 15, 18, 8, 29, 26, 16, 39, 19, 24, 10, 1, 41, 21, 35, 12, 33, 30, 13, 4, 27, 2, 9, 7, 40, 14, 38, 6, 17, 31, 34, 32, 22, 28, 20, 23, 0]\n",
      "94974.03 94860.73\n"
     ]
    }
   ],
   "source": [
    "new_route = offspring[0:i+1]\n",
    "\n",
    "new_route.append(offspring[kk])\n",
    "new_route.extend(offspring[kk+1:l+1])\n",
    "new_route.append(offspring[jj])\n",
    "new_route.extend(offspring[jj+1:k+1])\n",
    "new_route.append(offspring[ii])\n",
    "new_route.extend(offspring[ii+1:j+1])\n",
    "new_route.append(offspring[ll])\n",
    "new_route.extend(offspring[ll+1:])\n",
    "\n",
    "print(new_route)\n",
    "print(\"+++++++++++++\")\n",
    "print(offspring)\n",
    "\n",
    "\n",
    "assert len(new_route)==len(offspring)\n",
    "assert new_route[0]==new_route[-1]==0\n",
    "assert len(set(new_route))==len(new_route)-1\n",
    "print( Tour(offspring).score(), Tour(new_route).score())\n",
    "\n",
    "\n"
   ]
  },
  {
   "cell_type": "code",
   "execution_count": 21,
   "metadata": {},
   "outputs": [],
   "source": [
    "for  i in offspring:\n",
    "    if i not in new_route:\n",
    "        print (i)"
   ]
  },
  {
   "cell_type": "code",
   "execution_count": 22,
   "metadata": {},
   "outputs": [],
   "source": [
    "def swap_2opt(route, i, k):\n",
    "    \"\"\"\n",
    "    swaps the endpoints of two edges by reversing a section of nodes, \n",
    "    ideally to eliminate crossovers\n",
    "    returns the new route created with a the 2-opt swap\n",
    "    route - route to apply 2-opt\n",
    "    i - start index of the portion of the route to be reversed\n",
    "    k - index of last node in portion of route to be reversed\n",
    "    pre: 0 <= i < (len(route) - 1) and i < k < len(route)\n",
    "    post: length of the new route must match length of the given route \n",
    "    \"\"\"\n",
    "    assert i >= 0 and i < (len(route) - 1)\n",
    "    assert k > i and k < len(route)\n",
    "    new_route = route[0:i]\n",
    "    new_route.extend(reversed(route[i:k + 1]))\n",
    "#    reversed(route[i:k + 1])\n",
    "    new_route.extend(route[k+1:])\n",
    "    assert len(new_route)==len(route)\n",
    "    assert new_route[0]==new_route[-1]==0\n",
    "    assert len(set(new_route))==len(new_route)-1\n",
    "    return Tour(new_route)"
   ]
  },
  {
   "cell_type": "code",
   "execution_count": 43,
   "metadata": {},
   "outputs": [
    {
     "ename": "NameError",
     "evalue": "name 'cities_per_thread' is not defined",
     "output_type": "error",
     "traceback": [
      "\u001b[0;31m---------------------------------------------------------------------------\u001b[0m",
      "\u001b[0;31mNameError\u001b[0m                                 Traceback (most recent call last)",
      "\u001b[0;32m<ipython-input-43-b3a80302efe6>\u001b[0m in \u001b[0;36m<module>\u001b[0;34m\u001b[0m\n\u001b[1;32m     16\u001b[0m \u001b[0;32mif\u001b[0m \u001b[0m__name__\u001b[0m \u001b[0;34m==\u001b[0m \u001b[0;34m'__main__'\u001b[0m\u001b[0;34m:\u001b[0m\u001b[0;34m\u001b[0m\u001b[0m\n\u001b[1;32m     17\u001b[0m      \u001b[0;32mwith\u001b[0m \u001b[0mPool\u001b[0m\u001b[0;34m(\u001b[0m\u001b[0;36m8\u001b[0m\u001b[0;34m)\u001b[0m \u001b[0;32mas\u001b[0m \u001b[0mp\u001b[0m\u001b[0;34m:\u001b[0m\u001b[0;34m\u001b[0m\u001b[0m\n\u001b[0;32m---> 18\u001b[0;31m         \u001b[0mprint\u001b[0m\u001b[0;34m(\u001b[0m\u001b[0mp\u001b[0m\u001b[0;34m.\u001b[0m\u001b[0mmap\u001b[0m\u001b[0;34m(\u001b[0m\u001b[0minfo\u001b[0m\u001b[0;34m,\u001b[0m \u001b[0mnp\u001b[0m\u001b[0;34m.\u001b[0m\u001b[0mcumsum\u001b[0m\u001b[0;34m(\u001b[0m\u001b[0mcities_per_thread\u001b[0m\u001b[0;34m)\u001b[0m\u001b[0;34m)\u001b[0m\u001b[0;34m)\u001b[0m\u001b[0;34m\u001b[0m\u001b[0m\n\u001b[0m\u001b[1;32m     19\u001b[0m \u001b[0;34m\u001b[0m\u001b[0m\n\u001b[1;32m     20\u001b[0m \u001b[0;34m\u001b[0m\u001b[0m\n",
      "\u001b[0;31mNameError\u001b[0m: name 'cities_per_thread' is not defined"
     ]
    }
   ],
   "source": [
    "from multiprocessing import Process, Pool\n",
    "import os\n",
    "import time\n",
    "\n",
    "def info(title):\n",
    "    print(title)\n",
    "    print('module name:', __name__)\n",
    "    print('parent process:', os.getppid())\n",
    "    print('process id:', os.getpid())\n",
    "    time.sleep(3)\n",
    "\n",
    "def f(name):\n",
    "    info('function f')\n",
    "    print('hello', name)\n",
    "\n",
    "if __name__ == '__main__':\n",
    "     with Pool(8) as p:\n",
    "        print(p.map(info, ))\n",
    "        \n",
    "        \n",
    "        \n",
    "        \n",
    "        "
   ]
  },
  {
   "cell_type": "code",
   "execution_count": 437,
   "metadata": {},
   "outputs": [],
   "source": [
    "def read_from_julia(input_file):\n",
    "    opts = []\n",
    "    with open(input_file, \"r\") as f:\n",
    "        size = int(f.readline())\n",
    "        for i in range(size):\n",
    "            distance,i,j = (x for x in f.readline().strip().split(\" \"))\n",
    "            distance = float(distance)\n",
    "            i = int(i)\n",
    "            j = int(j)\n",
    "            opts.append((distance,i,j))\n",
    "    return opts\n",
    "    "
   ]
  },
  {
   "cell_type": "code",
   "execution_count": 438,
   "metadata": {},
   "outputs": [
    {
     "data": {
      "text/plain": [
       "[(80710.07, 1, 4),\n",
       " (79143.38, 1, 5),\n",
       " (80285.34, 1, 7),\n",
       " (80389.53, 1, 9),\n",
       " (80440.04, 1, 11),\n",
       " (80456.5, 2, 4),\n",
       " (78687.79, 5, 6),\n",
       " (79882.32, 5, 8),\n",
       " (79518.46, 5, 10),\n",
       " (80593.61, 5, 12),\n",
       " (79972.81, 5, 14),\n",
       " (79450.09, 5, 41),\n",
       " (79462.48, 6, 7),\n",
       " (79527.75, 6, 9),\n",
       " (79743.98, 6, 11),\n",
       " (80705.1, 6, 13),\n",
       " (78902.3, 7, 8),\n",
       " (78812.15, 7, 10),\n",
       " (80091.46, 7, 12),\n",
       " (79572.74, 7, 14),\n",
       " (79453.88, 7, 41),\n",
       " (78330.49, 8, 9),\n",
       " (78656.65, 8, 11),\n",
       " (79922.44, 8, 13),\n",
       " (80236.62, 8, 15),\n",
       " (78667.44, 9, 10),\n",
       " (80016.65, 9, 12),\n",
       " (79806.63, 9, 14),\n",
       " (79463.84, 9, 41),\n",
       " (76996.76, 10, 11),\n",
       " (78253.95, 10, 13),\n",
       " (80712.76, 10, 14),\n",
       " (78561.81, 10, 15),\n",
       " (79777.23, 10, 17),\n",
       " (80143.5, 10, 19),\n",
       " (80661.09, 10, 35),\n",
       " (80268.04, 10, 41),\n",
       " (78076.59, 11, 12),\n",
       " (77843.5, 11, 14),\n",
       " (79528.94, 11, 16),\n",
       " (79769.19, 11, 18),\n",
       " (80605.18, 11, 20),\n",
       " (78766.29, 11, 41)]"
      ]
     },
     "execution_count": 438,
     "metadata": {},
     "output_type": "execute_result"
    }
   ],
   "source": [
    "read_from_julia(\"/tmp/test.txt\")"
   ]
  },
  {
   "cell_type": "code",
   "execution_count": 453,
   "metadata": {},
   "outputs": [],
   "source": [
    "def task_julia(start, end, path_to_input, path_to_output, k=20):\n",
    "    ## Step1: load route \n",
    "    route = read_from_file(path_to_input)\n",
    "    \n",
    "    ## Evaluate current distance\n",
    "    distance = Tour(route).score()\n",
    "    best_distance = distance\n",
    "    \n",
    "    ## Perform k-opt between start and end for the k neighbors\n",
    "    opts = []\n",
    "    for i in range(start, end):\n",
    "        for j in range(i+1, len(route)-1):\n",
    "            new_route = swap_2opt(route, i, j) ## replace by call to Julia\n",
    "            new_distance = new_route.score()\n",
    "            if new_distance < best_distance:\n",
    "                opts.append((new_distance, i, j))\n",
    "\n",
    "    ## Write solutions to file\n",
    "    with open(path_to_output, \"w\") as f:\n",
    "        f.write(str(len(opts)))\n",
    "        f.write(\"\\n\")\n",
    "        for opt in opts:\n",
    "            f.write(str(opt[0]) + \" \" + str(opt[1]) + \" \" + str(opt[2]))\n",
    "            f.write(\"\\n\")\n",
    "        "
   ]
  },
  {
   "cell_type": "code",
   "execution_count": 423,
   "metadata": {},
   "outputs": [],
   "source": [
    "task_julia(1, 12, \"/tmp/out.tsp\", \"/tmp/test.txt\")"
   ]
  },
  {
   "cell_type": "code",
   "execution_count": 424,
   "metadata": {},
   "outputs": [
    {
     "name": "stdout",
     "output_type": "stream",
     "text": [
      "43\r\n",
      "80710.07 1 4\r\n",
      "79143.38 1 5\r\n",
      "80285.34 1 7\r\n",
      "80389.53 1 9\r\n",
      "80440.04 1 11\r\n",
      "80456.5 2 4\r\n",
      "78687.79 5 6\r\n",
      "79882.32 5 8\r\n",
      "79518.46 5 10\r\n",
      "80593.61 5 12\r\n",
      "79972.81 5 14\r\n",
      "79450.09 5 41\r\n",
      "79462.48 6 7\r\n",
      "79527.75 6 9\r\n",
      "79743.98 6 11\r\n",
      "80705.1 6 13\r\n",
      "78902.3 7 8\r\n",
      "78812.15 7 10\r\n",
      "80091.46 7 12\r\n",
      "79572.74 7 14\r\n",
      "79453.88 7 41\r\n",
      "78330.49 8 9\r\n",
      "78656.65 8 11\r\n",
      "79922.44 8 13\r\n",
      "80236.62 8 15\r\n",
      "78667.44 9 10\r\n",
      "80016.65 9 12\r\n",
      "79806.63 9 14\r\n",
      "79463.84 9 41\r\n",
      "76996.76 10 11\r\n",
      "78253.95 10 13\r\n",
      "80712.76 10 14\r\n",
      "78561.81 10 15\r\n",
      "79777.23 10 17\r\n",
      "80143.5 10 19\r\n",
      "80661.09 10 35\r\n",
      "80268.04 10 41\r\n",
      "78076.59 11 12\r\n",
      "77843.5 11 14\r\n",
      "79528.94 11 16\r\n",
      "79769.19 11 18\r\n",
      "80605.18 11 20\r\n",
      "78766.29 11 41\r\n"
     ]
    }
   ],
   "source": [
    "!cat /tmp/test.txt"
   ]
  },
  {
   "cell_type": "code",
   "execution_count": 338,
   "metadata": {},
   "outputs": [],
   "source": [
    "from multiprocessing import Queue\n",
    "\n",
    "def task(bucket, route, best_distance, result):\n",
    "    (start, end) = bucket\n",
    "\n",
    "    \n",
    "    \n",
    "    for i in range(start, end):\n",
    "        for k in range(i+1, len(route)-1):\n",
    "            new_route = swap_2opt(route, i, k) ## replace by call to Julia\n",
    "            new_distance = new_route.score()\n",
    "            if new_distance < best_distance:\n",
    "                result.put((new_distance, i, k))"
   ]
  },
  {
   "cell_type": "code",
   "execution_count": 496,
   "metadata": {},
   "outputs": [
    {
     "name": "stdout",
     "output_type": "stream",
     "text": [
      "[(1, 1), (1, 5), (5, 9), (9, 13), (13, 17), (17, 21), (21, 25), (25, 29), (29, 33), (33, 37)]\n"
     ]
    }
   ],
   "source": [
    "cities_per_thread = []\n",
    "if (len(route)-2)%n_threads:\n",
    "    cities_per_thread.append((len(route)-2)%n_threads) \n",
    "else:\n",
    "    cities_per_thread.append(len(route)//n_threads)\n",
    "for i in range(n_threads-1):\n",
    "    cities_per_thread.append(len(route)//n_threads)\n",
    "\n",
    "buckets = [] \n",
    "OPTS = []\n",
    "\n",
    "for i, bucket in enumerate(np.cumsum(cities_per_thread)):\n",
    "    #print(i, bucket)\n",
    "    if i == 0:\n",
    "        buckets.append((1, bucket))#    population[0].path[1:-1][:bucket]     )\n",
    "\n",
    "    else:\n",
    "        buckets.append((buckets[-1][1], bucket)) #population[0].path[1:-1][np.cumsum(cities_per_thread)[i-1]:bucket]  )\n",
    "\n",
    "print(buckets)    "
   ]
  },
  {
   "cell_type": "code",
   "execution_count": 486,
   "metadata": {},
   "outputs": [
    {
     "data": {
      "text/plain": [
       "[1, 4, 4, 4, 4, 4, 4, 4, 4, 4]"
      ]
     },
     "execution_count": 486,
     "metadata": {},
     "output_type": "execute_result"
    }
   ],
   "source": [
    "cities_per_thread"
   ]
  },
  {
   "cell_type": "code",
   "execution_count": 511,
   "metadata": {},
   "outputs": [],
   "source": [
    "def run_2opt(route):\n",
    "    \"\"\"\n",
    "    improves an existing route using the 2-opt swap until no improved route is found\n",
    "    best path found will differ depending of the start node of the list of nodes\n",
    "        representing the input tour\n",
    "    returns the best path found\n",
    "    route - route to improve\n",
    "    \"\"\"\n",
    "    improvement = True\n",
    "    best_route = route\n",
    "    best_distance = route.score()\n",
    "    \n",
    "    n_threads = 4\n",
    "    \n",
    "    cities_per_thread = []\n",
    "    if (len(route)-2)%n_threads:\n",
    "        cities_per_thread.append((len(route)-2)%n_threads) \n",
    "    else:\n",
    "        cities_per_thread.append(len(route)//n_threads)\n",
    "    for i in range(n_threads-1):\n",
    "        cities_per_thread.append(len(route)//n_threads)\n",
    "\n",
    "    \n",
    "    buckets = [] \n",
    "    OPTS = []\n",
    "\n",
    "    for i, bucket in enumerate(np.cumsum(cities_per_thread)):\n",
    "        #print(i, bucket)\n",
    "        if i == 0:\n",
    "            buckets.append((1, bucket))#    population[0].path[1:-1][:bucket]     )\n",
    "\n",
    "        else:\n",
    "            buckets.append((buckets[-1][1], bucket)) #population[0].path[1:-1][np.cumsum(cities_per_thread)[i-1]:bucket]  )\n",
    "\n",
    "    print(buckets)    \n",
    "   \n",
    "    while improvement: \n",
    "        improvement = False\n",
    "        \n",
    "        processes = []\n",
    "        file_out = [\"/tmp/_raptor_julia_{}.tsp\".format(x) for x in range(n_threads)]\n",
    "        file_in = \"/tmp/input_julia.tsp\"\n",
    "        write_to_file(route, file_in)\n",
    "        best_distance = route.score()\n",
    "        \n",
    "        \n",
    "        for idx, bucket in enumerate(buckets):\n",
    "            p = Process(target=task_julia, args=(bucket[0], bucket[1], file_in, file_out[idx]))\n",
    "            processes.append(p)\n",
    "            p.start()\n",
    "        for process in processes:\n",
    "            process.join()\n",
    "\n",
    "            \n",
    "        for fic in file_out:\n",
    "            opts = read_from_julia(fic)\n",
    "            for opt in opts:\n",
    "                OPTS.append(opt)\n",
    "        #print(\"++++\")\n",
    "        #print(len(OPTS))\n",
    "        #print(\"++++\")\n",
    "        \n",
    "        if len(OPTS) > 0:\n",
    "            improvement = True\n",
    "            OPTS = sorted(OPTS, key=lambda x: x[0])\n",
    "            #print( OPTS[0] )\n",
    "            if len(OPTS) > 4:\n",
    "                chosen_swap = random.choice(OPTS[:4])\n",
    "            else:\n",
    "                chosen_swap = OPTS[0]\n",
    "            route = swap_2opt(route, chosen_swap[1], chosen_swap[2])\n",
    "            best_distance = route.score()\n",
    "            #print(best_distance)\n",
    "\n",
    "            OPTS = []\n",
    "            \n",
    "       \n",
    "    assert len(best_route)==len(route)\n",
    "    assert best_route[0]==best_route[-1]==0\n",
    "    assert len(set(best_route))==len(best_route)-1\n",
    "    \n",
    "    return route"
   ]
  },
  {
   "cell_type": "code",
   "execution_count": null,
   "metadata": {},
   "outputs": [],
   "source": []
  },
  {
   "cell_type": "code",
   "execution_count": 524,
   "metadata": {},
   "outputs": [],
   "source": [
    "population = []\n",
    "popSize = 100\n",
    "nGen = 50\n",
    "SP = 2.0\n",
    "mut_rate = .2\n",
    "for i in range(popSize):\n",
    "    ind = generate_ind()\n",
    "    ind.pos = i\n",
    "    population.append(ind)"
   ]
  },
  {
   "cell_type": "code",
   "execution_count": 525,
   "metadata": {},
   "outputs": [],
   "source": [
    "population = sorted(population, key=lambda x: x.fitness, reverse=True)\n",
    "for i in range(len(population)):\n",
    "    population[i].rank = get_rank(popSize, SP, i)"
   ]
  },
  {
   "cell_type": "code",
   "execution_count": null,
   "metadata": {},
   "outputs": [],
   "source": []
  },
  {
   "cell_type": "code",
   "execution_count": null,
   "metadata": {},
   "outputs": [
    {
     "name": "stdout",
     "output_type": "stream",
     "text": [
      "Gen 0 - Best: 79034.67\n",
      "[(1, 1), (1, 11), (11, 21), (21, 31)]\n",
      "21881.54\n",
      "Gen 1 - Best: 21881.54\n",
      "[(1, 1), (1, 11), (11, 21), (21, 31)]\n",
      "22666.16\n",
      "Gen 2 - Best: 21881.54\n",
      "[(1, 1), (1, 11), (11, 21), (21, 31)]\n",
      "22574.83\n",
      "Gen 3 - Best: 21881.54\n",
      "[(1, 1), (1, 11), (11, 21), (21, 31)]\n",
      "21743.09\n",
      "Gen 4 - Best: 21743.09\n",
      "[(1, 1), (1, 11), (11, 21), (21, 31)]\n",
      "20861.22\n",
      "Gen 5 - Best: 20861.22\n",
      "[(1, 1), (1, 11), (11, 21), (21, 31)]\n",
      "21660.83\n",
      "Gen 6 - Best: 20861.22\n",
      "[(1, 1), (1, 11), (11, 21), (21, 31)]\n",
      "21970.36\n",
      "Gen 7 - Best: 20861.22\n",
      "[(1, 1), (1, 11), (11, 21), (21, 31)]\n",
      "20947.9\n",
      "Gen 8 - Best: 20861.22\n",
      "[(1, 1), (1, 11), (11, 21), (21, 31)]\n",
      "21235.9\n",
      "Gen 9 - Best: 20861.22\n",
      "[(1, 1), (1, 11), (11, 21), (21, 31)]\n",
      "20572.09\n",
      "Gen 10 - Best: 20572.09\n",
      "[(1, 1), (1, 11), (11, 21), (21, 31)]\n",
      "21161.71\n",
      "Gen 11 - Best: 20572.09\n",
      "[(1, 1), (1, 11), (11, 21), (21, 31)]\n",
      "22396.83\n",
      "Gen 12 - Best: 20572.09\n",
      "[(1, 1), (1, 11), (11, 21), (21, 31)]\n",
      "20925.83\n",
      "Gen 13 - Best: 20572.09\n",
      "[(1, 1), (1, 11), (11, 21), (21, 31)]\n",
      "21789.32\n",
      "Gen 14 - Best: 20572.09\n",
      "[(1, 1), (1, 11), (11, 21), (21, 31)]\n",
      "20743.21\n",
      "Gen 15 - Best: 20572.09\n",
      "[(1, 1), (1, 11), (11, 21), (21, 31)]\n",
      "22074.48\n",
      "Gen 16 - Best: 20572.09\n",
      "[(1, 1), (1, 11), (11, 21), (21, 31)]\n",
      "22145.92\n",
      "Gen 17 - Best: 20572.09\n",
      "[(1, 1), (1, 11), (11, 21), (21, 31)]\n",
      "24006.51\n",
      "Gen 18 - Best: 20572.09\n",
      "[(1, 1), (1, 11), (11, 21), (21, 31)]\n",
      "21431.03\n",
      "Gen 19 - Best: 20572.09\n",
      "[(1, 1), (1, 11), (11, 21), (21, 31)]\n",
      "21999.98\n",
      "Gen 20 - Best: 20572.09\n",
      "[(1, 1), (1, 11), (11, 21), (21, 31)]\n",
      "23830.17\n",
      "Gen 21 - Best: 20572.09\n",
      "[(1, 1), (1, 11), (11, 21), (21, 31)]\n",
      "21153.54\n",
      "Gen 22 - Best: 20572.09\n",
      "[(1, 1), (1, 11), (11, 21), (21, 31)]\n"
     ]
    }
   ],
   "source": [
    "rnd = uuid.uuid4()\n",
    "for i in range(nGen):\n",
    "    population = sorted(population, key=lambda x: x.fitness, reverse=True)\n",
    "    for j in range(len(population)):\n",
    "        population[j].rank = get_rank(popSize, SP, j)\n",
    "    population = sorted(population, key=lambda x: x.rank, reverse=False)\n",
    "        \n",
    "    best_score = population[-1].fitness\n",
    "    write_to_file(seq=population[-1].path, out=\"./{}_{}_{}.tsp\".format(best_score, rnd, i))\n",
    "    print(\"Gen {} - Best: {}\".format(i, best_score))\n",
    "    \n",
    "    \n",
    "    if np.random.random() < mut_rate:\n",
    "        parent = population[-1] \n",
    "        child = mutate(parent)\n",
    "    else:\n",
    "        p1 = population[-1] \n",
    "        p2 = population[-2] \n",
    "        \n",
    "        child = crossover(p1.path, p2.path)\n",
    "        child = Individual(child)\n",
    "\n",
    "    child.path = run_2opt(Tour(child.path))\n",
    "    child.fitness = Tour(child.path).score()\n",
    "    \n",
    "    print(child.fitness)\n",
    "    if child.fitness < population[0].fitness:\n",
    "        population[0] = child\n",
    "    "
   ]
  },
  {
   "cell_type": "code",
   "execution_count": null,
   "metadata": {},
   "outputs": [],
   "source": [
    "Best: 20546.52"
   ]
  },
  {
   "cell_type": "code",
   "execution_count": 36,
   "metadata": {},
   "outputs": [],
   "source": [
    "def plot_path(path, coordinates, k=0):\n",
    "    # Plot tour\n",
    "    lines = []\n",
    "    distances = [] \n",
    "    for i in range(1, len(path)):\n",
    "        line = [coordinates[path[i-1]], coordinates[path[i]]]\n",
    "        (x1, y1), (x2, y2) = line\n",
    "        distance = np.sqrt((x1-x2)**2 + (y1-y2)**2)\n",
    "        distances.append(distance)   \n",
    "        if distance > 16.4:\n",
    "            lines.append(line)\n",
    "        \n",
    "    lc = mc.LineCollection(lines, linewidths=2)\n",
    "    fig, ax = plt.subplots(figsize=(20,20))\n",
    "    ax.set_aspect('equal')\n",
    "    plt.grid(False)\n",
    "    ax.add_collection(lc)\n",
    "    ax.autoscale()\n",
    "    return distances"
   ]
  },
  {
   "cell_type": "code",
   "execution_count": 405,
   "metadata": {},
   "outputs": [
    {
     "data": {
      "image/png": "[encoded data removed]",
      "text/plain": [
       "<Figure size 1440x1440 with 1 Axes>"
      ]
     },
     "metadata": {
      "needs_background": "light"
     },
     "output_type": "display_data"
    }
   ],
   "source": [
    "distances = plot_path(population[-1].path, cities[[\"X\", \"Y\"]].values)"
   ]
  },
  {
   "cell_type": "code",
   "execution_count": 29,
   "metadata": {},
   "outputs": [],
   "source": [
    "class Individual():\n",
    "    def __init__(self, path):\n",
    "        self.path = path\n",
    "        self.fitness = Tour(path).score()\n",
    "        self.ranking = 0\n"
   ]
  },
  {
   "cell_type": "code",
   "execution_count": 33,
   "metadata": {},
   "outputs": [],
   "source": [
    "def get_rank(pop_size, selection_pressure, position):\n",
    "    rank = 2 - selection_pressure + 2*(selection_pressure-1)*((position-1)/(pop_size-1))\n",
    "    return rank"
   ]
  },
  {
   "cell_type": "code",
   "execution_count": 27,
   "metadata": {},
   "outputs": [],
   "source": [
    "def generate_ind():\n",
    "    indiv = list(range(1,42))\n",
    "    indiv = np.random.permutation(indiv)\n",
    "    indiv = np.insert(indiv, 0, 0)\n",
    "    indiv = np.insert(indiv, len(indiv), 0)\n",
    "    indiv = list(indiv)\n",
    "    \n",
    "    assert indiv[0]==indiv[-1]==0\n",
    "    assert len(set(indiv))==len(indiv)-1\n",
    "    \n",
    "    return Individual(indiv)"
   ]
  },
  {
   "cell_type": "code",
   "execution_count": 34,
   "metadata": {},
   "outputs": [],
   "source": [
    "def mutate(indiv):\n",
    "#    i, ii, j, jj, k, kk, l, ll = 3, 4, 9, 10, 28, 29, 35, 36\n",
    "    \n",
    "    i = np.random.randint(1, int(0.25*len(indiv.path)))\n",
    "    ii = i+1\n",
    "    \n",
    "    j = np.random.randint(int(0.25*len(indiv.path))+1, int(0.50*len(indiv.path)))\n",
    "    jj = j+1\n",
    "    \n",
    "    k = np.random.randint(int(0.50*len(indiv.path))+1, int(0.75*len(indiv.path)))\n",
    "    kk = k+1\n",
    "    \n",
    "    l = np.random.randint(int(0.75*len(indiv.path))+1, len(indiv.path)-2)\n",
    "    ll = l+1\n",
    "    \n",
    "    new_genome = indiv.path[0:i+1]\n",
    "\n",
    "    new_genome.append(indiv.path[kk])\n",
    "    new_genome.extend(indiv.path[kk+1:l+1])\n",
    "    new_genome.append(indiv.path[jj])\n",
    "    new_genome.extend(indiv.path[jj+1:k+1])\n",
    "    new_genome.append(indiv.path[ii])\n",
    "    new_genome.extend(indiv.path[ii+1:j+1])\n",
    "    new_genome.append(indiv.path[ll])\n",
    "    new_genome.extend(indiv.path[ll+1:])\n",
    "\n",
    "\n",
    "    assert len(new_genome)==len(indiv.path)\n",
    "    assert new_genome[0]==new_genome[-1]==0\n",
    "    assert len(set(new_genome))==len(new_genome)-1\n",
    "    \n",
    "    return Individual(new_genome)"
   ]
  },
  {
   "cell_type": "code",
   "execution_count": 35,
   "metadata": {},
   "outputs": [],
   "source": [
    "def crossover(p1, p2):\n",
    "    \n",
    "    parent1, parent2 = p1.path, p2.path\n",
    "    rnd_city = np.random.randint(low=1, high=42)\n",
    "    offspring = [rnd_city]\n",
    "    rnd_city_in_parent1 = parent1.index(rnd_city)\n",
    "    rnd_city_in_parent2 = parent2.index(rnd_city)\n",
    "    city_included = [rnd_city]\n",
    "    STOP = False\n",
    "    idx1 = rnd_city_in_parent1 + 1\n",
    "    idx2 = rnd_city_in_parent2 - 1\n",
    "    while not STOP:\n",
    "        if idx1 < len(parent1)-1: ## -1 for the 0 \n",
    "            if parent1[idx1] in city_included:\n",
    "                STOP = True\n",
    "                break\n",
    "            offspring.append(parent1[idx1])\n",
    "            city_included.append(parent1[idx1])\n",
    "            idx1+=1\n",
    "        else:\n",
    "            break\n",
    "\n",
    "        if idx2 > 0: ## > strict for the 0\n",
    "            if parent2[idx2] in city_included:\n",
    "                STOP = True\n",
    "                break\n",
    "            offspring.insert( 0,parent2[idx2])\n",
    "            city_included.append(parent2[idx2])\n",
    "            idx2-=1\n",
    "    for i in range(1, len(parent2)-1): ##-1 for the zero\n",
    "        if parent2[i] not in city_included:\n",
    "            offspring.append(parent2[i])\n",
    "    offspring.append(0)\n",
    "    offspring.insert(0, 0)\n",
    "    \n",
    "    assert len(offspring)==len(p1.path)\n",
    "    assert offspring[0]==offspring[-1]==0\n",
    "    assert len(set(offspring))==len(offspring)-1\n",
    "    \n",
    "    return Individual(offspring)"
   ]
  }
 ],
 "metadata": {
  "kernelspec": {
   "display_name": "Python 3",
   "language": "python",
   "name": "python3"
  },
  "language_info": {
   "codemirror_mode": {
    "name": "ipython",
    "version": 3
   },
   "file_extension": ".py",
   "mimetype": "text/x-python",
   "name": "python",
   "nbconvert_exporter": "python",
   "pygments_lexer": "ipython3",
   "version": "3.6.1"
  }
 },
 "nbformat": 4,
 "nbformat_minor": 2
}
