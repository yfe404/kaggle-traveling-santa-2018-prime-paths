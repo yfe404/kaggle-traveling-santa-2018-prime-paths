{
 "cells": [
  {
   "cell_type": "code",
   "execution_count": null,
   "metadata": {},
   "outputs": [],
   "source": []
  },
  {
   "cell_type": "code",
   "execution_count": null,
   "metadata": {},
   "outputs": [],
   "source": [
    "import numpy as np\n",
    "import pandas as pd\n",
    "import matplotlib as mpl\n",
    "import matplotlib.pyplot as plt\n",
    "import sympy\n",
    "from sympy import isprime, primerange\n",
    "from tqdm import tqdm\n",
    "from copy import copy\n",
    "from matplotlib import collections  as mc\n",
    "import uuid\n",
    "from subprocess import call\n",
    "from multiprocessing import Process\n",
    "import random\n",
    "\n",
    "\n",
    "\n",
    "%matplotlib inline"
   ]
  },
  {
   "cell_type": "code",
   "execution_count": null,
   "metadata": {},
   "outputs": [],
   "source": []
  },
  {
   "cell_type": "markdown",
   "metadata": {},
   "source": [
    "## Utils"
   ]
  },
  {
   "cell_type": "code",
   "execution_count": null,
   "metadata": {},
   "outputs": [],
   "source": [
    "def write_to_file(seq, out):\n",
    "    with open(out, \"w\") as f:\n",
    "        f.write(\" \".join([str(x) for x in seq]))"
   ]
  },
  {
   "cell_type": "code",
   "execution_count": null,
   "metadata": {},
   "outputs": [],
   "source": [
    "def read_from_file(inp):\n",
    "    with open(inp, \"r\") as f:\n",
    "        data = f.readlines()[0].strip().split(\" \")\n",
    "        return [int(x) for x in data]"
   ]
  },
  {
   "cell_type": "code",
   "execution_count": null,
   "metadata": {},
   "outputs": [],
   "source": [
    "from math import hypot\n",
    "class Node:\n",
    "    \"\"\"\n",
    "    represents a node in a TSP tour\n",
    "    \"\"\"\n",
    "    def __init__(self, num, coords):\n",
    "        self.num = num # start position in a route's order\n",
    "        self.x = coords[0]   # x coordinate\n",
    "        self.y = coords[1]   # y coordinate\n",
    "\n",
    "    def __str__(self):\n",
    "        \"\"\"\n",
    "        returns the string representation of a Node\n",
    "        \"\"\"\n",
    "        return self.num\n",
    "\n",
    "    def __eq__(self, other):\n",
    "        return self.__dict__ == other.__dict__\n",
    "\n",
    "    def euclidean_dist(self, other):\n",
    "        \"\"\"\n",
    "        returns the Euclidean distance between this Node and other Node\n",
    "        other - other node\n",
    "        \"\"\"\n",
    "        dx = self.x - other.x\n",
    "        dy = self.y - other.y\n",
    "        return hypot(dx, dy)"
   ]
  },
  {
   "cell_type": "code",
   "execution_count": null,
   "metadata": {},
   "outputs": [],
   "source": [
    "def read_from_julia(input_file):\n",
    "    opts = []\n",
    "    with open(input_file, \"r\") as f:\n",
    "        size = int(f.readline())\n",
    "        for i in range(size):\n",
    "            distance,i,j = (x for x in f.readline().strip().split(\" \"))\n",
    "            distance = float(distance)\n",
    "            i = int(i)\n",
    "            j = int(j)\n",
    "            opts.append((distance,i,j))\n",
    "    return opts"
   ]
  },
  {
   "cell_type": "code",
   "execution_count": null,
   "metadata": {},
   "outputs": [],
   "source": [
    "def plot_path(path, coordinates, k=0):\n",
    "    # Plot tour\n",
    "    lines = []\n",
    "    distances = [] \n",
    "    for i in range(1, len(path)):\n",
    "        line = [coordinates[path[i-1]], coordinates[path[i]]]\n",
    "        (x1, y1), (x2, y2) = line\n",
    "        distance = np.sqrt((x1-x2)**2 + (y1-y2)**2)\n",
    "        distances.append(distance)   \n",
    "        if distance > k:\n",
    "            lines.append(line)\n",
    "        \n",
    "    lc = mc.LineCollection(lines, linewidths=2)\n",
    "    fig, ax = plt.subplots(figsize=(20,20))\n",
    "    ax.set_aspect('equal')\n",
    "    plt.grid(False)\n",
    "    ax.add_collection(lc)\n",
    "    ax.autoscale()\n",
    "    return distances"
   ]
  },
  {
   "cell_type": "markdown",
   "metadata": {},
   "source": [
    "## Prepare input"
   ]
  },
  {
   "cell_type": "code",
   "execution_count": null,
   "metadata": {},
   "outputs": [],
   "source": [
    "cities = pd.read_csv('../input/cities.csv', index_col=['CityId'])"
   ]
  },
  {
   "cell_type": "code",
   "execution_count": null,
   "metadata": {},
   "outputs": [],
   "source": [
    "class Tour(list):  # list with trailing 0\n",
    "    penalized = ~cities.index.isin(sympy.primerange(0, len(cities)))\n",
    "\n",
    "    @staticmethod\n",
    "    def from_file(filename):  # from linkern's output or csv\n",
    "        seq = [int(x) for x in open(filename).read().split()[1:]]\n",
    "        return Tour(seq if seq[-1] == 0 else (seq + [0]))\n",
    "\n",
    "    def score(self):\n",
    "        df = cities.reindex(self)\n",
    "        dist = np.hypot(df.X.diff(-1), df.Y.diff(-1))\n",
    "        penalty = 0.1 * dist[9::10] * self.penalized[self[9::10]]\n",
    "        _score = dist.sum() + penalty.sum()\n",
    "        _score = np.round(_score,2)\n",
    "\n",
    "        return _score\n",
    "\n",
    "    def to_csv(self, filename):\n",
    "        pd.DataFrame({'Path': self}).to_csv(filename, index=False)"
   ]
  },
  {
   "cell_type": "code",
   "execution_count": null,
   "metadata": {},
   "outputs": [],
   "source": [
    "tour = Tour.from_file('../../../Downloads/LKH-2.0.9/data/linkern.tour')\n",
    "#tour.to_csv('pool/{}.csv'.format(tour.score()))\n",
    "print(tour.score())"
   ]
  },
  {
   "cell_type": "markdown",
   "metadata": {},
   "source": [
    "## Genetic Operators"
   ]
  },
  {
   "cell_type": "markdown",
   "metadata": {},
   "source": [
    "### Newly improved GSX (GSX-2)."
   ]
  },
  {
   "cell_type": "code",
   "execution_count": null,
   "metadata": {},
   "outputs": [],
   "source": [
    "def crossover(a,b):\n",
    "    write_to_file(a, \"/tmp/aa.tsp\")\n",
    "    write_to_file(b, \"/tmp/bb.tsp\")\n",
    "    \n",
    "    call([\"../cpp/gsx2\", \"/tmp/aa.tsp\", \"/tmp/bb.tsp\", \"/tmp/out.tsp\"])\n",
    "    \n",
    "    out_seq = read_from_file(\"/tmp/out.tsp\")\n",
    "    \n",
    "    assert(len(out_seq)==len(a))\n",
    "    assert(out_seq[0] == out_seq[-1] == 0)\n",
    "    \n",
    "    return out_seq"
   ]
  },
  {
   "cell_type": "markdown",
   "metadata": {},
   "source": [
    " ### Double-bridge move mutation operator"
   ]
  },
  {
   "cell_type": "code",
   "execution_count": null,
   "metadata": {},
   "outputs": [],
   "source": [
    "def mutate(indiv):\n",
    "#    i, ii, j, jj, k, kk, l, ll = 3, 4, 9, 10, 28, 29, 35, 36\n",
    "    \n",
    "    i = np.random.randint(1, int(0.25*len(indiv.path)))\n",
    "    ii = i+1\n",
    "    \n",
    "    j = np.random.randint(int(0.25*len(indiv.path))+1, int(0.50*len(indiv.path)))\n",
    "    jj = j+1\n",
    "    \n",
    "    k = np.random.randint(int(0.50*len(indiv.path))+1, int(0.75*len(indiv.path)))\n",
    "    kk = k+1\n",
    "    \n",
    "    l = np.random.randint(int(0.75*len(indiv.path))+1, len(indiv.path)-2)\n",
    "    ll = l+1\n",
    "    \n",
    "    new_genome = indiv.path[0:i+1]\n",
    "\n",
    "    new_genome.append(indiv.path[kk])\n",
    "    new_genome.extend(indiv.path[kk+1:l+1])\n",
    "    new_genome.append(indiv.path[jj])\n",
    "    new_genome.extend(indiv.path[jj+1:k+1])\n",
    "    new_genome.append(indiv.path[ii])\n",
    "    new_genome.extend(indiv.path[ii+1:j+1])\n",
    "    new_genome.append(indiv.path[ll])\n",
    "    new_genome.extend(indiv.path[ll+1:])\n",
    "\n",
    "\n",
    "    assert len(new_genome)==len(indiv.path)\n",
    "    assert new_genome[0]==new_genome[-1]==0\n",
    "    assert len(set(new_genome))==len(new_genome)-1\n",
    "    \n",
    "    return Individual(new_genome)"
   ]
  },
  {
   "cell_type": "markdown",
   "metadata": {},
   "source": [
    "## Mock"
   ]
  },
  {
   "cell_type": "code",
   "execution_count": null,
   "metadata": {},
   "outputs": [],
   "source": [
    "def task_julia(start, end, path_to_input, path_to_output, k=20):\n",
    "    ## Step1: load route \n",
    "    route = read_from_file(path_to_input)\n",
    "    \n",
    "    ## Evaluate current distance\n",
    "    distance = Tour(route).score()\n",
    "    best_distance = distance\n",
    "    \n",
    "    ## Perform k-opt between start and end for the k neighbors\n",
    "    opts = []\n",
    "    for i in range(start, end):\n",
    "        for j in range(i+1, len(route)-1):\n",
    "            new_route = swap_2opt(route, i, j) ## replace by call to Julia\n",
    "            new_distance = new_route.score()\n",
    "            if new_distance < best_distance:\n",
    "                opts.append((new_distance, i, j))\n",
    "\n",
    "    ## Write solutions to file\n",
    "    with open(path_to_output, \"w\") as f:\n",
    "        f.write(str(len(opts)))\n",
    "        f.write(\"\\n\")\n",
    "        for opt in opts:\n",
    "            f.write(str(opt[0]) + \" \" + str(opt[1]) + \" \" + str(opt[2]))\n",
    "            f.write(\"\\n\")"
   ]
  },
  {
   "cell_type": "markdown",
   "metadata": {},
   "source": [
    "## Legacy "
   ]
  },
  {
   "cell_type": "code",
   "execution_count": null,
   "metadata": {},
   "outputs": [],
   "source": [
    "def swap_2opt(route, i, k):\n",
    "    \"\"\"\n",
    "    swaps the endpoints of two edges by reversing a section of nodes, \n",
    "    ideally to eliminate crossovers\n",
    "    returns the new route created with a the 2-opt swap\n",
    "    route - route to apply 2-opt\n",
    "    i - start index of the portion of the route to be reversed\n",
    "    k - index of last node in portion of route to be reversed\n",
    "    pre: 0 <= i < (len(route) - 1) and i < k < len(route)\n",
    "    post: length of the new route must match length of the given route \n",
    "    \"\"\"\n",
    "    assert i >= 0 and i < (len(route) - 1)\n",
    "    assert k > i and k < len(route)\n",
    "    new_route = route[0:i]\n",
    "    new_route.extend(reversed(route[i:k + 1]))\n",
    "#    reversed(route[i:k + 1])\n",
    "    new_route.extend(route[k+1:])\n",
    "    assert len(new_route)==len(route)\n",
    "    assert new_route[0]==new_route[-1]==0\n",
    "    assert len(set(new_route))==len(new_route)-1\n",
    "    return Tour(new_route)"
   ]
  },
  {
   "cell_type": "code",
   "execution_count": null,
   "metadata": {},
   "outputs": [],
   "source": []
  },
  {
   "cell_type": "markdown",
   "metadata": {},
   "source": [
    "## Heuristics "
   ]
  },
  {
   "cell_type": "code",
   "execution_count": null,
   "metadata": {},
   "outputs": [],
   "source": [
    "def run_2opt(route):\n",
    "    \"\"\"\n",
    "    improves an existing route using the 2-opt swap until no improved route is found\n",
    "    best path found will differ depending of the start node of the list of nodes\n",
    "        representing the input tour\n",
    "    returns the best path found\n",
    "    route - route to improve\n",
    "    \"\"\"\n",
    "    improvement = True\n",
    "    best_route = route\n",
    "    best_distance = route.score()\n",
    "    \n",
    "    n_threads = 4\n",
    "    \n",
    "    cities_per_thread = []\n",
    "    if (len(route)-2)%n_threads:\n",
    "        cities_per_thread.append((len(route)-2)%n_threads) \n",
    "    else:\n",
    "        cities_per_thread.append(len(route)//n_threads)\n",
    "    for i in range(n_threads-1):\n",
    "        cities_per_thread.append(len(route)//n_threads)\n",
    "\n",
    "    \n",
    "    buckets = [] \n",
    "    OPTS = []\n",
    "\n",
    "    for i, bucket in enumerate(np.cumsum(cities_per_thread)):\n",
    "        #print(i, bucket)\n",
    "        if i == 0:\n",
    "            buckets.append((1, bucket))#    population[0].path[1:-1][:bucket]     )\n",
    "\n",
    "        else:\n",
    "            buckets.append((buckets[-1][1], bucket)) #population[0].path[1:-1][np.cumsum(cities_per_thread)[i-1]:bucket]  )\n",
    "\n",
    "    #print(buckets)    \n",
    "   \n",
    "    while improvement: \n",
    "        improvement = False\n",
    "        \n",
    "        processes = []\n",
    "        file_out = [\"/tmp/_raptor_julia_{}.tsp\".format(x) for x in range(n_threads)]\n",
    "        file_in = \"/tmp/input_julia.tsp\"\n",
    "        write_to_file(route, file_in)\n",
    "        best_distance = route.score()\n",
    "        \n",
    "        \n",
    "        for idx, bucket in enumerate(buckets):\n",
    "            p = Process(target=task_julia, args=(bucket[0], bucket[1], file_in, file_out[idx]))\n",
    "            processes.append(p)\n",
    "            p.start()\n",
    "        for process in processes:\n",
    "            process.join()\n",
    "\n",
    "            \n",
    "        for fic in file_out:\n",
    "            opts = read_from_julia(fic)\n",
    "            for opt in opts:\n",
    "                OPTS.append(opt)\n",
    "        #print(\"++++\")\n",
    "        #print(len(OPTS))\n",
    "        #print(\"++++\")\n",
    "        \n",
    "        if len(OPTS) > 0:\n",
    "            improvement = True\n",
    "            OPTS = sorted(OPTS, key=lambda x: x[0])\n",
    "            #print( OPTS[0] )\n",
    "            if len(OPTS) > 4:\n",
    "                chosen_swap = random.choice(OPTS[:4])\n",
    "            else:\n",
    "                chosen_swap = OPTS[0]\n",
    "            route = swap_2opt(route, chosen_swap[1], chosen_swap[2])\n",
    "            best_distance = route.score()\n",
    "            #print(best_distance)\n",
    "\n",
    "            OPTS = []\n",
    "            \n",
    "       \n",
    "    assert len(best_route)==len(route)\n",
    "    assert best_route[0]==best_route[-1]==0\n",
    "    assert len(set(best_route))==len(best_route)-1\n",
    "    \n",
    "    return route"
   ]
  },
  {
   "cell_type": "markdown",
   "metadata": {},
   "source": [
    "## Hybrid Genetic Algorithm"
   ]
  },
  {
   "cell_type": "markdown",
   "metadata": {},
   "source": [
    "### Helpers"
   ]
  },
  {
   "cell_type": "code",
   "execution_count": null,
   "metadata": {},
   "outputs": [],
   "source": [
    "def generate_ind():\n",
    "    indiv = list(range(1,42))\n",
    "    indiv = np.random.permutation(indiv)\n",
    "    indiv = np.insert(indiv, 0, 0)\n",
    "    indiv = np.insert(indiv, len(indiv), 0)\n",
    "    indiv = list(indiv)\n",
    "    \n",
    "    assert indiv[0]==indiv[-1]==0\n",
    "    assert len(set(indiv))==len(indiv)-1\n",
    "    \n",
    "    return Individual(indiv)"
   ]
  },
  {
   "cell_type": "code",
   "execution_count": null,
   "metadata": {},
   "outputs": [],
   "source": [
    "class Individual():\n",
    "    def __init__(self, path):\n",
    "        self.path = path\n",
    "        self.fitness = Tour(path).score()\n",
    "        self.ranking = 0"
   ]
  },
  {
   "cell_type": "code",
   "execution_count": null,
   "metadata": {},
   "outputs": [],
   "source": [
    "def get_rank(pop_size, selection_pressure, position):\n",
    "    rank = 2 - selection_pressure + 2*(selection_pressure-1)*((position-1)/(pop_size-1))\n",
    "    return rank"
   ]
  },
  {
   "cell_type": "markdown",
   "metadata": {},
   "source": [
    "### Settings"
   ]
  },
  {
   "cell_type": "code",
   "execution_count": null,
   "metadata": {},
   "outputs": [],
   "source": [
    "population = []\n",
    "popSize = 100\n",
    "nGen = 50\n",
    "SP = 2.0\n",
    "mut_rate = .2\n",
    "for i in range(popSize):\n",
    "    ind = generate_ind()\n",
    "    ind.pos = i\n",
    "    population.append(ind)"
   ]
  },
  {
   "cell_type": "code",
   "execution_count": null,
   "metadata": {},
   "outputs": [],
   "source": [
    "population = sorted(population, key=lambda x: x.fitness, reverse=True)\n",
    "for i in range(len(population)):\n",
    "    population[i].rank = get_rank(popSize, SP, i)"
   ]
  },
  {
   "cell_type": "code",
   "execution_count": null,
   "metadata": {},
   "outputs": [],
   "source": [
    "rnd = uuid.uuid4()\n",
    "for i in range(nGen):\n",
    "    population = sorted(population, key=lambda x: x.fitness, reverse=True)\n",
    "    for j in range(len(population)):\n",
    "        population[j].rank = get_rank(popSize, SP, j)\n",
    "    population = sorted(population, key=lambda x: x.rank, reverse=False)\n",
    "        \n",
    "    best_score = population[-1].fitness\n",
    "    write_to_file(seq=population[-1].path, out=\"./{}_{}_{}.tsp\".format(best_score, rnd, i))\n",
    "    print(\"Gen {} - Best: {}\".format(i, best_score))\n",
    "    \n",
    "    \n",
    "    if np.random.random() < mut_rate:\n",
    "        parent = population[-1] \n",
    "        child = mutate(parent)\n",
    "    else:\n",
    "        p1 = population[-1] \n",
    "        p2 = population[-2] \n",
    "        \n",
    "        child = crossover(p1.path, p2.path)\n",
    "        child = Individual(child)\n",
    "\n",
    "    child.path = run_2opt(Tour(child.path))\n",
    "    child.fitness = Tour(child.path).score()\n",
    "    \n",
    "    print(child.fitness)\n",
    "    if child.fitness < population[0].fitness:\n",
    "        population[0] = child\n",
    "    "
   ]
  },
  {
   "cell_type": "code",
   "execution_count": null,
   "metadata": {},
   "outputs": [],
   "source": [
    "### Best: 20546.52"
   ]
  },
  {
   "cell_type": "code",
   "execution_count": null,
   "metadata": {},
   "outputs": [],
   "source": []
  },
  {
   "cell_type": "code",
   "execution_count": null,
   "metadata": {},
   "outputs": [],
   "source": [
    "distances = plot_path(population[-1].path, cities[[\"X\", \"Y\"]].values)"
   ]
  }
 ],
 "metadata": {
  "kernelspec": {
   "display_name": "Python 3",
   "language": "python",
   "name": "python3"
  },
  "language_info": {
   "codemirror_mode": {
    "name": "ipython",
    "version": 3
   },
   "file_extension": ".py",
   "mimetype": "text/x-python",
   "name": "python",
   "nbconvert_exporter": "python",
   "pygments_lexer": "ipython3",
   "version": "3.6.1"
  }
 },
 "nbformat": 4,
 "nbformat_minor": 2
}
