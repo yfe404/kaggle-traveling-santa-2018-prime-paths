{
 "cells": [
  {
   "cell_type": "code",
   "execution_count": null,
   "metadata": {},
   "outputs": [],
   "source": []
  },
  {
   "cell_type": "code",
   "execution_count": 28,
   "metadata": {},
   "outputs": [],
   "source": [
    "import numpy as np\n",
    "import pandas as pd\n",
    "import matplotlib as mpl\n",
    "import matplotlib.pyplot as plt\n",
    "import sympy\n",
    "from sympy import isprime, primerange\n",
    "from tqdm import tqdm\n",
    "from copy import copy\n",
    "\n",
    "%matplotlib inline"
   ]
  },
  {
   "cell_type": "markdown",
   "metadata": {},
   "source": [
    "## Prepare input"
   ]
  },
  {
   "cell_type": "code",
   "execution_count": 2,
   "metadata": {},
   "outputs": [],
   "source": [
    "cities = pd.read_csv('../input/cities.csv', index_col=['CityId'])"
   ]
  },
  {
   "cell_type": "code",
   "execution_count": 4,
   "metadata": {},
   "outputs": [],
   "source": [
    "cities1k = cities * 1000"
   ]
  },
  {
   "cell_type": "code",
   "execution_count": 3,
   "metadata": {},
   "outputs": [],
   "source": [
    "class Tour(list):  # list with trailing 0\n",
    "    penalized = ~cities.index.isin(sympy.primerange(0, len(cities)))\n",
    "\n",
    "    @staticmethod\n",
    "    def from_file(filename):  # from linkern's output or csv\n",
    "        seq = [int(x) for x in open(filename).read().split()[1:]]\n",
    "        return Tour(seq if seq[-1] == 0 else (seq + [0]))\n",
    "\n",
    "    def score(self):\n",
    "        df = cities.reindex(self)\n",
    "        dist = np.hypot(df.X.diff(-1), df.Y.diff(-1))\n",
    "        penalty = 0.1 * dist[9::10] * self.penalized[self[9::10]]\n",
    "        _score = dist.sum() + penalty.sum()\n",
    "        _score = np.round(_score,2)\n",
    "\n",
    "        return _score\n",
    "\n",
    "    def to_csv(self, filename):\n",
    "        pd.DataFrame({'Path': self}).to_csv(filename, index=False)"
   ]
  },
  {
   "cell_type": "code",
   "execution_count": 4,
   "metadata": {},
   "outputs": [
    {
     "name": "stdout",
     "output_type": "stream",
     "text": [
      "1517113.59\n"
     ]
    }
   ],
   "source": [
    "tour = Tour.from_file('../../../Downloads/LKH-2.0.9/data/linkern.tour')\n",
    "#tour.to_csv('pool/{}.csv'.format(tour.score()))\n",
    "print(tour.score())"
   ]
  },
  {
   "cell_type": "code",
   "execution_count": 5,
   "metadata": {},
   "outputs": [],
   "source": [
    "from math import hypot\n",
    "class Node:\n",
    "    \"\"\"\n",
    "    represents a node in a TSP tour\n",
    "    \"\"\"\n",
    "    def __init__(self, num, coords):\n",
    "        self.num = num # start position in a route's order\n",
    "        self.x = coords[0]   # x coordinate\n",
    "        self.y = coords[1]   # y coordinate\n",
    "\n",
    "    def __str__(self):\n",
    "        \"\"\"\n",
    "        returns the string representation of a Node\n",
    "        \"\"\"\n",
    "        return self.num\n",
    "\n",
    "    def __eq__(self, other):\n",
    "        return self.__dict__ == other.__dict__\n",
    "\n",
    "    def euclidean_dist(self, other):\n",
    "        \"\"\"\n",
    "        returns the Euclidean distance between this Node and other Node\n",
    "        other - other node\n",
    "        \"\"\"\n",
    "        dx = self.x - other.x\n",
    "        dy = self.y - other.y\n",
    "        return hypot(dx, dy)"
   ]
  },
  {
   "cell_type": "code",
   "execution_count": 6,
   "metadata": {},
   "outputs": [],
   "source": [
    "PATH = []\n",
    "for i in range(len(tour)):\n",
    "    PATH.append(Node(tour[i], cities.values[tour[i]]))"
   ]
  },
  {
   "cell_type": "code",
   "execution_count": 7,
   "metadata": {},
   "outputs": [],
   "source": [
    "def sscore(p):\n",
    "    distance = 0.0\n",
    "    for i in range(len(p)-1):\n",
    "        d = p[i].euclidean_dist(p[i+1])\n",
    "        if i%10 == 0 and not isprime(p[i-1].num): d *= 1.1 \n",
    "        distance += d\n",
    "    return distance"
   ]
  },
  {
   "cell_type": "code",
   "execution_count": 8,
   "metadata": {},
   "outputs": [
    {
     "data": {
      "text/plain": [
       "1517126.8455356655"
      ]
     },
     "execution_count": 8,
     "metadata": {},
     "output_type": "execute_result"
    }
   ],
   "source": [
    "sscore(PATH)"
   ]
  },
  {
   "cell_type": "code",
   "execution_count": 108,
   "metadata": {},
   "outputs": [
    {
     "data": {
      "text/plain": [
       "197769"
      ]
     },
     "execution_count": 108,
     "metadata": {},
     "output_type": "execute_result"
    }
   ],
   "source": []
  },
  {
   "cell_type": "markdown",
   "metadata": {},
   "source": [
    "# Newly improved GSX (GSX-2)."
   ]
  },
  {
   "cell_type": "code",
   "execution_count": 209,
   "metadata": {},
   "outputs": [
    {
     "data": {
      "text/plain": [
       "array([ 0, 41, 34,  4, 29,  6, 22, 12,  3, 28, 17,  5, 18, 14, 25, 15, 38,\n",
       "       35,  8, 26, 27, 24,  7, 11, 31, 40, 19, 21, 20, 30,  9, 10,  1, 23,\n",
       "        2, 16, 37, 36, 39, 32, 13, 33,  0])"
      ]
     },
     "execution_count": 209,
     "metadata": {},
     "output_type": "execute_result"
    }
   ],
   "source": [
    "parent1 = list(range(1,42))\n",
    "parent1 = np.random.permutation(parent1)\n",
    "parent1 = np.insert(parent1, 0, 0)\n",
    "parent1 = np.insert(parent1, len(parent1), 0)\n",
    "parent1"
   ]
  },
  {
   "cell_type": "code",
   "execution_count": 210,
   "metadata": {},
   "outputs": [
    {
     "data": {
      "text/plain": [
       "array([ 0, 21, 23,  1, 13, 34,  2,  6, 40,  8, 41, 26, 14, 30, 11, 16,  9,\n",
       "       38,  5, 29, 10,  3, 22, 25, 36, 31, 20, 39, 35, 18, 32, 17, 37,  4,\n",
       "       15, 28,  7, 24, 33, 19, 12, 27,  0])"
      ]
     },
     "execution_count": 210,
     "metadata": {},
     "output_type": "execute_result"
    }
   ],
   "source": [
    "parent2 = list(range(1,42))\n",
    "parent2 = np.random.permutation(parent2)\n",
    "parent2 = np.insert(parent2, 0, 0)\n",
    "parent2 = np.insert(parent2, len(parent2), 0)\n",
    "parent2"
   ]
  },
  {
   "cell_type": "markdown",
   "metadata": {},
   "source": [
    "### Step 1 : select random city "
   ]
  },
  {
   "cell_type": "code",
   "execution_count": 211,
   "metadata": {},
   "outputs": [
    {
     "data": {
      "text/plain": [
       "29"
      ]
     },
     "execution_count": 211,
     "metadata": {},
     "output_type": "execute_result"
    }
   ],
   "source": [
    "rnd_city = np.random.randint(low=1, high=43)\n",
    "rnd_city"
   ]
  },
  {
   "cell_type": "markdown",
   "metadata": {},
   "source": [
    "### Step 2: alternately add cities from parents, each for one direction, until either a city that has already been included in the offspring is met or exchangeable subtours are found"
   ]
  },
  {
   "cell_type": "code",
   "execution_count": 212,
   "metadata": {},
   "outputs": [],
   "source": [
    "\n",
    "\n",
    "offspring = [rnd_city]\n",
    "rnd_city_in_parent1 = np.argwhere(parent1 == rnd_city)[0][0]\n",
    "rnd_city_in_parent2 = np.argwhere(parent2 == rnd_city)[0][0]\n",
    "city_included = [rnd_city]\n",
    "STOP = False\n",
    "idx1 = rnd_city_in_parent1 + 1\n",
    "idx2 = rnd_city_in_parent2 - 1\n",
    "while not STOP:\n",
    "    if idx1 < len(parent1)-1: ## -1 for the 0 \n",
    "        if parent1[idx1] in city_included:\n",
    "            STOP = True\n",
    "            break\n",
    "        offspring.append(parent1[idx1])\n",
    "        city_included.append(parent1[idx1])\n",
    "        idx1+=1\n",
    "    else:\n",
    "        break\n",
    " \n",
    "    if idx2 > 0: ## > strict for the 0\n",
    "        if parent2[idx2] in city_included:\n",
    "            STOP = True\n",
    "            break\n",
    "        offspring.insert( 0,parent2[idx2])\n",
    "        city_included.append(parent2[idx2])\n",
    "        idx2-=1"
   ]
  },
  {
   "cell_type": "code",
   "execution_count": 213,
   "metadata": {},
   "outputs": [
    {
     "data": {
      "text/plain": [
       "[30, 11, 16, 9, 38, 5, 29, 6, 22, 12, 3, 28, 17]"
      ]
     },
     "execution_count": 213,
     "metadata": {},
     "output_type": "execute_result"
    }
   ],
   "source": [
    "offspring"
   ]
  },
  {
   "cell_type": "markdown",
   "metadata": {},
   "source": [
    "### Step 3: fill in the remaining cities at the order of parent 2"
   ]
  },
  {
   "cell_type": "code",
   "execution_count": 214,
   "metadata": {},
   "outputs": [],
   "source": [
    "for i in range(1, len(parent2)-1): ##-1 for the zero\n",
    "    if parent2[i] not in city_included:\n",
    "        offspring.append(parent2[i])"
   ]
  },
  {
   "cell_type": "code",
   "execution_count": 215,
   "metadata": {},
   "outputs": [],
   "source": [
    "offspring.append(0)\n",
    "offspring.insert(0, 0)"
   ]
  },
  {
   "cell_type": "code",
   "execution_count": 221,
   "metadata": {},
   "outputs": [
    {
     "name": "stdout",
     "output_type": "stream",
     "text": [
      "[0, 30, 11, 16, 9, 38, 5, 29, 6, 22, 12, 3, 28, 17, 21, 23, 1, 13, 34, 2, 40, 8, 41, 26, 14, 10, 25, 36, 31, 20, 39, 35, 18, 32, 37, 4, 15, 7, 24, 33, 19, 27, 0]\n"
     ]
    }
   ],
   "source": [
    "print(offspring)"
   ]
  },
  {
   "cell_type": "code",
   "execution_count": 217,
   "metadata": {},
   "outputs": [
    {
     "name": "stdout",
     "output_type": "stream",
     "text": [
      "93259.18 97120.8 88758.16\n"
     ]
    }
   ],
   "source": [
    "print( Tour(parent1).score(), Tour(parent2).score(), Tour(offspring).score())"
   ]
  },
  {
   "cell_type": "code",
   "execution_count": 222,
   "metadata": {},
   "outputs": [],
   "source": [
    "assert len(offspring)==len(parent1)==len(parent2)\n",
    "assert offspring[0]==offspring[-1]==0\n",
    "assert len(set(offspring))==len(offspring)-1"
   ]
  },
  {
   "cell_type": "code",
   "execution_count": null,
   "metadata": {},
   "outputs": [],
   "source": []
  },
  {
   "cell_type": "markdown",
   "metadata": {},
   "source": [
    " ## Double-bridge move mutation operator"
   ]
  },
  {
   "cell_type": "code",
   "execution_count": 219,
   "metadata": {},
   "outputs": [],
   "source": [
    "i, ii, j, jj, k, kk, l, ll = 3, 4, 9, 10, 28, 29, 35, 36"
   ]
  },
  {
   "cell_type": "code",
   "execution_count": 220,
   "metadata": {},
   "outputs": [
    {
     "name": "stdout",
     "output_type": "stream",
     "text": [
      "[0, 30, 11, 16, 20, 39, 35, 18, 32, 37, 4, 12, 3, 28, 17, 21, 23, 1, 13, 34, 2, 40, 8, 41, 26, 14, 10, 25, 36, 31, 9, 38, 5, 29, 6, 22, 15, 7, 24, 33, 19, 27, 0]\n",
      "+++++++++++++\n",
      "[0, 30, 11, 16, 9, 38, 5, 29, 6, 22, 12, 3, 28, 17, 21, 23, 1, 13, 34, 2, 40, 8, 41, 26, 14, 10, 25, 36, 31, 20, 39, 35, 18, 32, 37, 4, 15, 7, 24, 33, 19, 27, 0]\n",
      "88758.16 88826.27\n"
     ]
    }
   ],
   "source": [
    "new_route = offspring[0:i+1]\n",
    "\n",
    "new_route.append(offspring[kk])\n",
    "new_route.extend(offspring[kk+1:l+1])\n",
    "new_route.append(offspring[jj])\n",
    "new_route.extend(offspring[jj+1:k+1])\n",
    "new_route.append(offspring[ii])\n",
    "new_route.extend(offspring[ii+1:j+1])\n",
    "new_route.append(offspring[ll])\n",
    "new_route.extend(offspring[ll+1:])\n",
    "\n",
    "print(new_route)\n",
    "print(\"+++++++++++++\")\n",
    "print(offspring)\n",
    "\n",
    "\n",
    "assert len(new_route)==len(offspring)\n",
    "assert new_route[0]==new_route[-1]==0\n",
    "assert len(set(new_route))==len(new_route)-1\n",
    "print( Tour(offspring).score(), Tour(new_route).score())\n",
    "\n",
    "\n"
   ]
  },
  {
   "cell_type": "code",
   "execution_count": 206,
   "metadata": {},
   "outputs": [
    {
     "name": "stdout",
     "output_type": "stream",
     "text": [
      "3\n",
      "37\n",
      "2\n"
     ]
    }
   ],
   "source": [
    "for  i in offspring:\n",
    "    if i not in new_route:\n",
    "        print (i)"
   ]
  },
  {
   "cell_type": "code",
   "execution_count": 335,
   "metadata": {},
   "outputs": [],
   "source": [
    "def swap_2opt(route, i, k):\n",
    "    \"\"\"\n",
    "    swaps the endpoints of two edges by reversing a section of nodes, \n",
    "    ideally to eliminate crossovers\n",
    "    returns the new route created with a the 2-opt swap\n",
    "    route - route to apply 2-opt\n",
    "    i - start index of the portion of the route to be reversed\n",
    "    k - index of last node in portion of route to be reversed\n",
    "    pre: 0 <= i < (len(route) - 1) and i < k < len(route)\n",
    "    post: length of the new route must match length of the given route \n",
    "    \"\"\"\n",
    "    assert i >= 0 and i < (len(route) - 1)\n",
    "    assert k > i and k < len(route)\n",
    "    new_route = route[0:i]\n",
    "    new_route.extend(reversed(route[i:k + 1]))\n",
    "#    reversed(route[i:k + 1])\n",
    "    new_route.extend(route[k+1:])\n",
    "    assert len(new_route)==len(route)\n",
    "    assert new_route[0]==new_route[-1]==0\n",
    "    assert len(set(new_route))==len(new_route)-1\n",
    "    return Tour(new_route)"
   ]
  },
  {
   "cell_type": "code",
   "execution_count": null,
   "metadata": {},
   "outputs": [],
   "source": []
  },
  {
   "cell_type": "code",
   "execution_count": 143,
   "metadata": {},
   "outputs": [
    {
     "data": {
      "text/plain": [
       "1518858.3670700453"
      ]
     },
     "execution_count": 143,
     "metadata": {},
     "output_type": "execute_result"
    }
   ],
   "source": [
    "sscore(swap_2opt(PATH, 3,800))"
   ]
  },
  {
   "cell_type": "code",
   "execution_count": null,
   "metadata": {},
   "outputs": [],
   "source": []
  },
  {
   "cell_type": "code",
   "execution_count": 339,
   "metadata": {},
   "outputs": [],
   "source": [
    "def run_2opt(route):\n",
    "    \"\"\"\n",
    "    improves an existing route using the 2-opt swap until no improved route is found\n",
    "    best path found will differ depending of the start node of the list of nodes\n",
    "        representing the input tour\n",
    "    returns the best path found\n",
    "    route - route to improve\n",
    "    \"\"\"\n",
    "    improvement = True\n",
    "    best_route = route\n",
    "    best_distance = route.score()\n",
    "    while improvement: \n",
    "        improvement = False\n",
    "        for i in range(1,len(best_route) - 1):\n",
    "            for k in range(i+1, len(route)-1):\n",
    "                new_route = swap_2opt(best_route, i, k)\n",
    "                new_distance = new_route.score()\n",
    "                if new_distance < best_distance:\n",
    "                    #print(new_distance)\n",
    "                    best_distance = new_distance\n",
    "                    best_route = new_route\n",
    "                    improvement = True\n",
    "                    break #improvement found, return to the top of the while loop\n",
    "                if improvement:\n",
    "                    break\n",
    "    assert len(best_route)==len(route)\n",
    "    assert best_route[0]==best_route[-1]==0\n",
    "    assert len(set(best_route))==len(best_route)-1\n",
    "    \n",
    "    return best_route"
   ]
  },
  {
   "cell_type": "code",
   "execution_count": 340,
   "metadata": {},
   "outputs": [
    {
     "ename": "KeyboardInterrupt",
     "evalue": "",
     "output_type": "error",
     "traceback": [
      "\u001b[0;31m---------------------------------------------------------------------------\u001b[0m",
      "\u001b[0;31mKeyboardInterrupt\u001b[0m                         Traceback (most recent call last)",
      "\u001b[0;32m<ipython-input-340-d599da478022>\u001b[0m in \u001b[0;36m<module>\u001b[0;34m\u001b[0m\n\u001b[0;32m----> 1\u001b[0;31m \u001b[0mrun_2opt\u001b[0m\u001b[0;34m(\u001b[0m\u001b[0mTour\u001b[0m\u001b[0;34m(\u001b[0m\u001b[0moffspring\u001b[0m\u001b[0;34m)\u001b[0m\u001b[0;34m)\u001b[0m \u001b[0;31m## 2-opt seul 20513.75\u001b[0m\u001b[0;34m\u001b[0m\u001b[0m\n\u001b[0m",
      "\u001b[0;32m<ipython-input-339-cfa10c5699aa>\u001b[0m in \u001b[0;36mrun_2opt\u001b[0;34m(route)\u001b[0m\n\u001b[1;32m     15\u001b[0m             \u001b[0;32mfor\u001b[0m \u001b[0mk\u001b[0m \u001b[0;32min\u001b[0m \u001b[0mrange\u001b[0m\u001b[0;34m(\u001b[0m\u001b[0mi\u001b[0m\u001b[0;34m+\u001b[0m\u001b[0;36m1\u001b[0m\u001b[0;34m,\u001b[0m \u001b[0mlen\u001b[0m\u001b[0;34m(\u001b[0m\u001b[0mroute\u001b[0m\u001b[0;34m)\u001b[0m\u001b[0;34m-\u001b[0m\u001b[0;36m1\u001b[0m\u001b[0;34m)\u001b[0m\u001b[0;34m:\u001b[0m\u001b[0;34m\u001b[0m\u001b[0m\n\u001b[1;32m     16\u001b[0m                 \u001b[0mnew_route\u001b[0m \u001b[0;34m=\u001b[0m \u001b[0mswap_2opt\u001b[0m\u001b[0;34m(\u001b[0m\u001b[0mbest_route\u001b[0m\u001b[0;34m,\u001b[0m \u001b[0mi\u001b[0m\u001b[0;34m,\u001b[0m \u001b[0mk\u001b[0m\u001b[0;34m)\u001b[0m\u001b[0;34m\u001b[0m\u001b[0m\n\u001b[0;32m---> 17\u001b[0;31m                 \u001b[0mnew_distance\u001b[0m \u001b[0;34m=\u001b[0m \u001b[0mnew_route\u001b[0m\u001b[0;34m.\u001b[0m\u001b[0mscore\u001b[0m\u001b[0;34m(\u001b[0m\u001b[0;34m)\u001b[0m\u001b[0;34m\u001b[0m\u001b[0m\n\u001b[0m\u001b[1;32m     18\u001b[0m                 \u001b[0;32mif\u001b[0m \u001b[0mnew_distance\u001b[0m \u001b[0;34m<\u001b[0m \u001b[0mbest_distance\u001b[0m\u001b[0;34m:\u001b[0m\u001b[0;34m\u001b[0m\u001b[0m\n\u001b[1;32m     19\u001b[0m                     \u001b[0;31m#print(new_distance)\u001b[0m\u001b[0;34m\u001b[0m\u001b[0;34m\u001b[0m\u001b[0m\n",
      "\u001b[0;32m<ipython-input-3-64c3922e3a84>\u001b[0m in \u001b[0;36mscore\u001b[0;34m(self)\u001b[0m\n\u001b[1;32m      8\u001b[0m \u001b[0;34m\u001b[0m\u001b[0m\n\u001b[1;32m      9\u001b[0m     \u001b[0;32mdef\u001b[0m \u001b[0mscore\u001b[0m\u001b[0;34m(\u001b[0m\u001b[0mself\u001b[0m\u001b[0;34m)\u001b[0m\u001b[0;34m:\u001b[0m\u001b[0;34m\u001b[0m\u001b[0m\n\u001b[0;32m---> 10\u001b[0;31m         \u001b[0mdf\u001b[0m \u001b[0;34m=\u001b[0m \u001b[0mcities\u001b[0m\u001b[0;34m.\u001b[0m\u001b[0mreindex\u001b[0m\u001b[0;34m(\u001b[0m\u001b[0mself\u001b[0m\u001b[0;34m)\u001b[0m\u001b[0;34m\u001b[0m\u001b[0m\n\u001b[0m\u001b[1;32m     11\u001b[0m         \u001b[0mdist\u001b[0m \u001b[0;34m=\u001b[0m \u001b[0mnp\u001b[0m\u001b[0;34m.\u001b[0m\u001b[0mhypot\u001b[0m\u001b[0;34m(\u001b[0m\u001b[0mdf\u001b[0m\u001b[0;34m.\u001b[0m\u001b[0mX\u001b[0m\u001b[0;34m.\u001b[0m\u001b[0mdiff\u001b[0m\u001b[0;34m(\u001b[0m\u001b[0;34m-\u001b[0m\u001b[0;36m1\u001b[0m\u001b[0;34m)\u001b[0m\u001b[0;34m,\u001b[0m \u001b[0mdf\u001b[0m\u001b[0;34m.\u001b[0m\u001b[0mY\u001b[0m\u001b[0;34m.\u001b[0m\u001b[0mdiff\u001b[0m\u001b[0;34m(\u001b[0m\u001b[0;34m-\u001b[0m\u001b[0;36m1\u001b[0m\u001b[0;34m)\u001b[0m\u001b[0;34m)\u001b[0m\u001b[0;34m\u001b[0m\u001b[0m\n\u001b[1;32m     12\u001b[0m         \u001b[0mpenalty\u001b[0m \u001b[0;34m=\u001b[0m \u001b[0;36m0.1\u001b[0m \u001b[0;34m*\u001b[0m \u001b[0mdist\u001b[0m\u001b[0;34m[\u001b[0m\u001b[0;36m9\u001b[0m\u001b[0;34m:\u001b[0m\u001b[0;34m:\u001b[0m\u001b[0;36m10\u001b[0m\u001b[0;34m]\u001b[0m \u001b[0;34m*\u001b[0m \u001b[0mself\u001b[0m\u001b[0;34m.\u001b[0m\u001b[0mpenalized\u001b[0m\u001b[0;34m[\u001b[0m\u001b[0mself\u001b[0m\u001b[0;34m[\u001b[0m\u001b[0;36m9\u001b[0m\u001b[0;34m:\u001b[0m\u001b[0;34m:\u001b[0m\u001b[0;36m10\u001b[0m\u001b[0;34m]\u001b[0m\u001b[0;34m]\u001b[0m\u001b[0;34m\u001b[0m\u001b[0m\n",
      "\u001b[0;32m~/.local/share/virtualenvs/kaggle-traveling-santa-2018-prime-paths-3WV7d9iS/lib/python3.6/site-packages/pandas/util/_decorators.py\u001b[0m in \u001b[0;36mwrapper\u001b[0;34m(*args, **kwargs)\u001b[0m\n\u001b[1;32m    185\u001b[0m         \u001b[0;34m@\u001b[0m\u001b[0mwraps\u001b[0m\u001b[0;34m(\u001b[0m\u001b[0mfunc\u001b[0m\u001b[0;34m)\u001b[0m\u001b[0;34m\u001b[0m\u001b[0m\n\u001b[1;32m    186\u001b[0m         \u001b[0;32mdef\u001b[0m \u001b[0mwrapper\u001b[0m\u001b[0;34m(\u001b[0m\u001b[0;34m*\u001b[0m\u001b[0margs\u001b[0m\u001b[0;34m,\u001b[0m \u001b[0;34m**\u001b[0m\u001b[0mkwargs\u001b[0m\u001b[0;34m)\u001b[0m\u001b[0;34m:\u001b[0m\u001b[0;34m\u001b[0m\u001b[0m\n\u001b[0;32m--> 187\u001b[0;31m             \u001b[0;32mreturn\u001b[0m \u001b[0mfunc\u001b[0m\u001b[0;34m(\u001b[0m\u001b[0;34m*\u001b[0m\u001b[0margs\u001b[0m\u001b[0;34m,\u001b[0m \u001b[0;34m**\u001b[0m\u001b[0mkwargs\u001b[0m\u001b[0;34m)\u001b[0m\u001b[0;34m\u001b[0m\u001b[0m\n\u001b[0m\u001b[1;32m    188\u001b[0m \u001b[0;34m\u001b[0m\u001b[0m\n\u001b[1;32m    189\u001b[0m         \u001b[0;32mif\u001b[0m \u001b[0;32mnot\u001b[0m \u001b[0mPY2\u001b[0m\u001b[0;34m:\u001b[0m\u001b[0;34m\u001b[0m\u001b[0m\n",
      "\u001b[0;32m~/.local/share/virtualenvs/kaggle-traveling-santa-2018-prime-paths-3WV7d9iS/lib/python3.6/site-packages/pandas/core/frame.py\u001b[0m in \u001b[0;36mreindex\u001b[0;34m(self, *args, **kwargs)\u001b[0m\n\u001b[1;32m   3564\u001b[0m         \u001b[0mkwargs\u001b[0m\u001b[0;34m.\u001b[0m\u001b[0mpop\u001b[0m\u001b[0;34m(\u001b[0m\u001b[0;34m'axis'\u001b[0m\u001b[0;34m,\u001b[0m \u001b[0;32mNone\u001b[0m\u001b[0;34m)\u001b[0m\u001b[0;34m\u001b[0m\u001b[0m\n\u001b[1;32m   3565\u001b[0m         \u001b[0mkwargs\u001b[0m\u001b[0;34m.\u001b[0m\u001b[0mpop\u001b[0m\u001b[0;34m(\u001b[0m\u001b[0;34m'labels'\u001b[0m\u001b[0;34m,\u001b[0m \u001b[0;32mNone\u001b[0m\u001b[0;34m)\u001b[0m\u001b[0;34m\u001b[0m\u001b[0m\n\u001b[0;32m-> 3566\u001b[0;31m         \u001b[0;32mreturn\u001b[0m \u001b[0msuper\u001b[0m\u001b[0;34m(\u001b[0m\u001b[0mDataFrame\u001b[0m\u001b[0;34m,\u001b[0m \u001b[0mself\u001b[0m\u001b[0;34m)\u001b[0m\u001b[0;34m.\u001b[0m\u001b[0mreindex\u001b[0m\u001b[0;34m(\u001b[0m\u001b[0;34m**\u001b[0m\u001b[0mkwargs\u001b[0m\u001b[0;34m)\u001b[0m\u001b[0;34m\u001b[0m\u001b[0m\n\u001b[0m\u001b[1;32m   3567\u001b[0m \u001b[0;34m\u001b[0m\u001b[0m\n\u001b[1;32m   3568\u001b[0m     \u001b[0;34m@\u001b[0m\u001b[0mAppender\u001b[0m\u001b[0;34m(\u001b[0m\u001b[0m_shared_docs\u001b[0m\u001b[0;34m[\u001b[0m\u001b[0;34m'reindex_axis'\u001b[0m\u001b[0;34m]\u001b[0m \u001b[0;34m%\u001b[0m \u001b[0m_shared_doc_kwargs\u001b[0m\u001b[0;34m)\u001b[0m\u001b[0;34m\u001b[0m\u001b[0m\n",
      "\u001b[0;32m~/.local/share/virtualenvs/kaggle-traveling-santa-2018-prime-paths-3WV7d9iS/lib/python3.6/site-packages/pandas/core/generic.py\u001b[0m in \u001b[0;36mreindex\u001b[0;34m(self, *args, **kwargs)\u001b[0m\n\u001b[1;32m   3672\u001b[0m         \u001b[0;31m# if all axes that are requested to reindex are equal, then only copy\u001b[0m\u001b[0;34m\u001b[0m\u001b[0;34m\u001b[0m\u001b[0m\n\u001b[1;32m   3673\u001b[0m         \u001b[0;31m# if indicated must have index names equal here as well as values\u001b[0m\u001b[0;34m\u001b[0m\u001b[0;34m\u001b[0m\u001b[0m\n\u001b[0;32m-> 3674\u001b[0;31m         if all(self._get_axis(axis).identical(ax)\n\u001b[0m\u001b[1;32m   3675\u001b[0m                for axis, ax in axes.items() if ax is not None):\n\u001b[1;32m   3676\u001b[0m             \u001b[0;32mif\u001b[0m \u001b[0mcopy\u001b[0m\u001b[0;34m:\u001b[0m\u001b[0;34m\u001b[0m\u001b[0m\n",
      "\u001b[0;31mKeyboardInterrupt\u001b[0m: "
     ]
    }
   ],
   "source": [
    "run_2opt(Tour(offspring)) ## 2-opt seul 20513.75"
   ]
  },
  {
   "cell_type": "code",
   "execution_count": 351,
   "metadata": {},
   "outputs": [],
   "source": [
    "population = []\n",
    "popSize = 10\n",
    "nGen = 100\n",
    "SP = 2.0\n",
    "mut_rate = .4\n",
    "for i in range(popSize):\n",
    "    ind = generate_ind()\n",
    "    ind.pos = i\n",
    "    population.append(ind)"
   ]
  },
  {
   "cell_type": "code",
   "execution_count": 352,
   "metadata": {},
   "outputs": [],
   "source": [
    "population = sorted(population, key=lambda x: x.fitness, reverse=True)\n",
    "for i in range(len(population)):\n",
    "    population[i].rank = get_rank(popSize, SP, i)"
   ]
  },
  {
   "cell_type": "code",
   "execution_count": null,
   "metadata": {},
   "outputs": [],
   "source": []
  },
  {
   "cell_type": "code",
   "execution_count": 353,
   "metadata": {},
   "outputs": [
    {
     "name": "stdout",
     "output_type": "stream",
     "text": [
      "Gen 0 - Best: 87337.94\n",
      "Gen 1 - Best: 21316.16\n",
      "Gen 2 - Best: 20754.7\n",
      "Gen 3 - Best: 20754.7\n",
      "Gen 4 - Best: 20754.7\n",
      "Gen 5 - Best: 20754.7\n",
      "Gen 6 - Best: 20754.7\n",
      "Gen 7 - Best: 20546.52\n",
      "Gen 8 - Best: 20546.52\n",
      "Gen 9 - Best: 20546.52\n",
      "Gen 10 - Best: 20546.52\n",
      "Gen 11 - Best: 20546.52\n",
      "Gen 12 - Best: 20546.52\n",
      "Gen 13 - Best: 20546.52\n",
      "Gen 14 - Best: 20546.52\n",
      "Gen 15 - Best: 20546.52\n",
      "Gen 16 - Best: 20546.52\n",
      "Gen 17 - Best: 20546.52\n",
      "Gen 18 - Best: 20546.52\n",
      "Gen 19 - Best: 20546.52\n",
      "Gen 20 - Best: 20546.52\n",
      "Gen 21 - Best: 20546.52\n",
      "Gen 22 - Best: 20546.52\n",
      "Gen 23 - Best: 20546.52\n",
      "Gen 24 - Best: 20546.52\n",
      "Gen 25 - Best: 20546.52\n",
      "Gen 26 - Best: 20546.52\n",
      "Gen 27 - Best: 20546.52\n",
      "Gen 28 - Best: 20546.52\n",
      "Gen 29 - Best: 20546.52\n",
      "Gen 30 - Best: 20546.52\n",
      "Gen 31 - Best: 20546.52\n",
      "Gen 32 - Best: 20546.52\n",
      "Gen 33 - Best: 20546.52\n",
      "Gen 34 - Best: 20546.52\n",
      "Gen 35 - Best: 20546.52\n",
      "Gen 36 - Best: 20546.52\n",
      "Gen 37 - Best: 20546.52\n",
      "Gen 38 - Best: 20546.52\n",
      "Gen 39 - Best: 20546.52\n",
      "Gen 40 - Best: 20546.52\n",
      "Gen 41 - Best: 20546.52\n",
      "Gen 42 - Best: 20546.52\n",
      "Gen 43 - Best: 20546.52\n",
      "Gen 44 - Best: 20546.52\n",
      "Gen 45 - Best: 20546.52\n",
      "Gen 46 - Best: 20546.52\n",
      "Gen 47 - Best: 20546.52\n",
      "Gen 48 - Best: 20546.52\n",
      "Gen 49 - Best: 20546.52\n",
      "Gen 50 - Best: 20546.52\n",
      "Gen 51 - Best: 20546.52\n",
      "Gen 52 - Best: 20546.52\n",
      "Gen 53 - Best: 20546.52\n",
      "Gen 54 - Best: 20546.52\n",
      "Gen 55 - Best: 20546.52\n",
      "Gen 56 - Best: 20546.52\n",
      "Gen 57 - Best: 20546.52\n",
      "Gen 58 - Best: 20546.52\n",
      "Gen 59 - Best: 20546.52\n",
      "Gen 60 - Best: 20546.52\n",
      "Gen 61 - Best: 20546.52\n",
      "Gen 62 - Best: 20546.52\n",
      "Gen 63 - Best: 20546.52\n",
      "Gen 64 - Best: 20546.52\n",
      "Gen 65 - Best: 20546.52\n",
      "Gen 66 - Best: 20546.52\n",
      "Gen 67 - Best: 20546.52\n",
      "Gen 68 - Best: 20546.52\n",
      "Gen 69 - Best: 20546.52\n",
      "Gen 70 - Best: 20546.52\n",
      "Gen 71 - Best: 20546.52\n",
      "Gen 72 - Best: 20546.52\n",
      "Gen 73 - Best: 20546.52\n",
      "Gen 74 - Best: 20546.52\n",
      "Gen 75 - Best: 20546.52\n",
      "Gen 76 - Best: 20546.52\n",
      "Gen 77 - Best: 20546.52\n",
      "Gen 78 - Best: 20546.52\n",
      "Gen 79 - Best: 20546.52\n",
      "Gen 80 - Best: 20546.52\n",
      "Gen 81 - Best: 20546.52\n",
      "Gen 82 - Best: 20546.52\n",
      "Gen 83 - Best: 20546.52\n",
      "Gen 84 - Best: 20546.52\n",
      "Gen 85 - Best: 20546.52\n",
      "Gen 86 - Best: 20546.52\n",
      "Gen 87 - Best: 20546.52\n",
      "Gen 88 - Best: 20546.52\n",
      "Gen 89 - Best: 20546.52\n",
      "Gen 90 - Best: 20546.52\n",
      "Gen 91 - Best: 20546.52\n",
      "Gen 92 - Best: 20546.52\n",
      "Gen 93 - Best: 20546.52\n",
      "Gen 94 - Best: 20546.52\n",
      "Gen 95 - Best: 20546.52\n",
      "Gen 96 - Best: 20546.52\n",
      "Gen 97 - Best: 20546.52\n",
      "Gen 98 - Best: 20546.52\n",
      "Gen 99 - Best: 20546.52\n"
     ]
    }
   ],
   "source": [
    "for i in range(nGen):\n",
    "    population = sorted(population, key=lambda x: x.fitness, reverse=True)\n",
    "    for j in range(len(population)):\n",
    "        population[j].rank = get_rank(popSize, SP, j)\n",
    "    population = sorted(population, key=lambda x: x.rank, reverse=False)\n",
    "        \n",
    "    print(\"Gen {} - Best: {}\".format(i, population[-1].fitness))\n",
    "    \n",
    "    if np.random.random() < mut_rate:\n",
    "        parent = population[-1] \n",
    "        child = mutate(parent)\n",
    "    else:\n",
    "        p1 = population[-1] \n",
    "        p2 = population[-2] \n",
    "        child = crossover(p1, p2)\n",
    "\n",
    "    child.path = run_2opt(Tour(child.path))\n",
    "    child.fitness = Tour(child.path).score()\n",
    "    \n",
    "    if child.fitness < population[0].fitness:\n",
    "        population[0] = child\n",
    "    "
   ]
  },
  {
   "cell_type": "code",
   "execution_count": null,
   "metadata": {},
   "outputs": [],
   "source": [
    "Best: 20546.52"
   ]
  },
  {
   "cell_type": "code",
   "execution_count": null,
   "metadata": {},
   "outputs": [],
   "source": [
    "class Individual():\n",
    "    def __init__(self, path):\n",
    "        self.path = path\n",
    "        self.fitness = Tour(path).score()\n",
    "        self.ranking = 0\n"
   ]
  },
  {
   "cell_type": "code",
   "execution_count": 265,
   "metadata": {},
   "outputs": [],
   "source": [
    "def get_rank(pop_size, selection_pressure, position):\n",
    "    rank = 2 - selection_pressure + 2*(selection_pressure-1)*((position-1)/(pop_size-1))\n",
    "    return rank"
   ]
  },
  {
   "cell_type": "code",
   "execution_count": 329,
   "metadata": {},
   "outputs": [],
   "source": [
    "def generate_ind():\n",
    "    indiv = list(range(1,42))\n",
    "    indiv = np.random.permutation(indiv)\n",
    "    indiv = np.insert(indiv, 0, 0)\n",
    "    indiv = np.insert(indiv, len(indiv), 0)\n",
    "    indiv = list(indiv)\n",
    "    \n",
    "    assert indiv[0]==indiv[-1]==0\n",
    "    assert len(set(indiv))==len(indiv)-1\n",
    "    \n",
    "    return Individual(indiv)"
   ]
  },
  {
   "cell_type": "code",
   "execution_count": 344,
   "metadata": {},
   "outputs": [],
   "source": [
    "def mutate(indiv):\n",
    "#    i, ii, j, jj, k, kk, l, ll = 3, 4, 9, 10, 28, 29, 35, 36\n",
    "    \n",
    "    i = np.random.randint(1, int(0.25*len(indiv.path)))\n",
    "    ii = i+1\n",
    "    \n",
    "    j = np.random.randint(int(0.25*len(indiv.path))+1, int(0.50*len(indiv.path)))\n",
    "    jj = j+1\n",
    "    \n",
    "    k = np.random.randint(int(0.50*len(indiv.path))+1, int(0.75*len(indiv.path)))\n",
    "    kk = k+1\n",
    "    \n",
    "    l = np.random.randint(int(0.75*len(indiv.path))+1, len(indiv.path)-2)\n",
    "    ll = l+1\n",
    "    \n",
    "    new_genome = indiv.path[0:i+1]\n",
    "\n",
    "    new_genome.append(indiv.path[kk])\n",
    "    new_genome.extend(indiv.path[kk+1:l+1])\n",
    "    new_genome.append(indiv.path[jj])\n",
    "    new_genome.extend(indiv.path[jj+1:k+1])\n",
    "    new_genome.append(indiv.path[ii])\n",
    "    new_genome.extend(indiv.path[ii+1:j+1])\n",
    "    new_genome.append(indiv.path[ll])\n",
    "    new_genome.extend(indiv.path[ll+1:])\n",
    "\n",
    "\n",
    "    assert len(new_genome)==len(indiv.path)\n",
    "    assert new_genome[0]==new_genome[-1]==0\n",
    "    assert len(set(new_genome))==len(new_genome)-1\n",
    "    \n",
    "    return Individual(new_genome)"
   ]
  },
  {
   "cell_type": "code",
   "execution_count": 328,
   "metadata": {},
   "outputs": [],
   "source": [
    "def crossover(p1, p2):\n",
    "    \n",
    "    parent1, parent2 = p1.path, p2.path\n",
    "    rnd_city = np.random.randint(low=1, high=42)\n",
    "    offspring = [rnd_city]\n",
    "    rnd_city_in_parent1 = parent1.index(rnd_city)\n",
    "    rnd_city_in_parent2 = parent2.index(rnd_city)\n",
    "    city_included = [rnd_city]\n",
    "    STOP = False\n",
    "    idx1 = rnd_city_in_parent1 + 1\n",
    "    idx2 = rnd_city_in_parent2 - 1\n",
    "    while not STOP:\n",
    "        if idx1 < len(parent1)-1: ## -1 for the 0 \n",
    "            if parent1[idx1] in city_included:\n",
    "                STOP = True\n",
    "                break\n",
    "            offspring.append(parent1[idx1])\n",
    "            city_included.append(parent1[idx1])\n",
    "            idx1+=1\n",
    "        else:\n",
    "            break\n",
    "\n",
    "        if idx2 > 0: ## > strict for the 0\n",
    "            if parent2[idx2] in city_included:\n",
    "                STOP = True\n",
    "                break\n",
    "            offspring.insert( 0,parent2[idx2])\n",
    "            city_included.append(parent2[idx2])\n",
    "            idx2-=1\n",
    "    for i in range(1, len(parent2)-1): ##-1 for the zero\n",
    "        if parent2[i] not in city_included:\n",
    "            offspring.append(parent2[i])\n",
    "    offspring.append(0)\n",
    "    offspring.insert(0, 0)\n",
    "    \n",
    "    assert len(offspring)==len(p1.path)\n",
    "    assert offspring[0]==offspring[-1]==0\n",
    "    assert len(set(offspring))==len(offspring)-1\n",
    "    \n",
    "    return Individual(offspring)"
   ]
  },
  {
   "cell_type": "code",
   "execution_count": null,
   "metadata": {},
   "outputs": [],
   "source": []
  },
  {
   "cell_type": "code",
   "execution_count": 294,
   "metadata": {},
   "outputs": [
    {
     "data": {
      "text/plain": [
       "<__main__.Individual at 0x124d62e80>"
      ]
     },
     "execution_count": 294,
     "metadata": {},
     "output_type": "execute_result"
    }
   ],
   "source": [
    "parent = population[-1] \n",
    "child = mutate(parent)\n",
    "child\n",
    "crossover(parent, child)"
   ]
  },
  {
   "cell_type": "code",
   "execution_count": 152,
   "metadata": {},
   "outputs": [],
   "source": [
    "def reverse_segment_if_better(tour, i, j, k):\n",
    "    \"If reversing tour[i:j] would make the tour shorter, then do it.\"\n",
    "    # Given tour [...A-B...C-D...E-F...]\n",
    "    A, B, C, D, E, F = tour[i-1], tour[i], tour[j-1], tour[j], tour[k-1], tour[k % len(tour)]\n",
    "    d0 = A.euclidean_dist(B) + C.euclidean_dist(D) + E.euclidean_dist(F)\n",
    "    d1 = A.euclidean_dist(C) + B.euclidean_dist(D) + E.euclidean_dist(F)\n",
    "    d2 = A.euclidean_dist(B) + C.euclidean_dist(E) + D.euclidean_dist(F)\n",
    "    d3 = A.euclidean_dist(D) + E.euclidean_dist(B) + C.euclidean_dist(F)\n",
    "    d4 = F.euclidean_dist(B) + C.euclidean_dist(D) + E.euclidean_dist(A)\n",
    "\n",
    "    if d0 > d1:\n",
    "      tour[i:j] = reversed(tour[i:j])\n",
    "      return -d0 + d1\n",
    "    elif d0 > d2:\n",
    "      tour[j:k] = reversed(tour[j:k])\n",
    "      return -d0 + d2\n",
    "    elif d0 > d4:\n",
    "      tour[i:k] = reversed(tour[i:k])\n",
    "      return -d0 + d4\n",
    "    elif d0 > d3:\n",
    "      tmp = tour[j:k], tour[i:j]\n",
    "      tour[i:k] = tmp\n",
    "      return -d0 + d3\n",
    "    return 0\n",
    "\n",
    "def three_opt(tour):\n",
    "    \"Iterative improvement based on 3 exchange.\"\n",
    "    while True:\n",
    "        delta = 0\n",
    "        print(sscore(tour))\n",
    "        for (a,b,c) in all_segments(len(tour)):\n",
    "            delta += reverse_segment_if_better(tour, a, b, c)\n",
    "        if delta >= 0:\n",
    "            break\n",
    "        print(sscore(tour))\n",
    "    return tour\n",
    "\n",
    "def all_segments(N):\n",
    "    \"Generate all segments combinations\"\n",
    "    return ((i, j, k)\n",
    "        for i in range(N)\n",
    "        for j in range(i+2, N)\n",
    "        for k in range(j+2, N+(i>0)))"
   ]
  },
  {
   "cell_type": "code",
   "execution_count": null,
   "metadata": {},
   "outputs": [],
   "source": []
  },
  {
   "cell_type": "code",
   "execution_count": 156,
   "metadata": {},
   "outputs": [
    {
     "ename": "AttributeError",
     "evalue": "'int' object has no attribute 'euclidean_dist'",
     "output_type": "error",
     "traceback": [
      "\u001b[0;31m---------------------------------------------------------------------------\u001b[0m",
      "\u001b[0;31mAttributeError\u001b[0m                            Traceback (most recent call last)",
      "\u001b[0;32m<ipython-input-156-c4260c6aa3f4>\u001b[0m in \u001b[0;36m<module>\u001b[0;34m\u001b[0m\n\u001b[0;32m----> 1\u001b[0;31m \u001b[0mthree_opt\u001b[0m\u001b[0;34m(\u001b[0m\u001b[0mtour\u001b[0m\u001b[0;34m)\u001b[0m\u001b[0;34m\u001b[0m\u001b[0m\n\u001b[0m",
      "\u001b[0;32m<ipython-input-152-10dfe214634d>\u001b[0m in \u001b[0;36mthree_opt\u001b[0;34m(tour)\u001b[0m\n\u001b[1;32m     28\u001b[0m     \u001b[0;32mwhile\u001b[0m \u001b[0;32mTrue\u001b[0m\u001b[0;34m:\u001b[0m\u001b[0;34m\u001b[0m\u001b[0m\n\u001b[1;32m     29\u001b[0m         \u001b[0mdelta\u001b[0m \u001b[0;34m=\u001b[0m \u001b[0;36m0\u001b[0m\u001b[0;34m\u001b[0m\u001b[0m\n\u001b[0;32m---> 30\u001b[0;31m         \u001b[0mprint\u001b[0m\u001b[0;34m(\u001b[0m\u001b[0msscore\u001b[0m\u001b[0;34m(\u001b[0m\u001b[0mtour\u001b[0m\u001b[0;34m)\u001b[0m\u001b[0;34m)\u001b[0m\u001b[0;34m\u001b[0m\u001b[0m\n\u001b[0m\u001b[1;32m     31\u001b[0m         \u001b[0;32mfor\u001b[0m \u001b[0;34m(\u001b[0m\u001b[0ma\u001b[0m\u001b[0;34m,\u001b[0m\u001b[0mb\u001b[0m\u001b[0;34m,\u001b[0m\u001b[0mc\u001b[0m\u001b[0;34m)\u001b[0m \u001b[0;32min\u001b[0m \u001b[0mall_segments\u001b[0m\u001b[0;34m(\u001b[0m\u001b[0mlen\u001b[0m\u001b[0;34m(\u001b[0m\u001b[0mtour\u001b[0m\u001b[0;34m)\u001b[0m\u001b[0;34m)\u001b[0m\u001b[0;34m:\u001b[0m\u001b[0;34m\u001b[0m\u001b[0m\n\u001b[1;32m     32\u001b[0m             \u001b[0mdelta\u001b[0m \u001b[0;34m+=\u001b[0m \u001b[0mreverse_segment_if_better\u001b[0m\u001b[0;34m(\u001b[0m\u001b[0mtour\u001b[0m\u001b[0;34m,\u001b[0m \u001b[0ma\u001b[0m\u001b[0;34m,\u001b[0m \u001b[0mb\u001b[0m\u001b[0;34m,\u001b[0m \u001b[0mc\u001b[0m\u001b[0;34m)\u001b[0m\u001b[0;34m\u001b[0m\u001b[0m\n",
      "\u001b[0;32m<ipython-input-138-6ad0679c3ac7>\u001b[0m in \u001b[0;36msscore\u001b[0;34m(p)\u001b[0m\n\u001b[1;32m      2\u001b[0m     \u001b[0mdistance\u001b[0m \u001b[0;34m=\u001b[0m \u001b[0;36m0.0\u001b[0m\u001b[0;34m\u001b[0m\u001b[0m\n\u001b[1;32m      3\u001b[0m     \u001b[0;32mfor\u001b[0m \u001b[0mi\u001b[0m \u001b[0;32min\u001b[0m \u001b[0mrange\u001b[0m\u001b[0;34m(\u001b[0m\u001b[0mlen\u001b[0m\u001b[0;34m(\u001b[0m\u001b[0mp\u001b[0m\u001b[0;34m)\u001b[0m\u001b[0;34m-\u001b[0m\u001b[0;36m1\u001b[0m\u001b[0;34m)\u001b[0m\u001b[0;34m:\u001b[0m\u001b[0;34m\u001b[0m\u001b[0m\n\u001b[0;32m----> 4\u001b[0;31m         \u001b[0md\u001b[0m \u001b[0;34m=\u001b[0m \u001b[0mp\u001b[0m\u001b[0;34m[\u001b[0m\u001b[0mi\u001b[0m\u001b[0;34m]\u001b[0m\u001b[0;34m.\u001b[0m\u001b[0meuclidean_dist\u001b[0m\u001b[0;34m(\u001b[0m\u001b[0mp\u001b[0m\u001b[0;34m[\u001b[0m\u001b[0mi\u001b[0m\u001b[0;34m+\u001b[0m\u001b[0;36m1\u001b[0m\u001b[0;34m]\u001b[0m\u001b[0;34m)\u001b[0m\u001b[0;34m\u001b[0m\u001b[0m\n\u001b[0m\u001b[1;32m      5\u001b[0m         \u001b[0;32mif\u001b[0m \u001b[0mi\u001b[0m\u001b[0;34m%\u001b[0m\u001b[0;36m10\u001b[0m \u001b[0;34m==\u001b[0m \u001b[0;36m0\u001b[0m \u001b[0;32mand\u001b[0m \u001b[0;32mnot\u001b[0m \u001b[0misprime\u001b[0m\u001b[0;34m(\u001b[0m\u001b[0mp\u001b[0m\u001b[0;34m[\u001b[0m\u001b[0mi\u001b[0m\u001b[0;34m-\u001b[0m\u001b[0;36m1\u001b[0m\u001b[0;34m]\u001b[0m\u001b[0;34m.\u001b[0m\u001b[0mnum\u001b[0m\u001b[0;34m)\u001b[0m\u001b[0;34m:\u001b[0m \u001b[0md\u001b[0m \u001b[0;34m*=\u001b[0m \u001b[0;36m1.1\u001b[0m\u001b[0;34m\u001b[0m\u001b[0m\n\u001b[1;32m      6\u001b[0m         \u001b[0mdistance\u001b[0m \u001b[0;34m+=\u001b[0m \u001b[0md\u001b[0m\u001b[0;34m\u001b[0m\u001b[0m\n",
      "\u001b[0;31mAttributeError\u001b[0m: 'int' object has no attribute 'euclidean_dist'"
     ]
    }
   ],
   "source": [
    "three_opt(tour)"
   ]
  },
  {
   "cell_type": "code",
   "execution_count": 75,
   "metadata": {},
   "outputs": [],
   "source": [
    "\n",
    "def print_results(route, filename, time, startnode):\n",
    "    \"\"\"\n",
    "    prints the nodes in the final route and route information\n",
    "    route - route to print\n",
    "    filename - name of the original input filename\n",
    "    time - time to run 2opt\n",
    "    startnode - start node of original tour if randomized\n",
    "    \"\"\"\n",
    "    for node in route:\n",
    "        print(node)\n",
    "    print(-1)\n",
    "    print(\"Original input file : \" + filename)\n",
    "    print(\"Dimension : \" + str(len(route)))\n",
    "    if startnode:\n",
    "        print(\"Randomized start node : \" + str(startnode))\n",
    "    print(\"Total Distance : \" + str(route.score()))\n",
    "    print(\"Time to run 2opt : %.2f seconds\" % time)"
   ]
  },
  {
   "cell_type": "code",
   "execution_count": null,
   "metadata": {},
   "outputs": [],
   "source": []
  },
  {
   "cell_type": "code",
   "execution_count": 51,
   "metadata": {},
   "outputs": [
    {
     "name": "stderr",
     "output_type": "stream",
     "text": [
      "  0%|          | 0/17803 [00:00<?, ?it/s]\n",
      "  0%|          | 0/17803 [00:00<?, ?it/s]\n",
      "  0%|          | 0/17803 [00:00<?, ?it/s]\n",
      "  0%|          | 0/17803 [00:00<?, ?it/s]\n",
      "  0%|          | 0/17803 [00:00<?, ?it/s]\n",
      "  0%|          | 0/17803 [00:00<?, ?it/s]"
     ]
    },
    {
     "name": "stdout",
     "output_type": "stream",
     "text": [
      "40096995.92\n",
      "40094304.0\n",
      "40094273.46\n",
      "40093798.46\n",
      "40093366.32\n",
      "40092276.55\n"
     ]
    },
    {
     "name": "stderr",
     "output_type": "stream",
     "text": [
      "\n",
      "  0%|          | 0/17803 [00:00<?, ?it/s]\n",
      "  0%|          | 0/17803 [00:00<?, ?it/s]\n",
      "  0%|          | 0/17803 [00:00<?, ?it/s]\n",
      "  0%|          | 0/17803 [00:00<?, ?it/s]\n",
      "  0%|          | 0/17803 [00:00<?, ?it/s]\n",
      "  0%|          | 0/17803 [00:00<?, ?it/s]\n",
      "  0%|          | 0/17803 [00:00<?, ?it/s]\n",
      "  0%|          | 0/17803 [00:00<?, ?it/s]"
     ]
    },
    {
     "name": "stdout",
     "output_type": "stream",
     "text": [
      "40092185.11\n",
      "40091972.84\n",
      "40091488.84\n",
      "40090422.44\n",
      "40087992.76\n",
      "40087972.15\n",
      "40087634.29\n"
     ]
    },
    {
     "name": "stderr",
     "output_type": "stream",
     "text": [
      "\n",
      "  0%|          | 0/17803 [00:00<?, ?it/s]\n",
      "  0%|          | 0/17803 [00:00<?, ?it/s]\n",
      "  0%|          | 0/17803 [00:00<?, ?it/s]\n",
      "  0%|          | 0/17803 [00:00<?, ?it/s]\n",
      "  0%|          | 0/17803 [00:00<?, ?it/s]"
     ]
    },
    {
     "name": "stdout",
     "output_type": "stream",
     "text": [
      "40086517.25\n",
      "40086451.12\n",
      "40082531.91\n",
      "40080636.56\n",
      "40079076.72\n"
     ]
    },
    {
     "name": "stderr",
     "output_type": "stream",
     "text": [
      "  0%|          | 9/17803 [00:00<04:16, 69.27it/s]\n",
      "  0%|          | 9/17803 [00:00<04:15, 69.74it/s]"
     ]
    },
    {
     "name": "stdout",
     "output_type": "stream",
     "text": [
      "40078505.72\n"
     ]
    },
    {
     "name": "stderr",
     "output_type": "stream",
     "text": [
      "\n",
      "  0%|          | 0/17803 [00:00<?, ?it/s]\n",
      "  0%|          | 0/17803 [00:00<?, ?it/s]"
     ]
    },
    {
     "name": "stdout",
     "output_type": "stream",
     "text": [
      "40077132.03\n",
      "40076493.21\n"
     ]
    },
    {
     "name": "stderr",
     "output_type": "stream",
     "text": [
      "  0%|          | 9/17803 [00:00<04:51, 61.00it/s]\n",
      "  0%|          | 9/17803 [00:00<04:34, 64.88it/s]"
     ]
    },
    {
     "name": "stdout",
     "output_type": "stream",
     "text": [
      "40074002.44\n"
     ]
    },
    {
     "name": "stderr",
     "output_type": "stream",
     "text": [
      "  0%|          | 18/17803 [00:00<04:24, 67.29it/s]\n",
      "  0%|          | 9/17803 [00:00<04:17, 69.12it/s]"
     ]
    },
    {
     "name": "stdout",
     "output_type": "stream",
     "text": [
      "40072488.53\n"
     ]
    },
    {
     "name": "stderr",
     "output_type": "stream",
     "text": [
      "\n",
      "  0%|          | 0/17803 [00:00<?, ?it/s]\n",
      "  0%|          | 0/17803 [00:00<?, ?it/s]"
     ]
    },
    {
     "name": "stdout",
     "output_type": "stream",
     "text": [
      "40072286.63\n",
      "40072253.92\n"
     ]
    },
    {
     "name": "stderr",
     "output_type": "stream",
     "text": [
      "  0%|          | 9/17803 [00:00<04:42, 63.06it/s]\n",
      "  0%|          | 9/17803 [00:00<04:56, 59.97it/s]"
     ]
    },
    {
     "name": "stdout",
     "output_type": "stream",
     "text": [
      "40072158.33\n"
     ]
    },
    {
     "name": "stderr",
     "output_type": "stream",
     "text": [
      "\n",
      "  0%|          | 0/17803 [00:00<?, ?it/s]\n",
      "  0%|          | 0/17803 [00:00<?, ?it/s]"
     ]
    },
    {
     "name": "stdout",
     "output_type": "stream",
     "text": [
      "40071524.98\n",
      "40071463.49\n"
     ]
    },
    {
     "name": "stderr",
     "output_type": "stream",
     "text": [
      "\n",
      "  0%|          | 0/17803 [00:00<?, ?it/s]\n",
      "  0%|          | 0/17803 [00:00<?, ?it/s]\n",
      "  0%|          | 0/17803 [00:00<?, ?it/s]\n",
      "  0%|          | 0/17803 [00:00<?, ?it/s]\n",
      "  0%|          | 0/17803 [00:00<?, ?it/s]\n",
      "  0%|          | 0/17803 [00:00<?, ?it/s]"
     ]
    },
    {
     "name": "stdout",
     "output_type": "stream",
     "text": [
      "40071236.57\n",
      "40067924.55\n",
      "40067877.04\n",
      "40067413.82\n",
      "40065006.06\n",
      "40064326.37\n"
     ]
    },
    {
     "name": "stderr",
     "output_type": "stream",
     "text": [
      "\n",
      "  0%|          | 0/17803 [00:00<?, ?it/s]\n",
      "  0%|          | 0/17803 [00:00<?, ?it/s]\n",
      "  0%|          | 0/17803 [00:00<?, ?it/s]\n",
      "  0%|          | 0/17803 [00:00<?, ?it/s]"
     ]
    },
    {
     "name": "stdout",
     "output_type": "stream",
     "text": [
      "40064207.84\n",
      "40064168.04\n",
      "40062022.0\n",
      "40061809.07\n",
      "40061410.68\n"
     ]
    },
    {
     "name": "stderr",
     "output_type": "stream",
     "text": [
      "\n",
      "  0%|          | 0/17803 [00:00<?, ?it/s]\n",
      "  0%|          | 9/17803 [00:00<03:34, 83.15it/s]\n",
      "  0%|          | 0/17803 [00:00<?, ?it/s]"
     ]
    },
    {
     "name": "stdout",
     "output_type": "stream",
     "text": [
      "40059887.41\n",
      "40059589.99\n"
     ]
    },
    {
     "name": "stderr",
     "output_type": "stream",
     "text": [
      "  0%|          | 9/17803 [00:00<04:18, 68.76it/s]\n",
      "  0%|          | 9/17803 [00:00<04:01, 73.77it/s]\n",
      "  0%|          | 0/17803 [00:00<?, ?it/s]"
     ]
    },
    {
     "name": "stdout",
     "output_type": "stream",
     "text": [
      "40059039.3\n",
      "40058761.61\n"
     ]
    },
    {
     "name": "stderr",
     "output_type": "stream",
     "text": [
      "  0%|          | 9/17803 [00:00<04:17, 69.21it/s]\n",
      "  0%|          | 9/17803 [00:00<04:19, 68.54it/s]\n",
      "  0%|          | 0/17803 [00:00<?, ?it/s]"
     ]
    },
    {
     "name": "stdout",
     "output_type": "stream",
     "text": [
      "40058001.27\n",
      "40057544.84\n"
     ]
    },
    {
     "name": "stderr",
     "output_type": "stream",
     "text": [
      "  0%|          | 9/17803 [00:00<03:57, 74.92it/s]\n",
      "  0%|          | 9/17803 [00:00<03:45, 78.85it/s]\n",
      "  0%|          | 0/17803 [00:00<?, ?it/s]"
     ]
    },
    {
     "name": "stdout",
     "output_type": "stream",
     "text": [
      "40056680.69\n",
      "40056227.7\n"
     ]
    },
    {
     "name": "stderr",
     "output_type": "stream",
     "text": [
      "  0%|          | 9/17803 [00:00<03:27, 85.81it/s]\n",
      "  0%|          | 9/17803 [00:00<04:16, 69.24it/s]\n",
      "  0%|          | 0/17803 [00:00<?, ?it/s]"
     ]
    },
    {
     "name": "stdout",
     "output_type": "stream",
     "text": [
      "40056227.04\n",
      "40055925.33\n"
     ]
    },
    {
     "name": "stderr",
     "output_type": "stream",
     "text": [
      "  0%|          | 9/17803 [00:00<04:02, 73.41it/s]\n",
      "  0%|          | 9/17803 [00:00<03:40, 80.80it/s]\n",
      "  0%|          | 0/17803 [00:00<?, ?it/s]"
     ]
    },
    {
     "name": "stdout",
     "output_type": "stream",
     "text": [
      "40055249.56\n",
      "40055225.55\n"
     ]
    },
    {
     "name": "stderr",
     "output_type": "stream",
     "text": [
      "  0%|          | 9/17803 [00:00<04:32, 65.19it/s]\n",
      "  0%|          | 9/17803 [00:00<03:45, 78.79it/s]\n",
      "  0%|          | 0/17803 [00:00<?, ?it/s]"
     ]
    },
    {
     "name": "stdout",
     "output_type": "stream",
     "text": [
      "40053499.51\n",
      "40053347.91\n"
     ]
    },
    {
     "name": "stderr",
     "output_type": "stream",
     "text": [
      "  0%|          | 9/17803 [00:00<03:46, 78.54it/s]\n",
      "  0%|          | 9/17803 [00:00<03:49, 77.55it/s]\n",
      "  0%|          | 0/17803 [00:00<?, ?it/s]"
     ]
    },
    {
     "name": "stdout",
     "output_type": "stream",
     "text": [
      "40053275.81\n",
      "40053255.29\n"
     ]
    },
    {
     "name": "stderr",
     "output_type": "stream",
     "text": [
      "  0%|          | 9/17803 [00:00<03:50, 77.31it/s]\n",
      "  0%|          | 9/17803 [00:00<03:38, 81.42it/s]\n",
      "  0%|          | 0/17803 [00:00<?, ?it/s]"
     ]
    },
    {
     "name": "stdout",
     "output_type": "stream",
     "text": [
      "40053087.24\n",
      "40051972.46\n"
     ]
    },
    {
     "name": "stderr",
     "output_type": "stream",
     "text": [
      "  0%|          | 9/17803 [00:00<04:10, 71.13it/s]\n",
      "  0%|          | 9/17803 [00:00<03:55, 75.44it/s]\n",
      "  0%|          | 0/17803 [00:00<?, ?it/s]"
     ]
    },
    {
     "name": "stdout",
     "output_type": "stream",
     "text": [
      "40051470.28\n",
      "40051454.4\n"
     ]
    },
    {
     "name": "stderr",
     "output_type": "stream",
     "text": [
      "  0%|          | 9/17803 [00:00<03:58, 74.67it/s]\n",
      "  0%|          | 9/17803 [00:00<04:17, 69.09it/s]"
     ]
    },
    {
     "name": "stdout",
     "output_type": "stream",
     "text": [
      "40051126.08\n"
     ]
    },
    {
     "name": "stderr",
     "output_type": "stream",
     "text": [
      "  0%|          | 18/17803 [00:00<04:12, 70.38it/s]\n",
      "  0%|          | 9/17803 [00:00<03:46, 78.39it/s]\n",
      "  0%|          | 0/17803 [00:00<?, ?it/s]"
     ]
    },
    {
     "name": "stdout",
     "output_type": "stream",
     "text": [
      "40050277.98\n",
      "40049656.6\n"
     ]
    },
    {
     "name": "stderr",
     "output_type": "stream",
     "text": [
      "  0%|          | 9/17803 [00:00<03:53, 76.35it/s]\n",
      "  0%|          | 9/17803 [00:00<03:47, 78.19it/s]\n",
      "  0%|          | 0/17803 [00:00<?, ?it/s]"
     ]
    },
    {
     "name": "stdout",
     "output_type": "stream",
     "text": [
      "40049599.05\n",
      "40049459.91\n"
     ]
    },
    {
     "name": "stderr",
     "output_type": "stream",
     "text": [
      "  0%|          | 9/17803 [00:00<04:17, 69.15it/s]\n",
      "  0%|          | 9/17803 [00:00<03:51, 76.96it/s]\n",
      "  0%|          | 0/17803 [00:00<?, ?it/s]"
     ]
    },
    {
     "name": "stdout",
     "output_type": "stream",
     "text": [
      "40046679.69\n",
      "40046185.24\n"
     ]
    },
    {
     "name": "stderr",
     "output_type": "stream",
     "text": [
      "  0%|          | 9/17803 [00:00<04:07, 71.77it/s]\n",
      "  0%|          | 9/17803 [00:00<03:51, 77.02it/s]\n",
      "  0%|          | 0/17803 [00:00<?, ?it/s]"
     ]
    },
    {
     "name": "stdout",
     "output_type": "stream",
     "text": [
      "40046092.07\n",
      "40045977.26\n"
     ]
    },
    {
     "name": "stderr",
     "output_type": "stream",
     "text": [
      "  0%|          | 9/17803 [00:00<04:01, 73.59it/s]\n",
      "  0%|          | 9/17803 [00:00<04:22, 67.70it/s]"
     ]
    },
    {
     "name": "stdout",
     "output_type": "stream",
     "text": [
      "40041727.28\n"
     ]
    },
    {
     "name": "stderr",
     "output_type": "stream",
     "text": [
      "  0%|          | 18/17803 [00:00<04:16, 69.24it/s]\n",
      "  0%|          | 9/17803 [00:00<03:52, 76.66it/s]"
     ]
    },
    {
     "name": "stdout",
     "output_type": "stream",
     "text": [
      "40040944.12\n",
      "40040748.7\n"
     ]
    },
    {
     "name": "stderr",
     "output_type": "stream",
     "text": [
      "\n",
      "  0%|          | 9/17803 [00:00<04:07, 71.96it/s]\n",
      "  0%|          | 9/17803 [00:00<03:53, 76.11it/s]\n",
      "  0%|          | 0/17803 [00:00<?, ?it/s]"
     ]
    },
    {
     "name": "stdout",
     "output_type": "stream",
     "text": [
      "40039269.24\n",
      "40038819.49\n"
     ]
    },
    {
     "name": "stderr",
     "output_type": "stream",
     "text": [
      "  0%|          | 9/17803 [00:00<03:45, 78.97it/s]\n",
      "  0%|          | 0/17803 [00:00<?, ?it/s]\n",
      "  0%|          | 0/17803 [00:00<?, ?it/s]"
     ]
    },
    {
     "name": "stdout",
     "output_type": "stream",
     "text": [
      "40038747.82\n",
      "40038354.78\n"
     ]
    },
    {
     "name": "stderr",
     "output_type": "stream",
     "text": [
      "\n",
      "  0%|          | 0/17803 [00:00<?, ?it/s]\n",
      "  0%|          | 0/17803 [00:00<?, ?it/s]"
     ]
    },
    {
     "name": "stdout",
     "output_type": "stream",
     "text": [
      "40038321.23\n",
      "40038104.36\n"
     ]
    },
    {
     "name": "stderr",
     "output_type": "stream",
     "text": [
      "  0%|          | 9/17803 [00:00<04:05, 72.47it/s]\n",
      "  0%|          | 9/17803 [00:00<03:59, 74.31it/s]\n",
      "  0%|          | 0/17803 [00:00<?, ?it/s]"
     ]
    },
    {
     "name": "stdout",
     "output_type": "stream",
     "text": [
      "40037942.31\n",
      "40037930.94\n"
     ]
    },
    {
     "name": "stderr",
     "output_type": "stream",
     "text": [
      "  0%|          | 9/17803 [00:00<03:52, 76.65it/s]\n",
      "  0%|          | 9/17803 [00:00<03:38, 81.31it/s]"
     ]
    },
    {
     "name": "stdout",
     "output_type": "stream",
     "text": [
      "40037900.46\n"
     ]
    },
    {
     "name": "stderr",
     "output_type": "stream",
     "text": [
      "  0%|          | 18/17803 [00:00<03:32, 83.52it/s]\n",
      "  0%|          | 9/17803 [00:00<03:18, 89.53it/s]"
     ]
    },
    {
     "name": "stdout",
     "output_type": "stream",
     "text": [
      "40037721.28\n"
     ]
    },
    {
     "name": "stderr",
     "output_type": "stream",
     "text": [
      "  0%|          | 18/17803 [00:00<03:20, 88.57it/s]\n",
      "  0%|          | 9/17803 [00:00<03:43, 79.75it/s]"
     ]
    },
    {
     "name": "stdout",
     "output_type": "stream",
     "text": [
      "40037400.68\n"
     ]
    },
    {
     "name": "stderr",
     "output_type": "stream",
     "text": [
      "  0%|          | 18/17803 [00:00<03:39, 80.96it/s]\n",
      "  0%|          | 9/17803 [00:00<03:37, 81.92it/s]\n",
      "  0%|          | 0/17803 [00:00<?, ?it/s]"
     ]
    },
    {
     "name": "stdout",
     "output_type": "stream",
     "text": [
      "40036022.29\n",
      "40036019.32\n"
     ]
    },
    {
     "name": "stderr",
     "output_type": "stream",
     "text": [
      "  0%|          | 9/17803 [00:00<03:39, 80.98it/s]\n",
      "  0%|          | 0/17803 [00:00<?, ?it/s]\n",
      "  0%|          | 9/17803 [00:00<03:21, 88.44it/s]\n",
      "  0%|          | 0/17803 [00:00<?, ?it/s]"
     ]
    },
    {
     "name": "stdout",
     "output_type": "stream",
     "text": [
      "40035843.16\n",
      "40035813.74\n",
      "40034799.89\n"
     ]
    },
    {
     "name": "stderr",
     "output_type": "stream",
     "text": [
      "  0%|          | 9/17803 [00:00<03:47, 78.38it/s]\n",
      "  0%|          | 9/17803 [00:00<03:58, 74.54it/s]\n",
      "  0%|          | 0/17803 [00:00<?, ?it/s]"
     ]
    },
    {
     "name": "stdout",
     "output_type": "stream",
     "text": [
      "40034702.42\n",
      "40032841.42\n"
     ]
    },
    {
     "name": "stderr",
     "output_type": "stream",
     "text": [
      "  0%|          | 18/17803 [00:00<04:32, 65.34it/s]\n",
      "  0%|          | 0/17803 [00:00<?, ?it/s]\n",
      "  0%|          | 9/17803 [00:00<03:43, 79.79it/s]\n",
      "  0%|          | 0/17803 [00:00<?, ?it/s]"
     ]
    },
    {
     "name": "stdout",
     "output_type": "stream",
     "text": [
      "40032051.38\n",
      "40031860.55\n",
      "40030685.04\n"
     ]
    },
    {
     "name": "stderr",
     "output_type": "stream",
     "text": [
      "\n",
      "  0%|          | 9/17803 [00:00<03:59, 74.30it/s]"
     ]
    },
    {
     "name": "stdout",
     "output_type": "stream",
     "text": [
      "40030639.95\n"
     ]
    },
    {
     "name": "stderr",
     "output_type": "stream",
     "text": [
      "  0%|          | 18/17803 [00:00<03:58, 74.60it/s]\n",
      "  0%|          | 9/17803 [00:00<03:34, 82.80it/s]"
     ]
    },
    {
     "name": "stdout",
     "output_type": "stream",
     "text": [
      "40030477.51\n"
     ]
    },
    {
     "name": "stderr",
     "output_type": "stream",
     "text": [
      "\n",
      "  0%|          | 9/17803 [00:00<03:44, 79.24it/s]"
     ]
    },
    {
     "name": "stdout",
     "output_type": "stream",
     "text": [
      "40030438.2\n"
     ]
    },
    {
     "name": "stderr",
     "output_type": "stream",
     "text": [
      "  0%|          | 18/17803 [00:00<03:43, 79.40it/s]\n",
      "  0%|          | 9/17803 [00:00<03:47, 78.28it/s]"
     ]
    },
    {
     "name": "stdout",
     "output_type": "stream",
     "text": [
      "40029225.77\n"
     ]
    },
    {
     "name": "stderr",
     "output_type": "stream",
     "text": [
      "  0%|          | 18/17803 [00:00<03:52, 76.51it/s]\n",
      "  0%|          | 9/17803 [00:00<04:04, 72.77it/s]"
     ]
    },
    {
     "name": "stdout",
     "output_type": "stream",
     "text": [
      "40028190.17\n"
     ]
    },
    {
     "name": "stderr",
     "output_type": "stream",
     "text": [
      "  0%|          | 18/17803 [00:00<04:00, 73.95it/s]\n",
      "  0%|          | 9/17803 [00:00<03:50, 77.29it/s]\n",
      "  0%|          | 0/17803 [00:00<?, ?it/s]"
     ]
    },
    {
     "name": "stdout",
     "output_type": "stream",
     "text": [
      "40027827.68\n",
      "40027817.8\n"
     ]
    },
    {
     "name": "stderr",
     "output_type": "stream",
     "text": [
      "\n",
      "  0%|          | 0/17803 [00:00<?, ?it/s]\n",
      "  0%|          | 0/17803 [00:00<?, ?it/s]\n",
      "  0%|          | 0/17803 [00:00<?, ?it/s]\n",
      "  0%|          | 0/17803 [00:00<?, ?it/s]\n",
      "  0%|          | 0/17803 [00:00<?, ?it/s]"
     ]
    },
    {
     "name": "stdout",
     "output_type": "stream",
     "text": [
      "40027271.92\n",
      "40027253.71\n",
      "40026856.15\n",
      "40026424.91\n",
      "40026329.23\n"
     ]
    },
    {
     "name": "stderr",
     "output_type": "stream",
     "text": [
      "\n",
      "  0%|          | 9/17803 [00:00<03:53, 76.14it/s]\n",
      "  0%|          | 0/17803 [00:00<?, ?it/s]"
     ]
    },
    {
     "name": "stdout",
     "output_type": "stream",
     "text": [
      "40025281.19\n",
      "40024370.72\n"
     ]
    },
    {
     "name": "stderr",
     "output_type": "stream",
     "text": [
      "  0%|          | 9/17803 [00:00<03:44, 79.44it/s]\n",
      "  0%|          | 9/17803 [00:00<03:58, 74.68it/s]\n",
      "  0%|          | 0/17803 [00:00<?, ?it/s]"
     ]
    },
    {
     "name": "stdout",
     "output_type": "stream",
     "text": [
      "40023506.15\n",
      "40022582.6\n"
     ]
    },
    {
     "name": "stderr",
     "output_type": "stream",
     "text": [
      "  0%|          | 9/17803 [00:00<03:52, 76.65it/s]\n",
      "  0%|          | 9/17803 [00:00<03:56, 75.22it/s]\n",
      "  0%|          | 0/17803 [00:00<?, ?it/s]"
     ]
    },
    {
     "name": "stdout",
     "output_type": "stream",
     "text": [
      "40022360.38\n",
      "40022142.93\n"
     ]
    },
    {
     "name": "stderr",
     "output_type": "stream",
     "text": [
      "  0%|          | 9/17803 [00:00<03:51, 76.88it/s]\n",
      "  0%|          | 9/17803 [00:00<03:33, 83.24it/s]\n",
      "  0%|          | 0/17803 [00:00<?, ?it/s]"
     ]
    },
    {
     "name": "stdout",
     "output_type": "stream",
     "text": [
      "40020267.92\n",
      "40018811.72\n"
     ]
    },
    {
     "name": "stderr",
     "output_type": "stream",
     "text": [
      "  0%|          | 9/17803 [00:00<03:24, 86.85it/s]\n",
      "  0%|          | 0/17803 [00:00<?, ?it/s]\n",
      "  0%|          | 0/17803 [00:00<?, ?it/s]"
     ]
    },
    {
     "name": "stdout",
     "output_type": "stream",
     "text": [
      "40018155.57\n",
      "40017820.38\n"
     ]
    },
    {
     "name": "stderr",
     "output_type": "stream",
     "text": [
      "  0%|          | 9/17803 [00:00<03:58, 74.62it/s]\n",
      "  0%|          | 9/17803 [00:00<03:58, 74.47it/s]\n",
      "  0%|          | 0/17803 [00:00<?, ?it/s]"
     ]
    },
    {
     "name": "stdout",
     "output_type": "stream",
     "text": [
      "40017623.75\n",
      "40015865.14\n"
     ]
    },
    {
     "name": "stderr",
     "output_type": "stream",
     "text": [
      "  0%|          | 9/17803 [00:00<03:59, 74.44it/s]\n",
      "  0%|          | 9/17803 [00:00<03:54, 75.85it/s]\n",
      "  0%|          | 0/17803 [00:00<?, ?it/s]"
     ]
    },
    {
     "name": "stdout",
     "output_type": "stream",
     "text": [
      "40015450.2\n",
      "40014774.34\n"
     ]
    },
    {
     "name": "stderr",
     "output_type": "stream",
     "text": [
      "  0%|          | 9/17803 [00:00<03:49, 77.52it/s]\n",
      "  0%|          | 9/17803 [00:00<03:49, 77.57it/s]\n",
      "  0%|          | 0/17803 [00:00<?, ?it/s]"
     ]
    },
    {
     "name": "stdout",
     "output_type": "stream",
     "text": [
      "40013799.45\n",
      "40013375.42\n"
     ]
    },
    {
     "name": "stderr",
     "output_type": "stream",
     "text": [
      "  0%|          | 9/17803 [00:00<03:57, 74.98it/s]\n",
      "  0%|          | 9/17803 [00:00<03:57, 75.04it/s]\n",
      "  0%|          | 0/17803 [00:00<?, ?it/s]"
     ]
    },
    {
     "name": "stdout",
     "output_type": "stream",
     "text": [
      "40013362.15\n",
      "40013134.21\n"
     ]
    },
    {
     "name": "stderr",
     "output_type": "stream",
     "text": [
      "  0%|          | 9/17803 [00:00<03:56, 75.24it/s]\n",
      "  0%|          | 9/17803 [00:00<03:54, 76.01it/s]"
     ]
    },
    {
     "name": "stdout",
     "output_type": "stream",
     "text": [
      "40012811.68\n"
     ]
    },
    {
     "name": "stderr",
     "output_type": "stream",
     "text": [
      "\n",
      "  0%|          | 9/17803 [00:00<04:00, 74.01it/s]\n",
      "  0%|          | 0/17803 [00:00<?, ?it/s]"
     ]
    },
    {
     "name": "stdout",
     "output_type": "stream",
     "text": [
      "40011297.4\n",
      "40010983.13\n"
     ]
    },
    {
     "name": "stderr",
     "output_type": "stream",
     "text": [
      "  0%|          | 9/17803 [00:00<03:56, 75.29it/s]\n",
      "  0%|          | 9/17803 [00:00<04:03, 73.18it/s]\n",
      "  0%|          | 0/17803 [00:00<?, ?it/s]"
     ]
    },
    {
     "name": "stdout",
     "output_type": "stream",
     "text": [
      "40010829.96\n",
      "40007909.54\n"
     ]
    },
    {
     "name": "stderr",
     "output_type": "stream",
     "text": [
      "  0%|          | 9/17803 [00:00<04:05, 72.43it/s]\n",
      "  0%|          | 9/17803 [00:00<04:23, 67.50it/s]\n",
      "  0%|          | 0/17803 [00:00<?, ?it/s]"
     ]
    },
    {
     "name": "stdout",
     "output_type": "stream",
     "text": [
      "40005449.86\n",
      "40004711.32\n"
     ]
    },
    {
     "name": "stderr",
     "output_type": "stream",
     "text": [
      "  0%|          | 9/17803 [00:00<04:29, 66.07it/s]\n",
      "  0%|          | 9/17803 [00:00<04:34, 64.85it/s]\n",
      "  0%|          | 0/17803 [00:00<?, ?it/s]"
     ]
    },
    {
     "name": "stdout",
     "output_type": "stream",
     "text": [
      "40002816.41\n",
      "40001564.18\n"
     ]
    },
    {
     "name": "stderr",
     "output_type": "stream",
     "text": [
      "  0%|          | 18/17803 [00:00<04:15, 69.53it/s]\n",
      "  0%|          | 9/17803 [00:00<03:56, 75.27it/s]\n",
      "  0%|          | 0/17803 [00:00<?, ?it/s]"
     ]
    },
    {
     "name": "stdout",
     "output_type": "stream",
     "text": [
      "40001433.88\n",
      "40001419.0\n"
     ]
    },
    {
     "name": "stderr",
     "output_type": "stream",
     "text": [
      "  0%|          | 9/17803 [00:00<04:51, 61.01it/s]\n",
      "  0%|          | 9/17803 [00:00<04:26, 66.76it/s]\n",
      "  0%|          | 0/17803 [00:00<?, ?it/s]"
     ]
    },
    {
     "name": "stdout",
     "output_type": "stream",
     "text": [
      "40001218.37\n",
      "40001007.3\n"
     ]
    },
    {
     "name": "stderr",
     "output_type": "stream",
     "text": [
      "  0%|          | 9/17803 [00:00<04:12, 70.39it/s]\n",
      "  0%|          | 9/17803 [00:00<03:51, 76.70it/s]\n",
      "  0%|          | 0/17803 [00:00<?, ?it/s]"
     ]
    },
    {
     "name": "stdout",
     "output_type": "stream",
     "text": [
      "40000933.31\n",
      "40000650.43\n"
     ]
    },
    {
     "name": "stderr",
     "output_type": "stream",
     "text": [
      "  0%|          | 9/17803 [00:00<03:35, 82.71it/s]\n",
      "  0%|          | 9/17803 [00:00<03:46, 78.60it/s]\n",
      "  0%|          | 0/17803 [00:00<?, ?it/s]"
     ]
    },
    {
     "name": "stdout",
     "output_type": "stream",
     "text": [
      "40000391.19\n",
      "39999868.83\n"
     ]
    },
    {
     "name": "stderr",
     "output_type": "stream",
     "text": [
      "  0%|          | 9/17803 [00:00<03:46, 78.55it/s]\n",
      "  0%|          | 9/17803 [00:00<03:50, 77.13it/s]\n",
      "  0%|          | 0/17803 [00:00<?, ?it/s]"
     ]
    },
    {
     "name": "stdout",
     "output_type": "stream",
     "text": [
      "39999539.08\n",
      "39999485.92\n"
     ]
    },
    {
     "name": "stderr",
     "output_type": "stream",
     "text": [
      "  0%|          | 9/17803 [00:00<04:00, 74.14it/s]\n",
      "  0%|          | 9/17803 [00:00<03:57, 74.98it/s]\n",
      "  0%|          | 0/17803 [00:00<?, ?it/s]"
     ]
    },
    {
     "name": "stdout",
     "output_type": "stream",
     "text": [
      "39999381.31\n",
      "39999141.62\n"
     ]
    },
    {
     "name": "stderr",
     "output_type": "stream",
     "text": [
      "  0%|          | 9/17803 [00:00<03:49, 77.57it/s]\n",
      "  0%|          | 9/17803 [00:00<04:03, 73.14it/s]"
     ]
    },
    {
     "name": "stdout",
     "output_type": "stream",
     "text": [
      "39998379.0\n"
     ]
    },
    {
     "name": "stderr",
     "output_type": "stream",
     "text": [
      "  0%|          | 18/17803 [00:00<03:57, 74.93it/s]\n",
      "  0%|          | 9/17803 [00:00<03:49, 77.67it/s]"
     ]
    },
    {
     "name": "stdout",
     "output_type": "stream",
     "text": [
      "39998224.78\n"
     ]
    },
    {
     "name": "stderr",
     "output_type": "stream",
     "text": [
      "\n",
      "  0%|          | 18/17803 [00:00<03:04, 96.61it/s]"
     ]
    },
    {
     "name": "stdout",
     "output_type": "stream",
     "text": [
      "39998049.07\n"
     ]
    },
    {
     "name": "stderr",
     "output_type": "stream",
     "text": [
      "\n",
      "  0%|          | 9/17803 [00:00<03:41, 80.34it/s]"
     ]
    },
    {
     "name": "stdout",
     "output_type": "stream",
     "text": [
      "39998045.08\n"
     ]
    },
    {
     "name": "stderr",
     "output_type": "stream",
     "text": [
      "  0%|          | 27/17803 [00:00<03:36, 82.05it/s]\n",
      "  0%|          | 9/17803 [00:00<04:02, 73.48it/s]"
     ]
    },
    {
     "name": "stdout",
     "output_type": "stream",
     "text": [
      "39996190.71\n"
     ]
    },
    {
     "name": "stderr",
     "output_type": "stream",
     "text": [
      "  0%|          | 27/17803 [00:00<03:49, 77.51it/s]\n",
      "  0%|          | 9/17803 [00:00<03:57, 74.86it/s]"
     ]
    },
    {
     "name": "stdout",
     "output_type": "stream",
     "text": [
      "39996096.55\n"
     ]
    },
    {
     "name": "stderr",
     "output_type": "stream",
     "text": [
      "  0%|          | 27/17803 [00:00<03:54, 75.74it/s]\n",
      "  0%|          | 9/17803 [00:00<03:53, 76.13it/s]"
     ]
    },
    {
     "name": "stdout",
     "output_type": "stream",
     "text": [
      "39995907.83\n"
     ]
    },
    {
     "name": "stderr",
     "output_type": "stream",
     "text": [
      "  0%|          | 36/17803 [00:00<03:45, 78.73it/s]\n",
      "  0%|          | 9/17803 [00:00<03:50, 77.03it/s]"
     ]
    },
    {
     "name": "stdout",
     "output_type": "stream",
     "text": [
      "39995779.13\n"
     ]
    },
    {
     "name": "stderr",
     "output_type": "stream",
     "text": [
      "  0%|          | 36/17803 [00:00<03:44, 79.12it/s]\n",
      "  0%|          | 9/17803 [00:00<04:02, 73.35it/s]"
     ]
    },
    {
     "name": "stdout",
     "output_type": "stream",
     "text": [
      "39995150.82\n"
     ]
    },
    {
     "name": "stderr",
     "output_type": "stream",
     "text": [
      "  0%|          | 18/17803 [00:00<03:55, 75.67it/s]\n",
      "  0%|          | 9/17803 [00:00<04:03, 73.19it/s]"
     ]
    },
    {
     "name": "stdout",
     "output_type": "stream",
     "text": [
      "39994702.68\n"
     ]
    },
    {
     "name": "stderr",
     "output_type": "stream",
     "text": [
      "  0%|          | 18/17803 [00:00<03:57, 75.00it/s]\n",
      "  0%|          | 9/17803 [00:00<04:05, 72.46it/s]\n",
      "  0%|          | 0/17803 [00:00<?, ?it/s]"
     ]
    },
    {
     "name": "stdout",
     "output_type": "stream",
     "text": [
      "39994691.14\n",
      "39994672.95\n"
     ]
    },
    {
     "name": "stderr",
     "output_type": "stream",
     "text": [
      "  0%|          | 9/17803 [00:00<04:06, 72.15it/s]\n",
      "  0%|          | 9/17803 [00:00<04:05, 72.45it/s]\n",
      "  0%|          | 0/17803 [00:00<?, ?it/s]"
     ]
    },
    {
     "name": "stdout",
     "output_type": "stream",
     "text": [
      "39994249.69\n",
      "39993523.0\n"
     ]
    },
    {
     "name": "stderr",
     "output_type": "stream",
     "text": [
      "  0%|          | 9/17803 [00:00<04:13, 70.33it/s]\n",
      "  0%|          | 9/17803 [00:00<04:12, 70.39it/s]\n",
      "  0%|          | 0/17803 [00:00<?, ?it/s]"
     ]
    },
    {
     "name": "stdout",
     "output_type": "stream",
     "text": [
      "39992662.79\n",
      "39991560.07\n"
     ]
    },
    {
     "name": "stderr",
     "output_type": "stream",
     "text": [
      "  0%|          | 18/17803 [00:00<04:01, 73.57it/s]\n",
      "  0%|          | 9/17803 [00:00<04:15, 69.61it/s]\n",
      "  0%|          | 0/17803 [00:00<?, ?it/s]"
     ]
    },
    {
     "name": "stdout",
     "output_type": "stream",
     "text": [
      "39991427.55\n",
      "39991286.92\n"
     ]
    },
    {
     "name": "stderr",
     "output_type": "stream",
     "text": [
      "  0%|          | 9/17803 [00:00<04:14, 69.96it/s]\n",
      "  0%|          | 9/17803 [00:00<04:14, 69.93it/s]\n",
      "  0%|          | 0/17803 [00:00<?, ?it/s]"
     ]
    },
    {
     "name": "stdout",
     "output_type": "stream",
     "text": [
      "39991218.39\n",
      "39991156.22\n"
     ]
    },
    {
     "name": "stderr",
     "output_type": "stream",
     "text": [
      "  0%|          | 9/17803 [00:00<04:03, 73.17it/s]\n",
      "  0%|          | 9/17803 [00:00<03:53, 76.05it/s]\n",
      "  0%|          | 0/17803 [00:00<?, ?it/s]"
     ]
    },
    {
     "name": "stdout",
     "output_type": "stream",
     "text": [
      "39990343.48\n",
      "39989369.78\n"
     ]
    },
    {
     "name": "stderr",
     "output_type": "stream",
     "text": [
      "  0%|          | 9/17803 [00:00<04:19, 68.48it/s]\n",
      "  0%|          | 0/17803 [00:00<?, ?it/s]\n",
      "  0%|          | 0/17803 [00:00<?, ?it/s]\n",
      "  0%|          | 9/17803 [00:00<04:43, 62.80it/s]"
     ]
    },
    {
     "name": "stdout",
     "output_type": "stream",
     "text": [
      "39989308.48\n",
      "39989249.06\n",
      "39988697.37\n"
     ]
    },
    {
     "name": "stderr",
     "output_type": "stream",
     "text": [
      "\n",
      "  0%|          | 9/17803 [00:00<04:25, 66.97it/s]"
     ]
    },
    {
     "name": "stdout",
     "output_type": "stream",
     "text": [
      "39987797.1\n"
     ]
    },
    {
     "name": "stderr",
     "output_type": "stream",
     "text": [
      "  0%|          | 18/17803 [00:00<04:11, 70.69it/s]\n",
      "  0%|          | 0/17803 [00:00<?, ?it/s]\n",
      "  0%|          | 0/17803 [00:00<?, ?it/s]\n",
      "  0%|          | 0/17803 [00:00<?, ?it/s]\n",
      "  0%|          | 0/17803 [00:00<?, ?it/s]\n",
      "  0%|          | 0/17803 [00:00<?, ?it/s]"
     ]
    },
    {
     "name": "stdout",
     "output_type": "stream",
     "text": [
      "39987760.15\n",
      "39985882.34\n",
      "39985157.09\n",
      "39985049.46\n",
      "39984299.92\n"
     ]
    },
    {
     "name": "stderr",
     "output_type": "stream",
     "text": [
      "\n",
      "  0%|          | 0/17803 [00:00<?, ?it/s]\n",
      "  0%|          | 0/17803 [00:00<?, ?it/s]"
     ]
    },
    {
     "name": "stdout",
     "output_type": "stream",
     "text": [
      "39983794.84\n",
      "39983375.26\n"
     ]
    },
    {
     "name": "stderr",
     "output_type": "stream",
     "text": [
      "  0%|          | 18/17803 [00:00<03:59, 74.32it/s]\n",
      "  0%|          | 9/17803 [00:00<04:01, 73.53it/s]"
     ]
    },
    {
     "name": "stdout",
     "output_type": "stream",
     "text": [
      "39982989.79\n"
     ]
    },
    {
     "name": "stderr",
     "output_type": "stream",
     "text": [
      "  0%|          | 18/17803 [00:00<04:01, 73.79it/s]\n",
      "  0%|          | 9/17803 [00:00<03:54, 75.89it/s]"
     ]
    },
    {
     "name": "stdout",
     "output_type": "stream",
     "text": [
      "39982616.78\n"
     ]
    },
    {
     "name": "stderr",
     "output_type": "stream",
     "text": [
      "  0%|          | 18/17803 [00:00<03:52, 76.45it/s]\n",
      "  0%|          | 9/17803 [00:00<03:52, 76.64it/s]"
     ]
    },
    {
     "name": "stdout",
     "output_type": "stream",
     "text": [
      "39981615.77\n"
     ]
    },
    {
     "name": "stderr",
     "output_type": "stream",
     "text": [
      "  0%|          | 27/17803 [00:00<03:44, 79.32it/s]\n",
      "  0%|          | 9/17803 [00:00<03:49, 77.69it/s]"
     ]
    },
    {
     "name": "stdout",
     "output_type": "stream",
     "text": [
      "39981227.27\n"
     ]
    },
    {
     "name": "stderr",
     "output_type": "stream",
     "text": [
      "  0%|          | 18/17803 [00:00<03:47, 78.02it/s]\n",
      "  0%|          | 0/17803 [00:00<?, ?it/s]\n",
      "  0%|          | 0/17803 [00:00<?, ?it/s]\n",
      "  0%|          | 0/17803 [00:00<?, ?it/s]\n",
      "  0%|          | 0/17803 [00:00<?, ?it/s]"
     ]
    },
    {
     "name": "stdout",
     "output_type": "stream",
     "text": [
      "39981129.95\n",
      "39980901.94\n",
      "39979814.85\n",
      "39979585.77\n"
     ]
    },
    {
     "name": "stderr",
     "output_type": "stream",
     "text": [
      "  0%|          | 9/17803 [00:00<04:02, 73.52it/s]\n",
      "  0%|          | 9/17803 [00:00<03:57, 74.88it/s]\n",
      "  0%|          | 0/17803 [00:00<?, ?it/s]"
     ]
    },
    {
     "name": "stdout",
     "output_type": "stream",
     "text": [
      "39979576.37\n",
      "39979064.02\n"
     ]
    },
    {
     "name": "stderr",
     "output_type": "stream",
     "text": [
      "  0%|          | 9/17803 [00:00<03:54, 75.92it/s]\n",
      "  0%|          | 9/17803 [00:00<04:01, 73.60it/s]\n",
      "  0%|          | 0/17803 [00:00<?, ?it/s]"
     ]
    },
    {
     "name": "stdout",
     "output_type": "stream",
     "text": [
      "39979030.51\n",
      "39978404.58\n"
     ]
    },
    {
     "name": "stderr",
     "output_type": "stream",
     "text": [
      "  0%|          | 9/17803 [00:00<03:52, 76.62it/s]\n",
      "  0%|          | 9/17803 [00:00<04:05, 72.43it/s]\n",
      "  0%|          | 0/17803 [00:00<?, ?it/s]"
     ]
    },
    {
     "name": "stdout",
     "output_type": "stream",
     "text": [
      "39977242.14\n",
      "39977238.25\n"
     ]
    },
    {
     "name": "stderr",
     "output_type": "stream",
     "text": [
      "  0%|          | 9/17803 [00:00<04:03, 73.13it/s]\n",
      "  0%|          | 9/17803 [00:00<03:49, 77.64it/s]\n",
      "  0%|          | 0/17803 [00:00<?, ?it/s]"
     ]
    },
    {
     "name": "stdout",
     "output_type": "stream",
     "text": [
      "39975688.79\n",
      "39975658.43\n"
     ]
    },
    {
     "name": "stderr",
     "output_type": "stream",
     "text": [
      "  0%|          | 9/17803 [00:00<04:03, 72.97it/s]\n",
      "  0%|          | 9/17803 [00:00<03:50, 77.28it/s]\n",
      "  0%|          | 0/17803 [00:00<?, ?it/s]"
     ]
    },
    {
     "name": "stdout",
     "output_type": "stream",
     "text": [
      "39975445.92\n",
      "39972461.56\n"
     ]
    },
    {
     "name": "stderr",
     "output_type": "stream",
     "text": [
      "  0%|          | 9/17803 [00:00<04:04, 72.80it/s]\n",
      "  0%|          | 9/17803 [00:00<04:03, 73.22it/s]\n",
      "  0%|          | 0/17803 [00:00<?, ?it/s]"
     ]
    },
    {
     "name": "stdout",
     "output_type": "stream",
     "text": [
      "39971987.39\n",
      "39971854.88\n"
     ]
    },
    {
     "name": "stderr",
     "output_type": "stream",
     "text": [
      "  0%|          | 9/17803 [00:00<04:04, 72.89it/s]\n",
      "  0%|          | 9/17803 [00:00<03:47, 78.26it/s]"
     ]
    },
    {
     "name": "stdout",
     "output_type": "stream",
     "text": [
      "39971797.07\n"
     ]
    },
    {
     "name": "stderr",
     "output_type": "stream",
     "text": [
      "  0%|          | 18/17803 [00:00<03:45, 78.94it/s]\n",
      "  0%|          | 9/17803 [00:00<03:55, 75.65it/s]\n",
      "  0%|          | 0/17803 [00:00<?, ?it/s]"
     ]
    },
    {
     "name": "stdout",
     "output_type": "stream",
     "text": [
      "39971417.66\n",
      "39970929.68\n"
     ]
    },
    {
     "name": "stderr",
     "output_type": "stream",
     "text": [
      "  0%|          | 9/17803 [00:00<03:58, 74.69it/s]\n",
      "  0%|          | 9/17803 [00:00<04:05, 72.51it/s]\n",
      "  0%|          | 0/17803 [00:00<?, ?it/s]"
     ]
    },
    {
     "name": "stdout",
     "output_type": "stream",
     "text": [
      "39970650.54\n",
      "39970612.73\n"
     ]
    },
    {
     "name": "stderr",
     "output_type": "stream",
     "text": [
      "  0%|          | 27/17803 [00:00<03:42, 79.75it/s]\n",
      "  0%|          | 9/17803 [00:00<04:04, 72.75it/s]"
     ]
    },
    {
     "name": "stdout",
     "output_type": "stream",
     "text": [
      "39970563.65\n"
     ]
    },
    {
     "name": "stderr",
     "output_type": "stream",
     "text": [
      "  0%|          | 36/17803 [00:00<03:41, 80.38it/s]\n",
      "  0%|          | 9/17803 [00:00<03:45, 78.91it/s]"
     ]
    },
    {
     "name": "stdout",
     "output_type": "stream",
     "text": [
      "39969937.7\n"
     ]
    },
    {
     "name": "stderr",
     "output_type": "stream",
     "text": [
      "  0%|          | 27/17803 [00:00<03:31, 83.86it/s]\n",
      "  0%|          | 18/17803 [00:00<03:14, 91.42it/s]"
     ]
    },
    {
     "name": "stdout",
     "output_type": "stream",
     "text": [
      "39968807.89\n"
     ]
    },
    {
     "name": "stderr",
     "output_type": "stream",
     "text": [
      "  0%|          | 36/17803 [00:00<03:25, 86.39it/s]\n",
      "  0%|          | 9/17803 [00:00<04:30, 65.70it/s]"
     ]
    },
    {
     "name": "stdout",
     "output_type": "stream",
     "text": [
      "39968590.95\n"
     ]
    },
    {
     "name": "stderr",
     "output_type": "stream",
     "text": [
      "  0%|          | 36/17803 [00:00<04:02, 73.14it/s]\n",
      "  0%|          | 9/17803 [00:00<03:55, 75.50it/s]"
     ]
    },
    {
     "name": "stdout",
     "output_type": "stream",
     "text": [
      "39967218.0\n"
     ]
    },
    {
     "name": "stderr",
     "output_type": "stream",
     "text": [
      "  0%|          | 27/17803 [00:00<03:50, 76.96it/s]\n",
      "  0%|          | 9/17803 [00:00<03:57, 74.77it/s]"
     ]
    },
    {
     "name": "stdout",
     "output_type": "stream",
     "text": [
      "39966685.8\n"
     ]
    },
    {
     "name": "stderr",
     "output_type": "stream",
     "text": [
      "  0%|          | 27/17803 [00:00<03:52, 76.54it/s]\n",
      "  0%|          | 9/17803 [00:00<03:48, 77.88it/s]"
     ]
    },
    {
     "name": "stdout",
     "output_type": "stream",
     "text": [
      "39965700.36\n"
     ]
    },
    {
     "name": "stderr",
     "output_type": "stream",
     "text": [
      "\n",
      "  0%|          | 9/17803 [00:00<03:54, 75.97it/s]\n",
      "  0%|          | 0/17803 [00:00<?, ?it/s]"
     ]
    },
    {
     "name": "stdout",
     "output_type": "stream",
     "text": [
      "39965231.19\n",
      "39964965.17\n"
     ]
    },
    {
     "name": "stderr",
     "output_type": "stream",
     "text": [
      "  0%|          | 9/17803 [00:00<04:00, 74.09it/s]\n",
      "  0%|          | 9/17803 [00:00<04:01, 73.77it/s]\n",
      "  0%|          | 0/17803 [00:00<?, ?it/s]"
     ]
    },
    {
     "name": "stdout",
     "output_type": "stream",
     "text": [
      "39964199.24\n",
      "39963141.9\n"
     ]
    },
    {
     "name": "stderr",
     "output_type": "stream",
     "text": [
      "  0%|          | 9/17803 [00:00<04:07, 71.77it/s]\n",
      "  0%|          | 9/17803 [00:00<03:59, 74.28it/s]\n",
      "  0%|          | 0/17803 [00:00<?, ?it/s]"
     ]
    },
    {
     "name": "stdout",
     "output_type": "stream",
     "text": [
      "39961720.21\n",
      "39961673.17\n"
     ]
    },
    {
     "name": "stderr",
     "output_type": "stream",
     "text": [
      "  0%|          | 9/17803 [00:00<03:54, 75.72it/s]\n",
      "  0%|          | 9/17803 [00:00<03:56, 75.39it/s]\n",
      "  0%|          | 0/17803 [00:00<?, ?it/s]"
     ]
    },
    {
     "name": "stdout",
     "output_type": "stream",
     "text": [
      "39961344.7\n",
      "39961092.07\n"
     ]
    },
    {
     "name": "stderr",
     "output_type": "stream",
     "text": [
      "  0%|          | 9/17803 [00:00<04:01, 73.80it/s]\n",
      "  0%|          | 9/17803 [00:00<03:54, 75.99it/s]\n",
      "  0%|          | 0/17803 [00:00<?, ?it/s]"
     ]
    },
    {
     "name": "stdout",
     "output_type": "stream",
     "text": [
      "39959818.62\n",
      "39959100.73\n"
     ]
    },
    {
     "name": "stderr",
     "output_type": "stream",
     "text": [
      "  0%|          | 9/17803 [00:00<03:59, 74.32it/s]\n",
      "  0%|          | 9/17803 [00:00<04:14, 69.96it/s]\n",
      "  0%|          | 0/17803 [00:00<?, ?it/s]"
     ]
    },
    {
     "name": "stdout",
     "output_type": "stream",
     "text": [
      "39958701.47\n",
      "39956918.65\n"
     ]
    },
    {
     "name": "stderr",
     "output_type": "stream",
     "text": [
      "  0%|          | 9/17803 [00:00<04:09, 71.21it/s]\n",
      "  0%|          | 0/17803 [00:00<?, ?it/s]\n",
      "  0%|          | 9/17803 [00:00<03:55, 75.47it/s]\n",
      "  0%|          | 0/17803 [00:00<?, ?it/s]"
     ]
    },
    {
     "name": "stdout",
     "output_type": "stream",
     "text": [
      "39952399.5\n",
      "39951659.52\n",
      "39951583.99\n"
     ]
    },
    {
     "name": "stderr",
     "output_type": "stream",
     "text": [
      "  0%|          | 9/17803 [00:00<04:06, 72.07it/s]\n",
      "  0%|          | 0/17803 [00:00<?, ?it/s]\n",
      "  0%|          | 9/17803 [00:00<03:46, 78.39it/s]"
     ]
    },
    {
     "name": "stdout",
     "output_type": "stream",
     "text": [
      "39951507.9\n",
      "39951442.35\n"
     ]
    },
    {
     "name": "stderr",
     "output_type": "stream",
     "text": [
      "\n",
      "  0%|          | 9/17803 [00:00<03:50, 77.05it/s]"
     ]
    },
    {
     "name": "stdout",
     "output_type": "stream",
     "text": [
      "39951091.8\n"
     ]
    },
    {
     "name": "stderr",
     "output_type": "stream",
     "text": [
      "  0%|          | 18/17803 [00:00<03:50, 77.16it/s]\n",
      "  0%|          | 9/17803 [00:00<04:03, 73.02it/s]"
     ]
    },
    {
     "name": "stdout",
     "output_type": "stream",
     "text": [
      "39950381.44\n"
     ]
    },
    {
     "name": "stderr",
     "output_type": "stream",
     "text": [
      "  0%|          | 18/17803 [00:00<03:58, 74.69it/s]\n",
      "  0%|          | 9/17803 [00:00<03:52, 76.60it/s]\n",
      "  0%|          | 0/17803 [00:00<?, ?it/s]"
     ]
    },
    {
     "name": "stdout",
     "output_type": "stream",
     "text": [
      "39950280.59\n",
      "39950166.34\n"
     ]
    },
    {
     "name": "stderr",
     "output_type": "stream",
     "text": [
      "  0%|          | 27/17803 [00:00<03:12, 92.14it/s]\n",
      "  0%|          | 9/17803 [00:00<03:33, 83.23it/s]\n",
      "  0%|          | 0/17803 [00:00<?, ?it/s]"
     ]
    },
    {
     "name": "stdout",
     "output_type": "stream",
     "text": [
      "39949468.22\n",
      "39949170.26\n"
     ]
    },
    {
     "name": "stderr",
     "output_type": "stream",
     "text": [
      "  0%|          | 9/17803 [00:00<03:59, 74.22it/s]\n",
      "  0%|          | 9/17803 [00:00<03:50, 77.13it/s]"
     ]
    },
    {
     "name": "stdout",
     "output_type": "stream",
     "text": [
      "39949075.32\n"
     ]
    },
    {
     "name": "stderr",
     "output_type": "stream",
     "text": [
      "  0%|          | 18/17803 [00:00<03:45, 78.76it/s]\n",
      "  0%|          | 9/17803 [00:00<03:39, 81.03it/s]"
     ]
    },
    {
     "name": "stdout",
     "output_type": "stream",
     "text": [
      "39947934.38\n"
     ]
    },
    {
     "name": "stderr",
     "output_type": "stream",
     "text": [
      "  0%|          | 27/17803 [00:00<03:38, 81.39it/s]\n",
      "  0%|          | 9/17803 [00:00<03:52, 76.46it/s]\n",
      "  0%|          | 0/17803 [00:00<?, ?it/s]"
     ]
    },
    {
     "name": "stdout",
     "output_type": "stream",
     "text": [
      "39947726.18\n",
      "39947706.92\n"
     ]
    },
    {
     "name": "stderr",
     "output_type": "stream",
     "text": [
      "\n",
      "  0%|          | 9/17803 [00:00<04:02, 73.28it/s]\n",
      "  0%|          | 0/17803 [00:00<?, ?it/s]"
     ]
    },
    {
     "name": "stdout",
     "output_type": "stream",
     "text": [
      "39947457.76\n",
      "39947269.09\n"
     ]
    },
    {
     "name": "stderr",
     "output_type": "stream",
     "text": [
      "  0%|          | 9/17803 [00:00<04:06, 72.25it/s]\n",
      "  0%|          | 9/17803 [00:00<03:48, 77.95it/s]"
     ]
    },
    {
     "name": "stdout",
     "output_type": "stream",
     "text": [
      "39947251.23\n"
     ]
    },
    {
     "name": "stderr",
     "output_type": "stream",
     "text": [
      "  0%|          | 27/17803 [00:00<03:47, 77.97it/s]\n",
      "  0%|          | 9/17803 [00:00<04:36, 64.33it/s]"
     ]
    },
    {
     "name": "stdout",
     "output_type": "stream",
     "text": [
      "39946913.56\n"
     ]
    },
    {
     "name": "stderr",
     "output_type": "stream",
     "text": [
      "  0%|          | 27/17803 [00:00<04:29, 65.93it/s]\n",
      "  0%|          | 0/17803 [00:00<?, ?it/s]\n",
      "  0%|          | 0/17803 [00:00<?, ?it/s]\n",
      "  0%|          | 0/17803 [00:00<?, ?it/s]"
     ]
    },
    {
     "name": "stdout",
     "output_type": "stream",
     "text": [
      "39945301.28\n",
      "39944826.93\n",
      "39944499.26\n"
     ]
    },
    {
     "name": "stderr",
     "output_type": "stream",
     "text": [
      "  0%|          | 9/17803 [00:00<04:23, 67.55it/s]\n",
      "  0%|          | 9/17803 [00:00<04:17, 69.15it/s]\n",
      "  0%|          | 0/17803 [00:00<?, ?it/s]\n",
      "  0%|          | 0/17803 [00:00<?, ?it/s]"
     ]
    },
    {
     "name": "stdout",
     "output_type": "stream",
     "text": [
      "39944256.48\n",
      "39943829.05\n",
      "39943770.16\n"
     ]
    },
    {
     "name": "stderr",
     "output_type": "stream",
     "text": [
      "  0%|          | 9/17803 [00:00<03:39, 81.11it/s]\n",
      "  0%|          | 9/17803 [00:00<03:51, 76.85it/s]"
     ]
    },
    {
     "name": "stdout",
     "output_type": "stream",
     "text": [
      "39943750.8\n"
     ]
    },
    {
     "name": "stderr",
     "output_type": "stream",
     "text": [
      "  0%|          | 18/17803 [00:00<03:50, 77.27it/s]\n",
      "  0%|          | 9/17803 [00:00<03:55, 75.61it/s]\n",
      "  0%|          | 0/17803 [00:00<?, ?it/s]"
     ]
    },
    {
     "name": "stdout",
     "output_type": "stream",
     "text": [
      "39943699.86\n",
      "39942011.79\n"
     ]
    },
    {
     "name": "stderr",
     "output_type": "stream",
     "text": [
      "  0%|          | 9/17803 [00:00<03:54, 75.99it/s]\n",
      "  0%|          | 0/17803 [00:00<?, ?it/s]\n",
      "  0%|          | 0/17803 [00:00<?, ?it/s]\n",
      "  0%|          | 0/17803 [00:00<?, ?it/s]\n",
      "  0%|          | 0/17803 [00:00<?, ?it/s]\n",
      "  0%|          | 0/17803 [00:00<?, ?it/s]\n",
      "  0%|          | 0/17803 [00:00<?, ?it/s]\n",
      "  0%|          | 0/17803 [00:00<?, ?it/s]"
     ]
    },
    {
     "name": "stdout",
     "output_type": "stream",
     "text": [
      "39938825.39\n",
      "39938665.82\n",
      "39938627.54\n",
      "39938626.03\n",
      "39935535.38\n",
      "39935314.07\n",
      "39935084.96\n"
     ]
    },
    {
     "name": "stderr",
     "output_type": "stream",
     "text": [
      "\n",
      "  0%|          | 0/17803 [00:00<?, ?it/s]\n",
      "  0%|          | 0/17803 [00:00<?, ?it/s]\n",
      "  0%|          | 0/17803 [00:00<?, ?it/s]\n",
      "  0%|          | 0/17803 [00:00<?, ?it/s]\n",
      "  0%|          | 0/17803 [00:00<?, ?it/s]\n",
      "  0%|          | 0/17803 [00:00<?, ?it/s]"
     ]
    },
    {
     "name": "stdout",
     "output_type": "stream",
     "text": [
      "39934893.98\n",
      "39934845.9\n",
      "39934844.75\n",
      "39934587.62\n",
      "39934426.9\n",
      "39933763.53\n"
     ]
    },
    {
     "name": "stderr",
     "output_type": "stream",
     "text": [
      "\n",
      "  0%|          | 0/17803 [00:00<?, ?it/s]\n",
      "  0%|          | 0/17803 [00:00<?, ?it/s]\n",
      "  0%|          | 0/17803 [00:00<?, ?it/s]\n",
      "  0%|          | 0/17803 [00:00<?, ?it/s]\n",
      "  0%|          | 0/17803 [00:00<?, ?it/s]\n",
      "  0%|          | 0/17803 [00:00<?, ?it/s]\n",
      "  0%|          | 0/17803 [00:00<?, ?it/s]"
     ]
    },
    {
     "name": "stdout",
     "output_type": "stream",
     "text": [
      "39933349.08\n",
      "39933210.25\n",
      "39932818.22\n",
      "39932127.48\n",
      "39931848.93\n",
      "39931107.47\n",
      "39929672.51\n"
     ]
    },
    {
     "name": "stderr",
     "output_type": "stream",
     "text": [
      "  0%|          | 18/17803 [00:00<03:49, 77.52it/s]\n",
      "  0%|          | 9/17803 [00:00<04:09, 71.21it/s]"
     ]
    },
    {
     "name": "stdout",
     "output_type": "stream",
     "text": [
      "39929327.07\n"
     ]
    },
    {
     "name": "stderr",
     "output_type": "stream",
     "text": [
      "  0%|          | 18/17803 [00:00<03:59, 74.25it/s]\n",
      "  0%|          | 18/17803 [00:00<03:05, 95.85it/s]"
     ]
    },
    {
     "name": "stdout",
     "output_type": "stream",
     "text": [
      "39925764.65\n"
     ]
    },
    {
     "name": "stderr",
     "output_type": "stream",
     "text": [
      "\n",
      "  0%|          | 9/17803 [00:00<03:44, 79.25it/s]"
     ]
    },
    {
     "name": "stdout",
     "output_type": "stream",
     "text": [
      "39925683.15\n"
     ]
    },
    {
     "name": "stderr",
     "output_type": "stream",
     "text": [
      "  0%|          | 18/17803 [00:00<03:46, 78.48it/s]\n",
      "  0%|          | 9/17803 [00:00<04:08, 71.71it/s]"
     ]
    },
    {
     "name": "stdout",
     "output_type": "stream",
     "text": [
      "39925633.74\n"
     ]
    },
    {
     "name": "stderr",
     "output_type": "stream",
     "text": [
      "  0%|          | 18/17803 [00:00<04:03, 73.12it/s]\n",
      "  0%|          | 9/17803 [00:00<04:01, 73.64it/s]"
     ]
    },
    {
     "name": "stdout",
     "output_type": "stream",
     "text": [
      "39925316.47\n"
     ]
    },
    {
     "name": "stderr",
     "output_type": "stream",
     "text": [
      "  0%|          | 18/17803 [00:00<03:58, 74.64it/s]\n",
      "  0%|          | 9/17803 [00:00<04:09, 71.31it/s]"
     ]
    },
    {
     "name": "stdout",
     "output_type": "stream",
     "text": [
      "39924808.94\n"
     ]
    },
    {
     "name": "stderr",
     "output_type": "stream",
     "text": [
      "  0%|          | 18/17803 [00:00<04:05, 72.37it/s]\n",
      "  0%|          | 9/17803 [00:00<04:04, 72.85it/s]"
     ]
    },
    {
     "name": "stdout",
     "output_type": "stream",
     "text": [
      "39924453.08\n"
     ]
    },
    {
     "name": "stderr",
     "output_type": "stream",
     "text": [
      "  0%|          | 27/17803 [00:00<03:56, 75.24it/s]\n",
      "  0%|          | 9/17803 [00:00<03:58, 74.55it/s]"
     ]
    },
    {
     "name": "stdout",
     "output_type": "stream",
     "text": [
      "39924251.15\n"
     ]
    },
    {
     "name": "stderr",
     "output_type": "stream",
     "text": [
      "  0%|          | 36/17803 [00:00<03:42, 79.71it/s]\n",
      "  0%|          | 9/17803 [00:00<04:01, 73.58it/s]"
     ]
    },
    {
     "name": "stdout",
     "output_type": "stream",
     "text": [
      "39923701.08\n"
     ]
    },
    {
     "name": "stderr",
     "output_type": "stream",
     "text": [
      "  0%|          | 54/17803 [00:00<03:29, 84.53it/s]\n",
      "  0%|          | 9/17803 [00:00<03:57, 74.92it/s]"
     ]
    },
    {
     "name": "stdout",
     "output_type": "stream",
     "text": [
      "39923535.51\n"
     ]
    },
    {
     "name": "stderr",
     "output_type": "stream",
     "text": [
      "  0%|          | 18/17803 [00:00<03:51, 76.74it/s]\n",
      "  0%|          | 9/17803 [00:00<03:41, 80.40it/s]"
     ]
    },
    {
     "name": "stdout",
     "output_type": "stream",
     "text": [
      "39923297.97\n"
     ]
    },
    {
     "name": "stderr",
     "output_type": "stream",
     "text": [
      "\n",
      "  0%|          | 9/17803 [00:00<03:52, 76.47it/s]"
     ]
    },
    {
     "name": "stdout",
     "output_type": "stream",
     "text": [
      "39923163.75\n"
     ]
    },
    {
     "name": "stderr",
     "output_type": "stream",
     "text": [
      "  0%|          | 18/17803 [00:00<03:51, 76.83it/s]\n",
      "  0%|          | 9/17803 [00:00<04:03, 73.10it/s]"
     ]
    },
    {
     "name": "stdout",
     "output_type": "stream",
     "text": [
      "39922150.07\n"
     ]
    },
    {
     "name": "stderr",
     "output_type": "stream",
     "text": [
      "  0%|          | 18/17803 [00:00<04:02, 73.38it/s]\n",
      "  0%|          | 9/17803 [00:00<04:39, 63.62it/s]"
     ]
    },
    {
     "name": "stdout",
     "output_type": "stream",
     "text": [
      "39922095.32\n"
     ]
    },
    {
     "name": "stderr",
     "output_type": "stream",
     "text": [
      "  0%|          | 18/17803 [00:00<04:33, 64.93it/s]\n",
      "  0%|          | 9/17803 [00:00<04:29, 66.14it/s]"
     ]
    },
    {
     "name": "stdout",
     "output_type": "stream",
     "text": [
      "39921758.4\n"
     ]
    },
    {
     "name": "stderr",
     "output_type": "stream",
     "text": [
      "  0%|          | 18/17803 [00:00<04:20, 68.17it/s]\n",
      "  0%|          | 9/17803 [00:00<04:02, 73.28it/s]"
     ]
    },
    {
     "name": "stdout",
     "output_type": "stream",
     "text": [
      "39919837.16\n"
     ]
    },
    {
     "name": "stderr",
     "output_type": "stream",
     "text": [
      "  0%|          | 18/17803 [00:00<04:01, 73.64it/s]\n",
      "  0%|          | 9/17803 [00:00<03:21, 88.50it/s]"
     ]
    },
    {
     "name": "stdout",
     "output_type": "stream",
     "text": [
      "39919484.5\n"
     ]
    },
    {
     "name": "stderr",
     "output_type": "stream",
     "text": [
      "\n",
      "  0%|          | 18/17803 [00:00<03:12, 92.49it/s]"
     ]
    },
    {
     "name": "stdout",
     "output_type": "stream",
     "text": [
      "39919278.35\n"
     ]
    },
    {
     "name": "stderr",
     "output_type": "stream",
     "text": [
      "\n",
      "  0%|          | 9/17803 [00:00<03:52, 76.50it/s]"
     ]
    },
    {
     "name": "stdout",
     "output_type": "stream",
     "text": [
      "39919155.82\n"
     ]
    },
    {
     "name": "stderr",
     "output_type": "stream",
     "text": [
      "  0%|          | 18/17803 [00:00<03:51, 76.78it/s]\n",
      "  0%|          | 0/17803 [00:00<?, ?it/s]\n",
      "  0%|          | 0/17803 [00:00<?, ?it/s]\n",
      "  0%|          | 0/17803 [00:00<?, ?it/s]\n",
      "  0%|          | 0/17803 [00:00<?, ?it/s]\n",
      "  0%|          | 0/17803 [00:00<?, ?it/s]\n",
      "  0%|          | 0/17803 [00:00<?, ?it/s]\n",
      "  0%|          | 0/17803 [00:00<?, ?it/s]\n",
      "  0%|          | 0/17803 [00:00<?, ?it/s]\n",
      "  0%|          | 0/17803 [00:00<?, ?it/s]"
     ]
    },
    {
     "name": "stdout",
     "output_type": "stream",
     "text": [
      "39919138.59\n",
      "39918932.83\n",
      "39918846.77\n",
      "39916693.15\n",
      "39916128.94\n",
      "39914863.87\n",
      "39914817.08\n",
      "39914235.22\n",
      "39911620.92\n"
     ]
    },
    {
     "name": "stderr",
     "output_type": "stream",
     "text": [
      "\n",
      "  0%|          | 9/17803 [00:00<03:56, 75.23it/s]\n",
      "  0%|          | 0/17803 [00:00<?, ?it/s]"
     ]
    },
    {
     "name": "stdout",
     "output_type": "stream",
     "text": [
      "39909888.54\n",
      "39909572.37\n"
     ]
    },
    {
     "name": "stderr",
     "output_type": "stream",
     "text": [
      "  0%|          | 9/17803 [00:00<03:59, 74.30it/s]\n",
      "  0%|          | 9/17803 [00:00<03:58, 74.57it/s]\n",
      "  0%|          | 0/17803 [00:00<?, ?it/s]"
     ]
    },
    {
     "name": "stdout",
     "output_type": "stream",
     "text": [
      "39907198.79\n",
      "39907165.45\n"
     ]
    },
    {
     "name": "stderr",
     "output_type": "stream",
     "text": [
      "  0%|          | 9/17803 [00:00<04:18, 68.78it/s]\n",
      "  0%|          | 9/17803 [00:00<04:06, 72.26it/s]\n",
      "  0%|          | 0/17803 [00:00<?, ?it/s]"
     ]
    },
    {
     "name": "stdout",
     "output_type": "stream",
     "text": [
      "39907059.17\n",
      "39906399.81\n"
     ]
    },
    {
     "name": "stderr",
     "output_type": "stream",
     "text": [
      "  0%|          | 9/17803 [00:00<04:15, 69.57it/s]\n",
      "  0%|          | 9/17803 [00:00<04:01, 73.58it/s]\n",
      "  0%|          | 0/17803 [00:00<?, ?it/s]"
     ]
    },
    {
     "name": "stdout",
     "output_type": "stream",
     "text": [
      "39906320.56\n",
      "39905288.86\n"
     ]
    },
    {
     "name": "stderr",
     "output_type": "stream",
     "text": [
      "  0%|          | 9/17803 [00:00<04:12, 70.48it/s]\n",
      "  0%|          | 9/17803 [00:00<03:49, 77.68it/s]\n",
      "  0%|          | 0/17803 [00:00<?, ?it/s]"
     ]
    },
    {
     "name": "stdout",
     "output_type": "stream",
     "text": [
      "39905214.94\n",
      "39904721.04\n"
     ]
    },
    {
     "name": "stderr",
     "output_type": "stream",
     "text": [
      "  0%|          | 9/17803 [00:00<04:07, 71.92it/s]\n",
      "  0%|          | 9/17803 [00:00<03:52, 76.50it/s]\n",
      "  0%|          | 0/17803 [00:00<?, ?it/s]"
     ]
    },
    {
     "name": "stdout",
     "output_type": "stream",
     "text": [
      "39904561.48\n",
      "39904467.68\n"
     ]
    },
    {
     "name": "stderr",
     "output_type": "stream",
     "text": [
      "  0%|          | 18/17803 [00:00<03:46, 78.41it/s]\n",
      "  0%|          | 9/17803 [00:00<03:49, 77.49it/s]"
     ]
    },
    {
     "name": "stdout",
     "output_type": "stream",
     "text": [
      "39904133.89\n"
     ]
    },
    {
     "name": "stderr",
     "output_type": "stream",
     "text": [
      "  0%|          | 18/17803 [00:00<03:47, 78.26it/s]\n",
      "  0%|          | 9/17803 [00:00<03:54, 75.94it/s]\n",
      "  0%|          | 0/17803 [00:00<?, ?it/s]"
     ]
    },
    {
     "name": "stdout",
     "output_type": "stream",
     "text": [
      "39904082.03\n",
      "39904024.16\n"
     ]
    },
    {
     "name": "stderr",
     "output_type": "stream",
     "text": [
      "\n",
      "  0%|          | 0/17803 [00:00<?, ?it/s]\n",
      "  0%|          | 0/17803 [00:00<?, ?it/s]\n",
      "  0%|          | 0/17803 [00:00<?, ?it/s]\n",
      "  0%|          | 0/17803 [00:00<?, ?it/s]\n",
      "  0%|          | 0/17803 [00:00<?, ?it/s]\n",
      "  0%|          | 0/17803 [00:00<?, ?it/s]"
     ]
    },
    {
     "name": "stdout",
     "output_type": "stream",
     "text": [
      "39903337.9\n",
      "39903306.71\n",
      "39902898.71\n",
      "39902362.55\n",
      "39902118.05\n",
      "39902036.79\n",
      "39900508.47\n"
     ]
    },
    {
     "name": "stderr",
     "output_type": "stream",
     "text": [
      "\n",
      "  0%|          | 9/17803 [00:00<04:02, 73.26it/s]\n",
      "  0%|          | 9/17803 [00:00<03:49, 77.42it/s]\n",
      "  0%|          | 0/17803 [00:00<?, ?it/s]"
     ]
    },
    {
     "name": "stdout",
     "output_type": "stream",
     "text": [
      "39900494.35\n",
      "39900371.3\n"
     ]
    },
    {
     "name": "stderr",
     "output_type": "stream",
     "text": [
      "  0%|          | 36/17803 [00:00<03:38, 81.21it/s]\n",
      "  0%|          | 9/17803 [00:00<03:55, 75.56it/s]"
     ]
    },
    {
     "name": "stdout",
     "output_type": "stream",
     "text": [
      "39900200.43\n"
     ]
    },
    {
     "name": "stderr",
     "output_type": "stream",
     "text": [
      "  0%|          | 45/17803 [00:00<03:27, 85.66it/s]\n",
      "  0%|          | 9/17803 [00:00<03:26, 86.34it/s]\n",
      "  0%|          | 0/17803 [00:00<?, ?it/s]"
     ]
    },
    {
     "name": "stdout",
     "output_type": "stream",
     "text": [
      "39899425.93\n",
      "39897712.2\n"
     ]
    },
    {
     "name": "stderr",
     "output_type": "stream",
     "text": [
      "  0%|          | 18/17803 [00:00<02:51, 103.58it/s]\n",
      "  0%|          | 9/17803 [00:00<03:32, 83.93it/s]"
     ]
    },
    {
     "name": "stdout",
     "output_type": "stream",
     "text": [
      "39897486.65\n"
     ]
    },
    {
     "name": "stderr",
     "output_type": "stream",
     "text": [
      "\n",
      "  0%|          | 9/17803 [00:00<03:34, 82.83it/s]"
     ]
    },
    {
     "name": "stdout",
     "output_type": "stream",
     "text": [
      "39897400.3\n"
     ]
    },
    {
     "name": "stderr",
     "output_type": "stream",
     "text": [
      "  0%|          | 36/17803 [00:00<03:57, 74.81it/s]\n",
      "  0%|          | 9/17803 [00:00<04:30, 65.70it/s]"
     ]
    },
    {
     "name": "stdout",
     "output_type": "stream",
     "text": [
      "39896413.83\n"
     ]
    },
    {
     "name": "stderr",
     "output_type": "stream",
     "text": [
      "  0%|          | 27/17803 [00:00<04:07, 71.75it/s]\n",
      "  0%|          | 9/17803 [00:00<03:58, 74.48it/s]"
     ]
    },
    {
     "name": "stdout",
     "output_type": "stream",
     "text": [
      "39896299.72\n"
     ]
    },
    {
     "name": "stderr",
     "output_type": "stream",
     "text": [
      "  0%|          | 18/17803 [00:00<03:55, 75.39it/s]\n",
      "  0%|          | 9/17803 [00:00<03:58, 74.73it/s]"
     ]
    },
    {
     "name": "stdout",
     "output_type": "stream",
     "text": [
      "39896206.82\n"
     ]
    },
    {
     "name": "stderr",
     "output_type": "stream",
     "text": [
      "  0%|          | 18/17803 [00:00<03:47, 78.05it/s]\n",
      "  0%|          | 9/17803 [00:00<03:51, 76.74it/s]"
     ]
    },
    {
     "name": "stdout",
     "output_type": "stream",
     "text": [
      "39895564.31\n"
     ]
    },
    {
     "name": "stderr",
     "output_type": "stream",
     "text": [
      "  0%|          | 18/17803 [00:00<03:48, 77.72it/s]\n",
      "  0%|          | 9/17803 [00:00<03:58, 74.59it/s]"
     ]
    },
    {
     "name": "stdout",
     "output_type": "stream",
     "text": [
      "39895318.89\n"
     ]
    },
    {
     "name": "stderr",
     "output_type": "stream",
     "text": [
      "\n",
      "  0%|          | 9/17803 [00:00<03:59, 74.35it/s]"
     ]
    },
    {
     "name": "stdout",
     "output_type": "stream",
     "text": [
      "39895193.29\n"
     ]
    },
    {
     "name": "stderr",
     "output_type": "stream",
     "text": [
      "  0%|          | 18/17803 [00:00<03:56, 75.20it/s]\n",
      "  0%|          | 9/17803 [00:00<04:12, 70.40it/s]"
     ]
    },
    {
     "name": "stdout",
     "output_type": "stream",
     "text": [
      "39895144.55\n"
     ]
    },
    {
     "name": "stderr",
     "output_type": "stream",
     "text": [
      "  0%|          | 18/17803 [00:00<04:08, 71.49it/s]\n",
      "  0%|          | 9/17803 [00:00<03:52, 76.38it/s]"
     ]
    },
    {
     "name": "stdout",
     "output_type": "stream",
     "text": [
      "39894622.04\n"
     ]
    },
    {
     "name": "stderr",
     "output_type": "stream",
     "text": [
      "  0%|          | 27/17803 [00:00<03:44, 79.14it/s]\n",
      "  0%|          | 9/17803 [00:00<04:03, 72.94it/s]"
     ]
    },
    {
     "name": "stdout",
     "output_type": "stream",
     "text": [
      "39894062.0\n"
     ]
    },
    {
     "name": "stderr",
     "output_type": "stream",
     "text": [
      "  0%|          | 18/17803 [00:00<04:00, 74.06it/s]\n",
      "  0%|          | 9/17803 [00:00<03:50, 77.21it/s]"
     ]
    },
    {
     "name": "stdout",
     "output_type": "stream",
     "text": [
      "39893857.35\n"
     ]
    },
    {
     "name": "stderr",
     "output_type": "stream",
     "text": [
      "  0%|          | 27/17803 [00:00<03:43, 79.37it/s]\n",
      "  0%|          | 9/17803 [00:00<03:57, 74.80it/s]"
     ]
    },
    {
     "name": "stdout",
     "output_type": "stream",
     "text": [
      "39893849.93\n"
     ]
    },
    {
     "name": "stderr",
     "output_type": "stream",
     "text": [
      "  0%|          | 18/17803 [00:00<03:56, 75.12it/s]\n",
      "  0%|          | 9/17803 [00:00<03:48, 78.03it/s]"
     ]
    },
    {
     "name": "stdout",
     "output_type": "stream",
     "text": [
      "39893714.98\n"
     ]
    },
    {
     "name": "stderr",
     "output_type": "stream",
     "text": [
      "  0%|          | 27/17803 [00:00<03:42, 79.86it/s]\n",
      "  0%|          | 9/17803 [00:00<03:49, 77.47it/s]\n",
      "  0%|          | 0/17803 [00:00<?, ?it/s]"
     ]
    },
    {
     "name": "stdout",
     "output_type": "stream",
     "text": [
      "39893532.38\n",
      "39893504.7\n"
     ]
    },
    {
     "name": "stderr",
     "output_type": "stream",
     "text": [
      "  0%|          | 18/17803 [00:00<03:57, 74.89it/s]\n",
      "  0%|          | 9/17803 [00:00<04:18, 68.72it/s]\n",
      "  0%|          | 0/17803 [00:00<?, ?it/s]"
     ]
    },
    {
     "name": "stdout",
     "output_type": "stream",
     "text": [
      "39893293.2\n",
      "39893251.97\n"
     ]
    },
    {
     "name": "stderr",
     "output_type": "stream",
     "text": [
      "  0%|          | 18/17803 [00:00<03:52, 76.41it/s]\n",
      "  0%|          | 0/17803 [00:00<?, ?it/s]\n",
      "  0%|          | 0/17803 [00:00<?, ?it/s]"
     ]
    },
    {
     "name": "stdout",
     "output_type": "stream",
     "text": [
      "39893250.45\n",
      "39893090.34\n"
     ]
    },
    {
     "name": "stderr",
     "output_type": "stream",
     "text": [
      "  0%|          | 9/17803 [00:00<03:45, 78.91it/s]\n",
      "  0%|          | 9/17803 [00:00<04:06, 72.23it/s]\n",
      "  0%|          | 0/17803 [00:00<?, ?it/s]"
     ]
    },
    {
     "name": "stdout",
     "output_type": "stream",
     "text": [
      "39892851.16\n",
      "39892211.99\n"
     ]
    },
    {
     "name": "stderr",
     "output_type": "stream",
     "text": [
      "  0%|          | 18/17803 [00:00<03:28, 85.23it/s]\n",
      "  0%|          | 9/17803 [00:00<03:55, 75.45it/s]"
     ]
    },
    {
     "name": "stdout",
     "output_type": "stream",
     "text": [
      "39890862.07\n"
     ]
    },
    {
     "name": "stderr",
     "output_type": "stream",
     "text": [
      "  0%|          | 18/17803 [00:00<03:47, 78.21it/s]\n",
      "  0%|          | 9/17803 [00:00<04:06, 72.20it/s]"
     ]
    },
    {
     "name": "stdout",
     "output_type": "stream",
     "text": [
      "39890628.14\n"
     ]
    },
    {
     "name": "stderr",
     "output_type": "stream",
     "text": [
      "  0%|          | 18/17803 [00:00<04:05, 72.59it/s]\n",
      "  0%|          | 9/17803 [00:00<03:56, 75.27it/s]\n",
      "  0%|          | 0/17803 [00:00<?, ?it/s]"
     ]
    },
    {
     "name": "stdout",
     "output_type": "stream",
     "text": [
      "39890374.77\n",
      "39890359.07\n"
     ]
    },
    {
     "name": "stderr",
     "output_type": "stream",
     "text": [
      "  0%|          | 9/17803 [00:00<04:02, 73.25it/s]\n",
      "  0%|          | 9/17803 [00:00<03:50, 77.12it/s]"
     ]
    },
    {
     "name": "stdout",
     "output_type": "stream",
     "text": [
      "39890295.71\n"
     ]
    },
    {
     "name": "stderr",
     "output_type": "stream",
     "text": [
      "  0%|          | 18/17803 [00:00<03:44, 79.06it/s]\n",
      "  0%|          | 9/17803 [00:00<04:13, 70.16it/s]"
     ]
    },
    {
     "name": "stdout",
     "output_type": "stream",
     "text": [
      "39890132.1\n"
     ]
    },
    {
     "name": "stderr",
     "output_type": "stream",
     "text": [
      "  0%|          | 18/17803 [00:00<04:16, 69.43it/s]\n",
      "  0%|          | 9/17803 [00:00<05:02, 58.77it/s]"
     ]
    },
    {
     "name": "stdout",
     "output_type": "stream",
     "text": [
      "39889528.62\n"
     ]
    },
    {
     "name": "stderr",
     "output_type": "stream",
     "text": [
      "  0%|          | 45/17803 [00:00<04:00, 73.83it/s]\n",
      "  0%|          | 9/17803 [00:00<03:29, 85.09it/s]"
     ]
    },
    {
     "name": "stdout",
     "output_type": "stream",
     "text": [
      "39888986.59\n"
     ]
    },
    {
     "name": "stderr",
     "output_type": "stream",
     "text": [
      "  0%|          | 72/17803 [00:00<03:08, 94.16it/s]\n",
      "  0%|          | 9/17803 [00:00<04:17, 69.18it/s]"
     ]
    },
    {
     "name": "stdout",
     "output_type": "stream",
     "text": [
      "39888863.78\n"
     ]
    },
    {
     "name": "stderr",
     "output_type": "stream",
     "text": [
      "  0%|          | 36/17803 [00:00<03:57, 74.88it/s]\n",
      "  0%|          | 9/17803 [00:00<03:41, 80.24it/s]"
     ]
    },
    {
     "name": "stdout",
     "output_type": "stream",
     "text": [
      "39888216.19\n"
     ]
    },
    {
     "name": "stderr",
     "output_type": "stream",
     "text": [
      "  0%|          | 18/17803 [00:00<03:40, 80.57it/s]\n",
      "  0%|          | 9/17803 [00:00<03:43, 79.57it/s]"
     ]
    },
    {
     "name": "stdout",
     "output_type": "stream",
     "text": [
      "39888192.75\n"
     ]
    },
    {
     "name": "stderr",
     "output_type": "stream",
     "text": [
      "\n",
      "  0%|          | 9/17803 [00:00<04:46, 62.11it/s]"
     ]
    },
    {
     "name": "stdout",
     "output_type": "stream",
     "text": [
      "39888160.34\n"
     ]
    },
    {
     "name": "stderr",
     "output_type": "stream",
     "text": [
      "  0%|          | 18/17803 [00:00<04:43, 62.82it/s]\n",
      "  0%|          | 9/17803 [00:00<03:53, 76.19it/s]\n",
      "  0%|          | 0/17803 [00:00<?, ?it/s]\n"
     ]
    },
    {
     "name": "stdout",
     "output_type": "stream",
     "text": [
      "39887567.33\n",
      "39887112.8\n"
     ]
    },
    {
     "ename": "KeyboardInterrupt",
     "evalue": "",
     "output_type": "error",
     "traceback": [
      "\u001b[0;31m---------------------------------------------------------------------------\u001b[0m",
      "\u001b[0;31mKeyboardInterrupt\u001b[0m                         Traceback (most recent call last)",
      "\u001b[0;32m<ipython-input-51-f7f07181dee4>\u001b[0m in \u001b[0;36m<module>\u001b[0;34m\u001b[0m\n\u001b[0;32m----> 1\u001b[0;31m \u001b[0mroute\u001b[0m \u001b[0;34m=\u001b[0m \u001b[0mrun_2opt\u001b[0m\u001b[0;34m(\u001b[0m\u001b[0mtour\u001b[0m\u001b[0;34m)\u001b[0m\u001b[0;34m\u001b[0m\u001b[0m\n\u001b[0m",
      "\u001b[0;32m<ipython-input-49-6cd3eb5e1226>\u001b[0m in \u001b[0;36mrun_2opt\u001b[0;34m(route)\u001b[0m\n\u001b[1;32m     17\u001b[0m                     \u001b[0;32mif\u001b[0m \u001b[0misprime\u001b[0m\u001b[0;34m(\u001b[0m\u001b[0mk\u001b[0m\u001b[0;34m)\u001b[0m\u001b[0;34m:\u001b[0m\u001b[0;34m\u001b[0m\u001b[0m\n\u001b[1;32m     18\u001b[0m                         \u001b[0mnew_route\u001b[0m \u001b[0;34m=\u001b[0m \u001b[0mswap_2opt\u001b[0m\u001b[0;34m(\u001b[0m\u001b[0mbest_route\u001b[0m\u001b[0;34m,\u001b[0m \u001b[0mi\u001b[0m\u001b[0;34m,\u001b[0m \u001b[0mk\u001b[0m\u001b[0;34m)\u001b[0m\u001b[0;34m\u001b[0m\u001b[0m\n\u001b[0;32m---> 19\u001b[0;31m                         \u001b[0mnew_distance\u001b[0m \u001b[0;34m=\u001b[0m \u001b[0mnew_route\u001b[0m\u001b[0;34m.\u001b[0m\u001b[0mscore\u001b[0m\u001b[0;34m(\u001b[0m\u001b[0;34m)\u001b[0m\u001b[0;34m\u001b[0m\u001b[0m\n\u001b[0m\u001b[1;32m     20\u001b[0m                         \u001b[0;32mif\u001b[0m \u001b[0mnew_distance\u001b[0m \u001b[0;34m<\u001b[0m \u001b[0mbest_distance\u001b[0m\u001b[0;34m:\u001b[0m\u001b[0;34m\u001b[0m\u001b[0m\n\u001b[1;32m     21\u001b[0m                             \u001b[0mprint\u001b[0m\u001b[0;34m(\u001b[0m\u001b[0mnew_distance\u001b[0m\u001b[0;34m)\u001b[0m\u001b[0;34m\u001b[0m\u001b[0m\n",
      "\u001b[0;32m<ipython-input-5-64c3922e3a84>\u001b[0m in \u001b[0;36mscore\u001b[0;34m(self)\u001b[0m\n\u001b[1;32m      9\u001b[0m     \u001b[0;32mdef\u001b[0m \u001b[0mscore\u001b[0m\u001b[0;34m(\u001b[0m\u001b[0mself\u001b[0m\u001b[0;34m)\u001b[0m\u001b[0;34m:\u001b[0m\u001b[0;34m\u001b[0m\u001b[0m\n\u001b[1;32m     10\u001b[0m         \u001b[0mdf\u001b[0m \u001b[0;34m=\u001b[0m \u001b[0mcities\u001b[0m\u001b[0;34m.\u001b[0m\u001b[0mreindex\u001b[0m\u001b[0;34m(\u001b[0m\u001b[0mself\u001b[0m\u001b[0;34m)\u001b[0m\u001b[0;34m\u001b[0m\u001b[0m\n\u001b[0;32m---> 11\u001b[0;31m         \u001b[0mdist\u001b[0m \u001b[0;34m=\u001b[0m \u001b[0mnp\u001b[0m\u001b[0;34m.\u001b[0m\u001b[0mhypot\u001b[0m\u001b[0;34m(\u001b[0m\u001b[0mdf\u001b[0m\u001b[0;34m.\u001b[0m\u001b[0mX\u001b[0m\u001b[0;34m.\u001b[0m\u001b[0mdiff\u001b[0m\u001b[0;34m(\u001b[0m\u001b[0;34m-\u001b[0m\u001b[0;36m1\u001b[0m\u001b[0;34m)\u001b[0m\u001b[0;34m,\u001b[0m \u001b[0mdf\u001b[0m\u001b[0;34m.\u001b[0m\u001b[0mY\u001b[0m\u001b[0;34m.\u001b[0m\u001b[0mdiff\u001b[0m\u001b[0;34m(\u001b[0m\u001b[0;34m-\u001b[0m\u001b[0;36m1\u001b[0m\u001b[0;34m)\u001b[0m\u001b[0;34m)\u001b[0m\u001b[0;34m\u001b[0m\u001b[0m\n\u001b[0m\u001b[1;32m     12\u001b[0m         \u001b[0mpenalty\u001b[0m \u001b[0;34m=\u001b[0m \u001b[0;36m0.1\u001b[0m \u001b[0;34m*\u001b[0m \u001b[0mdist\u001b[0m\u001b[0;34m[\u001b[0m\u001b[0;36m9\u001b[0m\u001b[0;34m:\u001b[0m\u001b[0;34m:\u001b[0m\u001b[0;36m10\u001b[0m\u001b[0;34m]\u001b[0m \u001b[0;34m*\u001b[0m \u001b[0mself\u001b[0m\u001b[0;34m.\u001b[0m\u001b[0mpenalized\u001b[0m\u001b[0;34m[\u001b[0m\u001b[0mself\u001b[0m\u001b[0;34m[\u001b[0m\u001b[0;36m9\u001b[0m\u001b[0;34m:\u001b[0m\u001b[0;34m:\u001b[0m\u001b[0;36m10\u001b[0m\u001b[0;34m]\u001b[0m\u001b[0;34m]\u001b[0m\u001b[0;34m\u001b[0m\u001b[0m\n\u001b[1;32m     13\u001b[0m         \u001b[0m_score\u001b[0m \u001b[0;34m=\u001b[0m \u001b[0mdist\u001b[0m\u001b[0;34m.\u001b[0m\u001b[0msum\u001b[0m\u001b[0;34m(\u001b[0m\u001b[0;34m)\u001b[0m \u001b[0;34m+\u001b[0m \u001b[0mpenalty\u001b[0m\u001b[0;34m.\u001b[0m\u001b[0msum\u001b[0m\u001b[0;34m(\u001b[0m\u001b[0;34m)\u001b[0m\u001b[0;34m\u001b[0m\u001b[0m\n",
      "\u001b[0;32m~/.local/share/virtualenvs/kaggle-traveling-santa-2018-prime-paths-3WV7d9iS/lib/python3.6/site-packages/pandas/core/series.py\u001b[0m in \u001b[0;36mdiff\u001b[0;34m(self, periods)\u001b[0m\n\u001b[1;32m   1994\u001b[0m         \"\"\"\n\u001b[1;32m   1995\u001b[0m         \u001b[0mresult\u001b[0m \u001b[0;34m=\u001b[0m \u001b[0malgorithms\u001b[0m\u001b[0;34m.\u001b[0m\u001b[0mdiff\u001b[0m\u001b[0;34m(\u001b[0m\u001b[0mcom\u001b[0m\u001b[0;34m.\u001b[0m\u001b[0m_values_from_object\u001b[0m\u001b[0;34m(\u001b[0m\u001b[0mself\u001b[0m\u001b[0;34m)\u001b[0m\u001b[0;34m,\u001b[0m \u001b[0mperiods\u001b[0m\u001b[0;34m)\u001b[0m\u001b[0;34m\u001b[0m\u001b[0m\n\u001b[0;32m-> 1996\u001b[0;31m         \u001b[0;32mreturn\u001b[0m \u001b[0mself\u001b[0m\u001b[0;34m.\u001b[0m\u001b[0m_constructor\u001b[0m\u001b[0;34m(\u001b[0m\u001b[0mresult\u001b[0m\u001b[0;34m,\u001b[0m \u001b[0mindex\u001b[0m\u001b[0;34m=\u001b[0m\u001b[0mself\u001b[0m\u001b[0;34m.\u001b[0m\u001b[0mindex\u001b[0m\u001b[0;34m)\u001b[0m\u001b[0;34m.\u001b[0m\u001b[0m__finalize__\u001b[0m\u001b[0;34m(\u001b[0m\u001b[0mself\u001b[0m\u001b[0;34m)\u001b[0m\u001b[0;34m\u001b[0m\u001b[0m\n\u001b[0m\u001b[1;32m   1997\u001b[0m \u001b[0;34m\u001b[0m\u001b[0m\n\u001b[1;32m   1998\u001b[0m     \u001b[0;32mdef\u001b[0m \u001b[0mautocorr\u001b[0m\u001b[0;34m(\u001b[0m\u001b[0mself\u001b[0m\u001b[0;34m,\u001b[0m \u001b[0mlag\u001b[0m\u001b[0;34m=\u001b[0m\u001b[0;36m1\u001b[0m\u001b[0;34m)\u001b[0m\u001b[0;34m:\u001b[0m\u001b[0;34m\u001b[0m\u001b[0m\n",
      "\u001b[0;32m~/.local/share/virtualenvs/kaggle-traveling-santa-2018-prime-paths-3WV7d9iS/lib/python3.6/site-packages/pandas/core/series.py\u001b[0m in \u001b[0;36m__init__\u001b[0;34m(self, data, index, dtype, name, copy, fastpath)\u001b[0m\n\u001b[1;32m    272\u001b[0m                     \u001b[0mdata\u001b[0m \u001b[0;34m=\u001b[0m \u001b[0mdata\u001b[0m\u001b[0;34m.\u001b[0m\u001b[0mcopy\u001b[0m\u001b[0;34m(\u001b[0m\u001b[0;34m)\u001b[0m\u001b[0;34m\u001b[0m\u001b[0m\n\u001b[1;32m    273\u001b[0m             \u001b[0;32melse\u001b[0m\u001b[0;34m:\u001b[0m\u001b[0;34m\u001b[0m\u001b[0m\n\u001b[0;32m--> 274\u001b[0;31m                 data = _sanitize_array(data, index, dtype, copy,\n\u001b[0m\u001b[1;32m    275\u001b[0m                                        raise_cast_failure=True)\n\u001b[1;32m    276\u001b[0m \u001b[0;34m\u001b[0m\u001b[0m\n",
      "\u001b[0;31mKeyboardInterrupt\u001b[0m: "
     ]
    }
   ],
   "source": [
    "route = run_2opt(tour)"
   ]
  },
  {
   "cell_type": "code",
   "execution_count": null,
   "metadata": {},
   "outputs": [],
   "source": []
  }
 ],
 "metadata": {
  "kernelspec": {
   "display_name": "Python 3",
   "language": "python",
   "name": "python3"
  },
  "language_info": {
   "codemirror_mode": {
    "name": "ipython",
    "version": 3
   },
   "file_extension": ".py",
   "mimetype": "text/x-python",
   "name": "python",
   "nbconvert_exporter": "python",
   "pygments_lexer": "ipython3",
   "version": "3.6.1"
  }
 },
 "nbformat": 4,
 "nbformat_minor": 2
}
