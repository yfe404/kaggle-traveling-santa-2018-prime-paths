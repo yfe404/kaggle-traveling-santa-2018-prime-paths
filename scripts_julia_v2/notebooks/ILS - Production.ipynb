{
 "cells": [
  {
   "cell_type": "code",
   "execution_count": null,
   "metadata": {},
   "outputs": [],
   "source": [
    "import Pkg; Pkg.activate(\"..\")\n",
    "push!(LOAD_PATH, \"../src/\");"
   ]
  },
  {
   "cell_type": "code",
   "execution_count": null,
   "metadata": {},
   "outputs": [],
   "source": [
    "# Uncomment to install dependencies\n",
    "# Pkg.instantiate()"
   ]
  },
  {
   "cell_type": "code",
   "execution_count": null,
   "metadata": {},
   "outputs": [],
   "source": [
    "using BenchmarkTools\n",
    "using Combinatorics\n",
    "using ProgressMeter\n",
    "using Plots\n",
    "using Random\n",
    "using Santa"
   ]
  },
  {
   "cell_type": "code",
   "execution_count": null,
   "metadata": {},
   "outputs": [],
   "source": [
    "cities = read_cities(\"../test/cities.csv\");\n",
    "path = read_path(cities, \"../../scripts_julia/outputs/sub_perm_opt_1.516680222109079e6.csv\");"
   ]
  },
  {
   "cell_type": "code",
   "execution_count": null,
   "metadata": {},
   "outputs": [],
   "source": [
    "score(path)"
   ]
  },
  {
   "cell_type": "markdown",
   "metadata": {},
   "source": [
    "### 2-opt"
   ]
  },
  {
   "cell_type": "code",
   "execution_count": null,
   "metadata": {},
   "outputs": [],
   "source": [
    "import NearestNeighbors: KDTree, knn"
   ]
  },
  {
   "cell_type": "code",
   "execution_count": null,
   "metadata": {},
   "outputs": [],
   "source": [
    "function optimize_2opt(init_path::Vector{City}, K::Int)\n",
    "    path = copy(init_path)\n",
    "    path_idxs = collect(1:length(init_path))\n",
    "    \n",
    "    cities_coords = map(c -> c.xy, init_path)\n",
    "    kdtree = KDTree(cities_coords)\n",
    "\n",
    "    @showprogress for i = 2:length(path)-1\n",
    "        best_score, best_idx = 0, 0\n",
    "        for j_init in knn(kdtree, path[i].xy, K)[1]\n",
    "            j = path_idxs[j_init]\n",
    "            ((j == 0) || (j <= i) || (j == length(path))) && continue\n",
    "            s = score_2opt(path, i, j)\n",
    "            if s < best_score\n",
    "                best_score, best_idx = s, j\n",
    "            end\n",
    "        end\n",
    "        if best_idx != 0\n",
    "            reverse!(path, min(i, best_idx), max(i, best_idx))\n",
    "            reverse!(path_idxs, min(i, best_idx), max(i, best_idx))\n",
    "        end\n",
    "    end\n",
    "    \n",
    "    path\n",
    "end"
   ]
  },
  {
   "cell_type": "code",
   "execution_count": null,
   "metadata": {},
   "outputs": [],
   "source": [
    "@time new_path = optimize_2opt(path, 15);"
   ]
  },
  {
   "cell_type": "code",
   "execution_count": null,
   "metadata": {},
   "outputs": [],
   "source": [
    "score(path), score(new_path), verify!(new_path)"
   ]
  },
  {
   "cell_type": "markdown",
   "metadata": {},
   "source": [
    "### 3-opt"
   ]
  },
  {
   "cell_type": "code",
   "execution_count": null,
   "metadata": {},
   "outputs": [],
   "source": [
    "## Non-optimized version\n",
    "# Optimize: limit memory copies, partial/diff scoring\n",
    "function find_best_reconnection_3opt(path::Vector{City}, a::Int, b::Int, c::Int, idxs::Vector{Int}) # idxs is a HACK !\n",
    "    α, β = a-1, c+1\n",
    "    \n",
    "    # Original\n",
    "    original_score = score(path[α:β], start=α)\n",
    "    best_route = path\n",
    "\n",
    "    # Route 4\n",
    "    new_route = vcat(view(path, α:a), view(path, b+1:c), view(path, a+1:b), view(path, c+1:β))\n",
    "    new_score4 = score(new_route, start=α)\n",
    "\n",
    "    # Route 1\n",
    "    reverse!(new_route, 3, 3+c-(b+1))\n",
    "    new_score1 = score(new_route, start=α)\n",
    "    \n",
    "    # Route 3\n",
    "    reverse!(new_route, 3, 3+c-(b+1))\n",
    "    reverse!(new_route, 4+c-(b+1), 4+b-(a+1))\n",
    "    new_score3 = score(new_route, start=α)\n",
    "    \n",
    "    # Route 2\n",
    "    new_route = vcat(view(path, α:a), reverse(view(path, a+1:b)), reverse(view(path, b+1:c)), view(path, c+1:β))\n",
    "    new_score2 = score(new_route, start=α)\n",
    "\n",
    "    best_score, best_idx = findmin([new_score1, new_score2, new_score3, new_score4, original_score])\n",
    "    \n",
    "    if best_idx == 2\n",
    "        best_route = vcat(view(path, 1:a), reverse(view(path, a+1:b)), reverse(view(path, b+1:c)), view(path, c+1:length(path)))\n",
    "        idxs = vcat(view(idxs, 1:a), reverse(view(idxs, a+1:b)), reverse(view(idxs, b+1:c)), view(idxs, c+1:length(idxs)))\n",
    "        #reverse!(new_route, 3, 3+c-(b+1))\n",
    "    elseif best_idx == 1\n",
    "        best_route = vcat(view(path, 1:a), reverse(view(path, b+1:c)), view(path, a+1:b), view(path, c+1:length(path)))\n",
    "        idxs = vcat(view(idxs, 1:a), reverse(view(idxs, b+1:c)), view(idxs, a+1:b), view(idxs, c+1:length(idxs)))\n",
    "        #reverse!(new_route, 3, 3+c-(b+1))\n",
    "        #reverse!(new_route, 4+c-(b+1), 4+b-(a+1))\n",
    "    elseif best_idx == 4\n",
    "        best_route = vcat(view(path, 1:a), view(path, b+1:c), view(path, a+1:b), view(path, c+1:length(path)))\n",
    "        idxs = vcat(view(idxs, 1:a), view(idxs, b+1:c), view(idxs, a+1:b), view(idxs, c+1:length(idxs)))\n",
    "        #reverse!(new_route, 4+c-(b+1), 4+b-(a+1))\n",
    "    elseif best_idx == 3\n",
    "        best_route = vcat(view(path, 1:a), view(path, b+1:c), reverse(view(path, a+1:b)), view(path, c+1:length(path)))\n",
    "        idxs = vcat(view(idxs, 1:a), view(idxs, b+1:c), reverse(view(idxs, a+1:b)), view(idxs, c+1:length(idxs)))\n",
    "    end\n",
    "\n",
    "    best_score, best_route, idxs\n",
    "end"
   ]
  },
  {
   "cell_type": "code",
   "execution_count": null,
   "metadata": {},
   "outputs": [],
   "source": [
    "function optimize_3opt(init_path::Vector{City}, K::Int)\n",
    "    path = copy(init_path)\n",
    "    path_idxs = collect(1:length(init_path))\n",
    "\n",
    "    cities_coords = map(c -> c.xy, init_path)\n",
    "    kdtree = KDTree(cities_coords)\n",
    "    \n",
    "    best_score = score(path)\n",
    "\n",
    "    @showprogress for i = 2:length(path)-1\n",
    "        for j_init in knn(kdtree, path[i].xy, K)[1]\n",
    "            # TODO: Changes nothing break\n",
    "            j = path_idxs[j_init]\n",
    "            ((j == 0) || (j <= i) || (j == length(path))) && continue\n",
    "            \n",
    "            for k_init in knn(kdtree, path[j].xy, K)[1]\n",
    "                k = path_idxs[k_init]\n",
    "                ((k == 0) || (k <= j) || (k == length(path))) && continue\n",
    "                \n",
    "                _, new_route, new_idxs = find_best_reconnection_3opt(path, i, j, k, path_idxs)\n",
    "                new_score = score(new_route)\n",
    "                if new_score < best_score\n",
    "                    best_score = new_score\n",
    "                    path = new_route\n",
    "                    path_idxs = new_idxs\n",
    "                    println(best_score)\n",
    "                    verify!(path)\n",
    "                end\n",
    "            end\n",
    "        end\n",
    "    end\n",
    "    \n",
    "    path\n",
    "end"
   ]
  },
  {
   "cell_type": "code",
   "execution_count": null,
   "metadata": {},
   "outputs": [],
   "source": [
    "new_path_3opt = optimize_3opt(new_path, 15);"
   ]
  },
  {
   "cell_type": "markdown",
   "metadata": {},
   "source": [
    "### Double Bridge"
   ]
  },
  {
   "cell_type": "code",
   "execution_count": null,
   "metadata": {},
   "outputs": [],
   "source": [
    "# non-optimized implementation\n",
    "function double_bridge(path::Vector{City})\n",
    "    i = rand(1:length(path)-8) + 1\n",
    "    ii = i+1\n",
    "    \n",
    "    j = rand(i+2:length(path)-6) + 1\n",
    "    jj = j+1\n",
    "    \n",
    "    k = rand(j+2:length(path)-3) + 1\n",
    "    kk = k+1\n",
    "    \n",
    "    l = rand(k+2:length(path)-2) + 1\n",
    "    ll = l+1\n",
    "    \n",
    "    new_path = vcat(\n",
    "        path[1:i],\n",
    "        path[kk],\n",
    "        path[kk+1:l],\n",
    "        path[jj],\n",
    "        path[jj+1:k],\n",
    "        path[ii],\n",
    "        path[ii+1:j],\n",
    "        path[ll],\n",
    "        path[ll+1:end]\n",
    "    )\n",
    "    \n",
    "    verify!(new_path)\n",
    "    new_path\n",
    "end"
   ]
  },
  {
   "cell_type": "code",
   "execution_count": null,
   "metadata": {},
   "outputs": [],
   "source": [
    "score(path)"
   ]
  },
  {
   "cell_type": "code",
   "execution_count": null,
   "metadata": {},
   "outputs": [],
   "source": [
    "new_path = double_bridge(path)\n",
    "score(new_path)"
   ]
  },
  {
   "cell_type": "code",
   "execution_count": null,
   "metadata": {},
   "outputs": [],
   "source": []
  }
 ],
 "metadata": {
  "kernelspec": {
   "display_name": "Julia 1.0.2",
   "language": "julia",
   "name": "julia-1.0"
  },
  "language_info": {
   "file_extension": ".jl",
   "mimetype": "application/julia",
   "name": "julia",
   "version": "1.0.2"
  }
 },
 "nbformat": 4,
 "nbformat_minor": 2
}
